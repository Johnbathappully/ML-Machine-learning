{
 "cells": [
  {
   "cell_type": "markdown",
   "metadata": {
    "colab_type": "text",
    "id": "fYOHTuW3W7Is"
   },
   "source": [
    "# Cost Function"
   ]
  },
  {
   "cell_type": "code",
   "execution_count": 1,
   "metadata": {
    "colab": {},
    "colab_type": "code",
    "id": "GlJaXfg0iyr8"
   },
   "outputs": [],
   "source": [
    "#import the libraries\n",
    "import matplotlib.pyplot as plt\n",
    "import pandas as pd\n",
    "from sklearn.metrics import mean_squared_error as mse"
   ]
  },
  {
   "cell_type": "markdown",
   "metadata": {
    "colab_type": "text",
    "id": "2Fh-DhXGW-Q7"
   },
   "source": [
    "## Creating sample Data"
   ]
  },
  {
   "cell_type": "code",
   "execution_count": 2,
   "metadata": {
    "colab": {
     "base_uri": "https://localhost:8080/",
     "height": 198
    },
    "colab_type": "code",
    "executionInfo": {
     "elapsed": 1302,
     "status": "ok",
     "timestamp": 1563261342569,
     "user": {
      "displayName": "Sharoon Saxena",
      "photoUrl": "",
      "userId": "14774175216384036942"
     },
     "user_tz": -330
    },
    "id": "RUr712Sti5A8",
    "outputId": "fd9a3b64-c099-4bd1-c448-4d352c64cc46"
   },
   "outputs": [
    {
     "data": {
      "text/html": [
       "<div>\n",
       "<style scoped>\n",
       "    .dataframe tbody tr th:only-of-type {\n",
       "        vertical-align: middle;\n",
       "    }\n",
       "\n",
       "    .dataframe tbody tr th {\n",
       "        vertical-align: top;\n",
       "    }\n",
       "\n",
       "    .dataframe thead th {\n",
       "        text-align: right;\n",
       "    }\n",
       "</style>\n",
       "<table border=\"1\" class=\"dataframe\">\n",
       "  <thead>\n",
       "    <tr style=\"text-align: right;\">\n",
       "      <th></th>\n",
       "      <th>salary</th>\n",
       "      <th>experience</th>\n",
       "    </tr>\n",
       "  </thead>\n",
       "  <tbody>\n",
       "    <tr>\n",
       "      <th>0</th>\n",
       "      <td>1.7</td>\n",
       "      <td>1.2</td>\n",
       "    </tr>\n",
       "    <tr>\n",
       "      <th>1</th>\n",
       "      <td>2.4</td>\n",
       "      <td>1.5</td>\n",
       "    </tr>\n",
       "    <tr>\n",
       "      <th>2</th>\n",
       "      <td>2.3</td>\n",
       "      <td>1.9</td>\n",
       "    </tr>\n",
       "    <tr>\n",
       "      <th>3</th>\n",
       "      <td>3.1</td>\n",
       "      <td>2.2</td>\n",
       "    </tr>\n",
       "    <tr>\n",
       "      <th>4</th>\n",
       "      <td>3.7</td>\n",
       "      <td>2.4</td>\n",
       "    </tr>\n",
       "  </tbody>\n",
       "</table>\n",
       "</div>"
      ],
      "text/plain": [
       "   salary  experience\n",
       "0     1.7         1.2\n",
       "1     2.4         1.5\n",
       "2     2.3         1.9\n",
       "3     3.1         2.2\n",
       "4     3.7         2.4"
      ]
     },
     "execution_count": 2,
     "metadata": {},
     "output_type": "execute_result"
    }
   ],
   "source": [
    "# creating the sample dataset\n",
    "experience = [1.2,1.5,1.9,2.2,2.4,2.5,2.8,3.1,3.3,3.7,4.2,4.4]\n",
    "salary     = [1.7,2.4,2.3,3.1,3.7,4.2,4.4,6.1,5.4,5.7,6.4,6.2]\n",
    "\n",
    "data = pd.DataFrame({\n",
    "    \"salary\" : salary,\n",
    "    \"experience\"   : experience\n",
    "})\n",
    "data.head()"
   ]
  },
  {
   "cell_type": "markdown",
   "metadata": {
    "colab_type": "text",
    "id": "V5VGnEofXDUh"
   },
   "source": [
    "## Plotting th data"
   ]
  },
  {
   "cell_type": "code",
   "execution_count": 3,
   "metadata": {
    "colab": {
     "base_uri": "https://localhost:8080/",
     "height": 301
    },
    "colab_type": "code",
    "executionInfo": {
     "elapsed": 1256,
     "status": "ok",
     "timestamp": 1563261344516,
     "user": {
      "displayName": "Sharoon Saxena",
      "photoUrl": "",
      "userId": "14774175216384036942"
     },
     "user_tz": -330
    },
    "id": "DdENo57dj6hn",
    "outputId": "1f99a65d-d7e5-4e4c-e2a6-070b814d484f"
   },
   "outputs": [
    {
     "data": {
      "image/png": "[encoded data removed]",
      "text/plain": [
       "<Figure size 432x288 with 1 Axes>"
      ]
     },
     "metadata": {
      "needs_background": "light"
     },
     "output_type": "display_data"
    }
   ],
   "source": [
    "# plotting the data\n",
    "plt.scatter(data.experience, data.salary, color = 'red', label = 'data points')\n",
    "plt.xlim(0,4.5)\n",
    "plt.ylim(0,7)\n",
    "plt.xlabel('experience')\n",
    "plt.ylabel('salary')\n",
    "plt.legend();"
   ]
  },
  {
   "cell_type": "markdown",
   "metadata": {
    "colab_type": "text",
    "id": "XrG641GxmFfl"
   },
   "source": [
    "## Starting the Line using small values of parameters"
   ]
  },
  {
   "cell_type": "code",
   "execution_count": 3,
   "metadata": {
    "colab": {
     "base_uri": "https://localhost:8080/",
     "height": 295
    },
    "colab_type": "code",
    "executionInfo": {
     "elapsed": 1623,
     "status": "ok",
     "timestamp": 1563262245502,
     "user": {
      "displayName": "Sharoon Saxena",
      "photoUrl": "",
      "userId": "14774175216384036942"
     },
     "user_tz": -330
    },
    "id": "aToNdLtGkxVR",
    "outputId": "9c228118-8233-48df-904f-a8fe530429fe"
   },
   "outputs": [],
   "source": [
    "# making lines for different Values of Beta 0.1, 0.8, 1.5\n",
    "beta = 1.5\n",
    "# keeping intercept constant\n",
    "b = 1.1\n",
    "\n",
    "# to store predicted points\n",
    "line1 = []\n",
    "\n",
    "# generating predictions for every data pointl\n",
    "for i in range(len(data)):\n",
    "    line1.append(data.experience[i]*beta + b)\n",
    "\n"
   ]
  },
  {
   "cell_type": "code",
   "execution_count": 4,
   "metadata": {},
   "outputs": [
    {
     "data": {
      "text/plain": [
       "Text(0.5, 1.0, 'Beta value 1.5 with MSE 1.1404166666666662')"
      ]
     },
     "execution_count": 4,
     "metadata": {},
     "output_type": "execute_result"
    },
    {
     "data": {
      "image/png": "[encoded data removed]",
      "text/plain": [
       "<Figure size 432x288 with 1 Axes>"
      ]
     },
     "metadata": {
      "needs_background": "light"
     },
     "output_type": "display_data"
    }
   ],
   "source": [
    "# Plotting the line\n",
    "plt.scatter(data.experience, data.salary, color = 'red')\n",
    "plt.plot(data.experience, line1, color = 'black', label = 'line')\n",
    "plt.xlim(1,4.5)\n",
    "plt.ylim(1,7)\n",
    "plt.xlabel('Experience')\n",
    "plt.ylabel('Salary')\n",
    "plt.legend()\n",
    "MSE = mse(data.salary, line1)\n",
    "plt.title(\"Beta value \"+str(beta)+\" with MSE \"+ str(MSE))\n",
    "#MSE = mse(data.salary, line1)"
   ]
  },
  {
   "cell_type": "markdown",
   "metadata": {
    "colab_type": "text",
    "id": "2jQjyBbX_2jU"
   },
   "source": [
    "<img src=\"Multiple_plots.png\">"
   ]
  },
  {
   "cell_type": "markdown",
   "metadata": {
    "colab_type": "text",
    "id": "Jay4VzpOYNoS"
   },
   "source": [
    "## Computing Cost over a range of values of Beta"
   ]
  },
  {
   "cell_type": "code",
   "execution_count": 5,
   "metadata": {
    "colab": {},
    "colab_type": "code",
    "id": "qutpG7MHPE6a"
   },
   "outputs": [],
   "source": [
    "# function to calculate error\n",
    "\n",
    "def Error(Beta, data):\n",
    "  # b is constant\n",
    "    b = 1.1\n",
    "  \n",
    "    salary = []\n",
    "    experience  = data.experience\n",
    "  \n",
    "  # Loop to calculate predict salary variables\n",
    "    for i in range(len(data.experience)):\n",
    "        tmp = data.experience[i] * Beta + b\n",
    "        salary.append(tmp)\n",
    "    MSE = mse(data.salary, salary)\n",
    "    return MSE"
   ]
  },
  {
   "cell_type": "code",
   "execution_count": 6,
   "metadata": {
    "colab": {},
    "colab_type": "code",
    "id": "GZUCsxP5QHb-"
   },
   "outputs": [],
   "source": [
    "# Range of slopes from 0 to 1.5 with increment of 0.01\n",
    "slope = [i/100 for i in range(0,200)]\n",
    "Cost = []\n",
    "for i in slope:\n",
    "    cost = Error( Beta = i, data = data)\n",
    "    Cost.append(cost)"
   ]
  },
  {
   "cell_type": "code",
   "execution_count": 7,
   "metadata": {
    "colab": {
     "base_uri": "https://localhost:8080/",
     "height": 198
    },
    "colab_type": "code",
    "executionInfo": {
     "elapsed": 2403,
     "status": "ok",
     "timestamp": 1563261832066,
     "user": {
      "displayName": "Sharoon Saxena",
      "photoUrl": "",
      "userId": "14774175216384036942"
     },
     "user_tz": -330
    },
    "id": "TkTVWJE3UL1y",
    "outputId": "bb47ebe9-2b86-4567-d5b5-18a46b0ead68"
   },
   "outputs": [
    {
     "data": {
      "text/html": [
       "<div>\n",
       "<style scoped>\n",
       "    .dataframe tbody tr th:only-of-type {\n",
       "        vertical-align: middle;\n",
       "    }\n",
       "\n",
       "    .dataframe tbody tr th {\n",
       "        vertical-align: top;\n",
       "    }\n",
       "\n",
       "    .dataframe thead th {\n",
       "        text-align: right;\n",
       "    }\n",
       "</style>\n",
       "<table border=\"1\" class=\"dataframe\">\n",
       "  <thead>\n",
       "    <tr style=\"text-align: right;\">\n",
       "      <th></th>\n",
       "      <th>Beta</th>\n",
       "      <th>Cost</th>\n",
       "    </tr>\n",
       "  </thead>\n",
       "  <tbody>\n",
       "    <tr>\n",
       "      <th>0</th>\n",
       "      <td>0.00</td>\n",
       "      <td>12.791667</td>\n",
       "    </tr>\n",
       "    <tr>\n",
       "      <th>1</th>\n",
       "      <td>0.01</td>\n",
       "      <td>12.585876</td>\n",
       "    </tr>\n",
       "    <tr>\n",
       "      <th>2</th>\n",
       "      <td>0.02</td>\n",
       "      <td>12.381806</td>\n",
       "    </tr>\n",
       "    <tr>\n",
       "      <th>3</th>\n",
       "      <td>0.03</td>\n",
       "      <td>12.179455</td>\n",
       "    </tr>\n",
       "    <tr>\n",
       "      <th>4</th>\n",
       "      <td>0.04</td>\n",
       "      <td>11.978824</td>\n",
       "    </tr>\n",
       "    <tr>\n",
       "      <th>5</th>\n",
       "      <td>0.05</td>\n",
       "      <td>11.779913</td>\n",
       "    </tr>\n",
       "    <tr>\n",
       "      <th>6</th>\n",
       "      <td>0.06</td>\n",
       "      <td>11.582721</td>\n",
       "    </tr>\n",
       "    <tr>\n",
       "      <th>7</th>\n",
       "      <td>0.07</td>\n",
       "      <td>11.387249</td>\n",
       "    </tr>\n",
       "    <tr>\n",
       "      <th>8</th>\n",
       "      <td>0.08</td>\n",
       "      <td>11.193496</td>\n",
       "    </tr>\n",
       "    <tr>\n",
       "      <th>9</th>\n",
       "      <td>0.09</td>\n",
       "      <td>11.001463</td>\n",
       "    </tr>\n",
       "    <tr>\n",
       "      <th>10</th>\n",
       "      <td>0.10</td>\n",
       "      <td>10.811150</td>\n",
       "    </tr>\n",
       "    <tr>\n",
       "      <th>11</th>\n",
       "      <td>0.11</td>\n",
       "      <td>10.622556</td>\n",
       "    </tr>\n",
       "    <tr>\n",
       "      <th>12</th>\n",
       "      <td>0.12</td>\n",
       "      <td>10.435683</td>\n",
       "    </tr>\n",
       "    <tr>\n",
       "      <th>13</th>\n",
       "      <td>0.13</td>\n",
       "      <td>10.250528</td>\n",
       "    </tr>\n",
       "    <tr>\n",
       "      <th>14</th>\n",
       "      <td>0.14</td>\n",
       "      <td>10.067094</td>\n",
       "    </tr>\n",
       "    <tr>\n",
       "      <th>15</th>\n",
       "      <td>0.15</td>\n",
       "      <td>9.885379</td>\n",
       "    </tr>\n",
       "    <tr>\n",
       "      <th>16</th>\n",
       "      <td>0.16</td>\n",
       "      <td>9.705384</td>\n",
       "    </tr>\n",
       "    <tr>\n",
       "      <th>17</th>\n",
       "      <td>0.17</td>\n",
       "      <td>9.527108</td>\n",
       "    </tr>\n",
       "    <tr>\n",
       "      <th>18</th>\n",
       "      <td>0.18</td>\n",
       "      <td>9.350553</td>\n",
       "    </tr>\n",
       "    <tr>\n",
       "      <th>19</th>\n",
       "      <td>0.19</td>\n",
       "      <td>9.175717</td>\n",
       "    </tr>\n",
       "  </tbody>\n",
       "</table>\n",
       "</div>"
      ],
      "text/plain": [
       "    Beta       Cost\n",
       "0   0.00  12.791667\n",
       "1   0.01  12.585876\n",
       "2   0.02  12.381806\n",
       "3   0.03  12.179455\n",
       "4   0.04  11.978824\n",
       "5   0.05  11.779913\n",
       "6   0.06  11.582721\n",
       "7   0.07  11.387249\n",
       "8   0.08  11.193496\n",
       "9   0.09  11.001463\n",
       "10  0.10  10.811150\n",
       "11  0.11  10.622556\n",
       "12  0.12  10.435683\n",
       "13  0.13  10.250528\n",
       "14  0.14  10.067094\n",
       "15  0.15   9.885379\n",
       "16  0.16   9.705384\n",
       "17  0.17   9.527108\n",
       "18  0.18   9.350553\n",
       "19  0.19   9.175717"
      ]
     },
     "execution_count": 7,
     "metadata": {},
     "output_type": "execute_result"
    }
   ],
   "source": [
    "# Arranging in DataFrame\n",
    "Cost_table = pd.DataFrame({\n",
    "    'Beta' : slope,\n",
    "    'Cost' : Cost\n",
    "})\n",
    "Cost_table.head(20)"
   ]
  },
  {
   "cell_type": "markdown",
   "metadata": {
    "colab_type": "text",
    "id": "SjZYXIulZ2bA"
   },
   "source": [
    "## Visualising cost with respect to Beta"
   ]
  },
  {
   "cell_type": "code",
   "execution_count": 8,
   "metadata": {
    "colab": {
     "base_uri": "https://localhost:8080/",
     "height": 301
    },
    "colab_type": "code",
    "executionInfo": {
     "elapsed": 3515,
     "status": "ok",
     "timestamp": 1563261833553,
     "user": {
      "displayName": "Sharoon Saxena",
      "photoUrl": "",
      "userId": "14774175216384036942"
     },
     "user_tz": -330
    },
    "id": "UN-dV1GUU6RH",
    "outputId": "f507fcf8-bf93-42b2-c2e8-370f54094f0a"
   },
   "outputs": [
    {
     "data": {
      "text/plain": [
       "<matplotlib.legend.Legend at 0x225ca8f9ee0>"
      ]
     },
     "execution_count": 8,
     "metadata": {},
     "output_type": "execute_result"
    },
    {
     "data": {
      "image/png": "[encoded data removed]",
      "text/plain": [
       "<Figure size 432x288 with 1 Axes>"
      ]
     },
     "metadata": {
      "needs_background": "light"
     },
     "output_type": "display_data"
    }
   ],
   "source": [
    "# plotting the cost values corresponding to every value of Beta\n",
    "plt.plot(Cost_table.Beta, Cost_table.Cost, color = 'blue', label = 'Cost Function Curve')\n",
    "plt.xlabel('Value of Beta')\n",
    "plt.ylabel('Cost')\n",
    "plt.legend()"
   ]
  },
  {
   "cell_type": "markdown",
   "metadata": {
    "colab_type": "text",
    "id": "xiJVhQ04-kn1"
   },
   "source": [
    "<img src=\"3d_convex.jpg\">"
   ]
  },
  {
   "cell_type": "markdown",
   "metadata": {
    "colab_type": "text",
    "id": "fIUchenLYi30"
   },
   "source": [
    "## But what if we are given...\n",
    "# $Y = ß_1X_1 + ß_2X_2 + ß_3X_3 ... + ß_nX_n + b$\n"
   ]
  }
 ],
 "metadata": {
  "colab": {
   "collapsed_sections": [],
   "name": "cost_function.ipynb",
   "provenance": [],
   "version": "0.3.2"
  },
  "kernelspec": {
   "display_name": "Python 3 (ipykernel)",
   "language": "python",
   "name": "python3"
  },
  "language_info": {
   "codemirror_mode": {
    "name": "ipython",
    "version": 3
   },
   "file_extension": ".py",
   "mimetype": "text/x-python",
   "name": "python",
   "nbconvert_exporter": "python",
   "pygments_lexer": "ipython3",
   "version": "3.9.12"
  }
 },
 "nbformat": 4,
 "nbformat_minor": 1
}
