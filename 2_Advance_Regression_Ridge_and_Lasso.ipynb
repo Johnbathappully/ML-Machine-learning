{
  "cells": [
    {
      "cell_type": "code",
      "execution_count": 7,
      "metadata": {
        "id": "XiprJxiXIfN9"
      },
      "outputs": [],
      "source": [
        "#Importing libraries\n",
        "import numpy as np\n",
        "import pandas as pd\n",
        "import random\n",
        "import matplotlib.pyplot as plt\n",
        "from sklearn.model_selection import train_test_split"
      ]
    },
    {
      "cell_type": "code",
      "execution_count": 8,
      "metadata": {
        "id": "orTA0hc-HkpU"
      },
      "outputs": [],
      "source": [
        "import warnings\n",
        "warnings.filterwarnings(\"ignore\")"
      ]
    },
    {
      "cell_type": "code",
      "execution_count": 9,
      "metadata": {
        "id": "QQWy8t4SIfOA"
      },
      "outputs": [],
      "source": [
        "#Defining independent variable as angles from 60deg to 300deg converted to radians\n",
        "x = np.array([i*np.pi/180 for i in range(10,360,3)])"
      ]
    },
    {
      "cell_type": "code",
      "execution_count": 10,
      "metadata": {
        "id": "CGRXp2TZIfOC"
      },
      "outputs": [],
      "source": [
        "#Setting seed for reproducability\n",
        "np.random.seed(10)  "
      ]
    },
    {
      "cell_type": "code",
      "execution_count": 11,
      "metadata": {
        "id": "NLYdFsSaIfOE"
      },
      "outputs": [],
      "source": [
        "#Defining the target/dependent variable as sine of the independent variable\n",
        "y = np.sin(x) + np.random.normal(0,0.15,len(x))"
      ]
    },
    {
      "cell_type": "code",
      "execution_count": 12,
      "metadata": {
        "id": "A9hruXjrIfOG"
      },
      "outputs": [],
      "source": [
        "#Creating the dataframe using independent and dependent variable\n",
        "data = pd.DataFrame(np.column_stack([x,y]),columns=['x','y'])"
      ]
    },
    {
      "cell_type": "code",
      "execution_count": 13,
      "metadata": {
        "colab": {
          "base_uri": "https://localhost:8080/",
          "height": 206
        },
        "id": "0j1ucc3fIfOI",
        "outputId": "72359018-dc98-47f8-97c5-a62873c33797"
      },
      "outputs": [
        {
          "output_type": "execute_result",
          "data": {
            "text/plain": [
              "          x         y\n",
              "0  0.174533  0.373386\n",
              "1  0.226893  0.332243\n",
              "2  0.279253  0.043827\n",
              "3  0.331613  0.324311\n",
              "4  0.383972  0.467807"
            ],
            "text/html": [
              "\n",
              "  <div id=\"df-ce197647-a59c-4a09-b255-f87410052f9e\">\n",
              "    <div class=\"colab-df-container\">\n",
              "      <div>\n",
              "<style scoped>\n",
              "    .dataframe tbody tr th:only-of-type {\n",
              "        vertical-align: middle;\n",
              "    }\n",
              "\n",
              "    .dataframe tbody tr th {\n",
              "        vertical-align: top;\n",
              "    }\n",
              "\n",
              "    .dataframe thead th {\n",
              "        text-align: right;\n",
              "    }\n",
              "</style>\n",
              "<table border=\"1\" class=\"dataframe\">\n",
              "  <thead>\n",
              "    <tr style=\"text-align: right;\">\n",
              "      <th></th>\n",
              "      <th>x</th>\n",
              "      <th>y</th>\n",
              "    </tr>\n",
              "  </thead>\n",
              "  <tbody>\n",
              "    <tr>\n",
              "      <th>0</th>\n",
              "      <td>0.174533</td>\n",
              "      <td>0.373386</td>\n",
              "    </tr>\n",
              "    <tr>\n",
              "      <th>1</th>\n",
              "      <td>0.226893</td>\n",
              "      <td>0.332243</td>\n",
              "    </tr>\n",
              "    <tr>\n",
              "      <th>2</th>\n",
              "      <td>0.279253</td>\n",
              "      <td>0.043827</td>\n",
              "    </tr>\n",
              "    <tr>\n",
              "      <th>3</th>\n",
              "      <td>0.331613</td>\n",
              "      <td>0.324311</td>\n",
              "    </tr>\n",
              "    <tr>\n",
              "      <th>4</th>\n",
              "      <td>0.383972</td>\n",
              "      <td>0.467807</td>\n",
              "    </tr>\n",
              "  </tbody>\n",
              "</table>\n",
              "</div>\n",
              "      <button class=\"colab-df-convert\" onclick=\"convertToInteractive('df-ce197647-a59c-4a09-b255-f87410052f9e')\"\n",
              "              title=\"Convert this dataframe to an interactive table.\"\n",
              "              style=\"display:none;\">\n",
              "        \n",
              "  <svg xmlns=\"http://www.w3.org/2000/svg\" height=\"24px\"viewBox=\"0 0 24 24\"\n",
              "       width=\"24px\">\n",
              "    <path d=\"M0 0h24v24H0V0z\" fill=\"none\"/>\n",
              "    <path d=\"M18.56 5.44l.94 2.06.94-2.06 2.06-.94-2.06-.94-.94-2.06-.94 2.06-2.06.94zm-11 1L8.5 8.5l.94-2.06 2.06-.94-2.06-.94L8.5 2.5l-.94 2.06-2.06.94zm10 10l.94 2.06.94-2.06 2.06-.94-2.06-.94-.94-2.06-.94 2.06-2.06.94z\"/><path d=\"M17.41 7.96l-1.37-1.37c-.4-.4-.92-.59-1.43-.59-.52 0-1.04.2-1.43.59L10.3 9.45l-7.72 7.72c-.78.78-.78 2.05 0 2.83L4 21.41c.39.39.9.59 1.41.59.51 0 1.02-.2 1.41-.59l7.78-7.78 2.81-2.81c.8-.78.8-2.07 0-2.86zM5.41 20L4 18.59l7.72-7.72 1.47 1.35L5.41 20z\"/>\n",
              "  </svg>\n",
              "      </button>\n",
              "      \n",
              "  <style>\n",
              "    .colab-df-container {\n",
              "      display:flex;\n",
              "      flex-wrap:wrap;\n",
              "      gap: 12px;\n",
              "    }\n",
              "\n",
              "    .colab-df-convert {\n",
              "      background-color: #E8F0FE;\n",
              "      border: none;\n",
              "      border-radius: 50%;\n",
              "      cursor: pointer;\n",
              "      display: none;\n",
              "      fill: #1967D2;\n",
              "      height: 32px;\n",
              "      padding: 0 0 0 0;\n",
              "      width: 32px;\n",
              "    }\n",
              "\n",
              "    .colab-df-convert:hover {\n",
              "      background-color: #E2EBFA;\n",
              "      box-shadow: 0px 1px 2px rgba(60, 64, 67, 0.3), 0px 1px 3px 1px rgba(60, 64, 67, 0.15);\n",
              "      fill: #174EA6;\n",
              "    }\n",
              "\n",
              "    [theme=dark] .colab-df-convert {\n",
              "      background-color: #3B4455;\n",
              "      fill: #D2E3FC;\n",
              "    }\n",
              "\n",
              "    [theme=dark] .colab-df-convert:hover {\n",
              "      background-color: #434B5C;\n",
              "      box-shadow: 0px 1px 3px 1px rgba(0, 0, 0, 0.15);\n",
              "      filter: drop-shadow(0px 1px 2px rgba(0, 0, 0, 0.3));\n",
              "      fill: #FFFFFF;\n",
              "    }\n",
              "  </style>\n",
              "\n",
              "      <script>\n",
              "        const buttonEl =\n",
              "          document.querySelector('#df-ce197647-a59c-4a09-b255-f87410052f9e button.colab-df-convert');\n",
              "        buttonEl.style.display =\n",
              "          google.colab.kernel.accessAllowed ? 'block' : 'none';\n",
              "\n",
              "        async function convertToInteractive(key) {\n",
              "          const element = document.querySelector('#df-ce197647-a59c-4a09-b255-f87410052f9e');\n",
              "          const dataTable =\n",
              "            await google.colab.kernel.invokeFunction('convertToInteractive',\n",
              "                                                     [key], {});\n",
              "          if (!dataTable) return;\n",
              "\n",
              "          const docLinkHtml = 'Like what you see? Visit the ' +\n",
              "            '<a target=\"_blank\" href=https://colab.research.google.com/notebooks/data_table.ipynb>data table notebook</a>'\n",
              "            + ' to learn more about interactive tables.';\n",
              "          element.innerHTML = '';\n",
              "          dataTable['output_type'] = 'display_data';\n",
              "          await google.colab.output.renderOutput(dataTable, element);\n",
              "          const docLink = document.createElement('div');\n",
              "          docLink.innerHTML = docLinkHtml;\n",
              "          element.appendChild(docLink);\n",
              "        }\n",
              "      </script>\n",
              "    </div>\n",
              "  </div>\n",
              "  "
            ]
          },
          "metadata": {},
          "execution_count": 13
        }
      ],
      "source": [
        "#Printing first 5 rows of the data\n",
        "data.head()"
      ]
    },
    {
      "cell_type": "code",
      "execution_count": 14,
      "metadata": {
        "colab": {
          "base_uri": "https://localhost:8080/",
          "height": 483
        },
        "id": "iXKirMENIfOO",
        "outputId": "f9601d4a-89c5-47be-afdf-3df7363dcdcc"
      },
      "outputs": [
        {
          "output_type": "display_data",
          "data": {
            "text/plain": [
              "<Figure size 864x576 with 1 Axes>"
            ],
            "image/png": "[encoded data removed]"
          },
          "metadata": {
            "needs_background": "light"
          }
        }
      ],
      "source": [
        "#Plotting the dependent and independent variables\n",
        "plt.figure(figsize=(12,8))\n",
        "plt.plot(data['x'],data['y'],'.');"
      ]
    },
    {
      "cell_type": "code",
      "execution_count": 15,
      "metadata": {
        "colab": {
          "base_uri": "https://localhost:8080/",
          "height": 357
        },
        "id": "c0KKNiYHIfOR",
        "outputId": "792d0e7d-210d-46e6-f6ca-dc2b58c65912"
      },
      "outputs": [
        {
          "output_type": "execute_result",
          "data": {
            "text/plain": [
              "          x         y       x_2       x_3       x_4       x_5       x_6  \\\n",
              "0  0.174533  0.373386  0.030462  0.005317  0.000928  0.000162  0.000028   \n",
              "1  0.226893  0.332243  0.051480  0.011681  0.002650  0.000601  0.000136   \n",
              "2  0.279253  0.043827  0.077982  0.021777  0.006081  0.001698  0.000474   \n",
              "3  0.331613  0.324311  0.109967  0.036466  0.012093  0.004010  0.001330   \n",
              "4  0.383972  0.467807  0.147435  0.056611  0.021737  0.008346  0.003205   \n",
              "\n",
              "        x_7           x_8           x_9          x_10          x_11  \\\n",
              "0  0.000005  8.610313e-07  1.502783e-07  2.622851e-08  4.577739e-09   \n",
              "1  0.000031  7.023697e-06  1.593626e-06  3.615823e-07  8.204043e-08   \n",
              "2  0.000132  3.698101e-05  1.032705e-05  2.883856e-06  8.053244e-07   \n",
              "3  0.000441  1.462338e-04  4.849296e-05  1.608088e-05  5.332620e-06   \n",
              "4  0.001231  4.724984e-04  1.814264e-04  6.966273e-05  2.674857e-05   \n",
              "\n",
              "           x_12          x_13          x_14          x_15  \n",
              "0  7.989662e-10  1.394459e-10  2.433790e-11  4.247765e-12  \n",
              "1  1.861438e-08  4.223469e-09  9.582748e-10  2.174257e-10  \n",
              "2  2.248890e-07  6.280085e-08  1.753731e-08  4.897340e-09  \n",
              "3  1.768364e-06  5.864117e-07  1.944615e-07  6.448586e-08  \n",
              "4  1.027071e-05  3.943671e-06  1.514261e-06  5.814344e-07  "
            ],
            "text/html": [
              "\n",
              "  <div id=\"df-b1d7521f-c4e9-4ef5-b165-ec5a749cbd14\">\n",
              "    <div class=\"colab-df-container\">\n",
              "      <div>\n",
              "<style scoped>\n",
              "    .dataframe tbody tr th:only-of-type {\n",
              "        vertical-align: middle;\n",
              "    }\n",
              "\n",
              "    .dataframe tbody tr th {\n",
              "        vertical-align: top;\n",
              "    }\n",
              "\n",
              "    .dataframe thead th {\n",
              "        text-align: right;\n",
              "    }\n",
              "</style>\n",
              "<table border=\"1\" class=\"dataframe\">\n",
              "  <thead>\n",
              "    <tr style=\"text-align: right;\">\n",
              "      <th></th>\n",
              "      <th>x</th>\n",
              "      <th>y</th>\n",
              "      <th>x_2</th>\n",
              "      <th>x_3</th>\n",
              "      <th>x_4</th>\n",
              "      <th>x_5</th>\n",
              "      <th>x_6</th>\n",
              "      <th>x_7</th>\n",
              "      <th>x_8</th>\n",
              "      <th>x_9</th>\n",
              "      <th>x_10</th>\n",
              "      <th>x_11</th>\n",
              "      <th>x_12</th>\n",
              "      <th>x_13</th>\n",
              "      <th>x_14</th>\n",
              "      <th>x_15</th>\n",
              "    </tr>\n",
              "  </thead>\n",
              "  <tbody>\n",
              "    <tr>\n",
              "      <th>0</th>\n",
              "      <td>0.174533</td>\n",
              "      <td>0.373386</td>\n",
              "      <td>0.030462</td>\n",
              "      <td>0.005317</td>\n",
              "      <td>0.000928</td>\n",
              "      <td>0.000162</td>\n",
              "      <td>0.000028</td>\n",
              "      <td>0.000005</td>\n",
              "      <td>8.610313e-07</td>\n",
              "      <td>1.502783e-07</td>\n",
              "      <td>2.622851e-08</td>\n",
              "      <td>4.577739e-09</td>\n",
              "      <td>7.989662e-10</td>\n",
              "      <td>1.394459e-10</td>\n",
              "      <td>2.433790e-11</td>\n",
              "      <td>4.247765e-12</td>\n",
              "    </tr>\n",
              "    <tr>\n",
              "      <th>1</th>\n",
              "      <td>0.226893</td>\n",
              "      <td>0.332243</td>\n",
              "      <td>0.051480</td>\n",
              "      <td>0.011681</td>\n",
              "      <td>0.002650</td>\n",
              "      <td>0.000601</td>\n",
              "      <td>0.000136</td>\n",
              "      <td>0.000031</td>\n",
              "      <td>7.023697e-06</td>\n",
              "      <td>1.593626e-06</td>\n",
              "      <td>3.615823e-07</td>\n",
              "      <td>8.204043e-08</td>\n",
              "      <td>1.861438e-08</td>\n",
              "      <td>4.223469e-09</td>\n",
              "      <td>9.582748e-10</td>\n",
              "      <td>2.174257e-10</td>\n",
              "    </tr>\n",
              "    <tr>\n",
              "      <th>2</th>\n",
              "      <td>0.279253</td>\n",
              "      <td>0.043827</td>\n",
              "      <td>0.077982</td>\n",
              "      <td>0.021777</td>\n",
              "      <td>0.006081</td>\n",
              "      <td>0.001698</td>\n",
              "      <td>0.000474</td>\n",
              "      <td>0.000132</td>\n",
              "      <td>3.698101e-05</td>\n",
              "      <td>1.032705e-05</td>\n",
              "      <td>2.883856e-06</td>\n",
              "      <td>8.053244e-07</td>\n",
              "      <td>2.248890e-07</td>\n",
              "      <td>6.280085e-08</td>\n",
              "      <td>1.753731e-08</td>\n",
              "      <td>4.897340e-09</td>\n",
              "    </tr>\n",
              "    <tr>\n",
              "      <th>3</th>\n",
              "      <td>0.331613</td>\n",
              "      <td>0.324311</td>\n",
              "      <td>0.109967</td>\n",
              "      <td>0.036466</td>\n",
              "      <td>0.012093</td>\n",
              "      <td>0.004010</td>\n",
              "      <td>0.001330</td>\n",
              "      <td>0.000441</td>\n",
              "      <td>1.462338e-04</td>\n",
              "      <td>4.849296e-05</td>\n",
              "      <td>1.608088e-05</td>\n",
              "      <td>5.332620e-06</td>\n",
              "      <td>1.768364e-06</td>\n",
              "      <td>5.864117e-07</td>\n",
              "      <td>1.944615e-07</td>\n",
              "      <td>6.448586e-08</td>\n",
              "    </tr>\n",
              "    <tr>\n",
              "      <th>4</th>\n",
              "      <td>0.383972</td>\n",
              "      <td>0.467807</td>\n",
              "      <td>0.147435</td>\n",
              "      <td>0.056611</td>\n",
              "      <td>0.021737</td>\n",
              "      <td>0.008346</td>\n",
              "      <td>0.003205</td>\n",
              "      <td>0.001231</td>\n",
              "      <td>4.724984e-04</td>\n",
              "      <td>1.814264e-04</td>\n",
              "      <td>6.966273e-05</td>\n",
              "      <td>2.674857e-05</td>\n",
              "      <td>1.027071e-05</td>\n",
              "      <td>3.943671e-06</td>\n",
              "      <td>1.514261e-06</td>\n",
              "      <td>5.814344e-07</td>\n",
              "    </tr>\n",
              "  </tbody>\n",
              "</table>\n",
              "</div>\n",
              "      <button class=\"colab-df-convert\" onclick=\"convertToInteractive('df-b1d7521f-c4e9-4ef5-b165-ec5a749cbd14')\"\n",
              "              title=\"Convert this dataframe to an interactive table.\"\n",
              "              style=\"display:none;\">\n",
              "        \n",
              "  <svg xmlns=\"http://www.w3.org/2000/svg\" height=\"24px\"viewBox=\"0 0 24 24\"\n",
              "       width=\"24px\">\n",
              "    <path d=\"M0 0h24v24H0V0z\" fill=\"none\"/>\n",
              "    <path d=\"M18.56 5.44l.94 2.06.94-2.06 2.06-.94-2.06-.94-.94-2.06-.94 2.06-2.06.94zm-11 1L8.5 8.5l.94-2.06 2.06-.94-2.06-.94L8.5 2.5l-.94 2.06-2.06.94zm10 10l.94 2.06.94-2.06 2.06-.94-2.06-.94-.94-2.06-.94 2.06-2.06.94z\"/><path d=\"M17.41 7.96l-1.37-1.37c-.4-.4-.92-.59-1.43-.59-.52 0-1.04.2-1.43.59L10.3 9.45l-7.72 7.72c-.78.78-.78 2.05 0 2.83L4 21.41c.39.39.9.59 1.41.59.51 0 1.02-.2 1.41-.59l7.78-7.78 2.81-2.81c.8-.78.8-2.07 0-2.86zM5.41 20L4 18.59l7.72-7.72 1.47 1.35L5.41 20z\"/>\n",
              "  </svg>\n",
              "      </button>\n",
              "      \n",
              "  <style>\n",
              "    .colab-df-container {\n",
              "      display:flex;\n",
              "      flex-wrap:wrap;\n",
              "      gap: 12px;\n",
              "    }\n",
              "\n",
              "    .colab-df-convert {\n",
              "      background-color: #E8F0FE;\n",
              "      border: none;\n",
              "      border-radius: 50%;\n",
              "      cursor: pointer;\n",
              "      display: none;\n",
              "      fill: #1967D2;\n",
              "      height: 32px;\n",
              "      padding: 0 0 0 0;\n",
              "      width: 32px;\n",
              "    }\n",
              "\n",
              "    .colab-df-convert:hover {\n",
              "      background-color: #E2EBFA;\n",
              "      box-shadow: 0px 1px 2px rgba(60, 64, 67, 0.3), 0px 1px 3px 1px rgba(60, 64, 67, 0.15);\n",
              "      fill: #174EA6;\n",
              "    }\n",
              "\n",
              "    [theme=dark] .colab-df-convert {\n",
              "      background-color: #3B4455;\n",
              "      fill: #D2E3FC;\n",
              "    }\n",
              "\n",
              "    [theme=dark] .colab-df-convert:hover {\n",
              "      background-color: #434B5C;\n",
              "      box-shadow: 0px 1px 3px 1px rgba(0, 0, 0, 0.15);\n",
              "      filter: drop-shadow(0px 1px 2px rgba(0, 0, 0, 0.3));\n",
              "      fill: #FFFFFF;\n",
              "    }\n",
              "  </style>\n",
              "\n",
              "      <script>\n",
              "        const buttonEl =\n",
              "          document.querySelector('#df-b1d7521f-c4e9-4ef5-b165-ec5a749cbd14 button.colab-df-convert');\n",
              "        buttonEl.style.display =\n",
              "          google.colab.kernel.accessAllowed ? 'block' : 'none';\n",
              "\n",
              "        async function convertToInteractive(key) {\n",
              "          const element = document.querySelector('#df-b1d7521f-c4e9-4ef5-b165-ec5a749cbd14');\n",
              "          const dataTable =\n",
              "            await google.colab.kernel.invokeFunction('convertToInteractive',\n",
              "                                                     [key], {});\n",
              "          if (!dataTable) return;\n",
              "\n",
              "          const docLinkHtml = 'Like what you see? Visit the ' +\n",
              "            '<a target=\"_blank\" href=https://colab.research.google.com/notebooks/data_table.ipynb>data table notebook</a>'\n",
              "            + ' to learn more about interactive tables.';\n",
              "          element.innerHTML = '';\n",
              "          dataTable['output_type'] = 'display_data';\n",
              "          await google.colab.output.renderOutput(dataTable, element);\n",
              "          const docLink = document.createElement('div');\n",
              "          docLink.innerHTML = docLinkHtml;\n",
              "          element.appendChild(docLink);\n",
              "        }\n",
              "      </script>\n",
              "    </div>\n",
              "  </div>\n",
              "  "
            ]
          },
          "metadata": {},
          "execution_count": 15
        }
      ],
      "source": [
        "# polynomial regression with powers of x from 1 to 15\n",
        "for i in range(2,16):  #power of 1 is already there, hence starting with 2\n",
        "    colname = 'x_%d'%i      #new var will be x_power\n",
        "    data[colname] = data['x']**i\n",
        "data.head()"
      ]
    },
    {
      "cell_type": "markdown",
      "metadata": {
        "id": "n1nldRkUIsoU"
      },
      "source": [
        "**Creating test and train**"
      ]
    },
    {
      "cell_type": "code",
      "execution_count": 16,
      "metadata": {
        "id": "AUQZSAHhIfOT"
      },
      "outputs": [],
      "source": [
        "data['randNumCol'] = np.random.randint(1, 6, data.shape[0])\n",
        "train=data[data['randNumCol']<=3]\n",
        "test=data[data['randNumCol']>3]\n",
        "train = train.drop('randNumCol', axis=1)\n",
        "test = test.drop('randNumCol', axis=1)"
      ]
    },
    {
      "cell_type": "code",
      "execution_count": 17,
      "metadata": {
        "colab": {
          "base_uri": "https://localhost:8080/"
        },
        "id": "zLuH_4PSHkpf",
        "outputId": "9d1074d7-79cd-4cba-9f63-b52a2ad5a3f6"
      },
      "outputs": [
        {
          "output_type": "execute_result",
          "data": {
            "text/plain": [
              "(73, 16)"
            ]
          },
          "metadata": {},
          "execution_count": 17
        }
      ],
      "source": [
        "train.shape"
      ]
    },
    {
      "cell_type": "code",
      "execution_count": 18,
      "metadata": {
        "colab": {
          "base_uri": "https://localhost:8080/"
        },
        "id": "aSeLQ-UZHkpg",
        "outputId": "9769fa9f-dd8c-469c-f824-c6d965be18a9"
      },
      "outputs": [
        {
          "output_type": "execute_result",
          "data": {
            "text/plain": [
              "(44, 16)"
            ]
          },
          "metadata": {},
          "execution_count": 18
        }
      ],
      "source": [
        "test.shape"
      ]
    },
    {
      "cell_type": "markdown",
      "metadata": {
        "id": "1Z29VxBTIfOV"
      },
      "source": [
        "## Linear Regression"
      ]
    },
    {
      "cell_type": "code",
      "execution_count": 19,
      "metadata": {
        "id": "AlurQC8dIfOW"
      },
      "outputs": [],
      "source": [
        "#Import Linear Regression model from scikit-learn.\n",
        "from sklearn.linear_model import LinearRegression"
      ]
    },
    {
      "cell_type": "code",
      "execution_count": 20,
      "metadata": {
        "id": "VUf2CVczIfOY"
      },
      "outputs": [],
      "source": [
        "#Separating the independent and dependent variables\n",
        "X_train = train.drop('y', axis=1).values\n",
        "y_train = train['y'].values\n",
        "X_test = test.drop('y', axis=1).values\n",
        "y_test = test['y'].values"
      ]
    },
    {
      "cell_type": "code",
      "execution_count": 21,
      "metadata": {
        "colab": {
          "base_uri": "https://localhost:8080/"
        },
        "id": "e87fTLw7IfOc",
        "outputId": "a3897616-10a2-45d5-f632-e815e00b456f"
      },
      "outputs": [
        {
          "output_type": "stream",
          "name": "stdout",
          "text": [
            "Training Error 0.213144309581739\n",
            "Testing Error 0.18974033118165387\n"
          ]
        }
      ],
      "source": [
        "#Linear Regression with one features\n",
        "independent_variable_train = X_train[:,0:1]\n",
        "\n",
        "linreg = LinearRegression(normalize=True)\n",
        "linreg.fit(independent_variable_train,y_train)\n",
        "y_train_pred = linreg.predict(independent_variable_train)\n",
        "\n",
        "rss_train = sum((y_train_pred-y_train)**2) / X_train.shape[0]\n",
        "\n",
        "independent_variable_test = X_test[:,0:1]\n",
        "y_test_pred = linreg.predict(independent_variable_test)\n",
        "rss_test = sum((y_test_pred-y_test)**2)/ X_test.shape[0]\n",
        "\n",
        "print(\"Training Error\", rss_train)\n",
        "print(\"Testing Error\",rss_test)"
      ]
    },
    {
      "cell_type": "code",
      "execution_count": 22,
      "metadata": {
        "scrolled": true,
        "colab": {
          "base_uri": "https://localhost:8080/",
          "height": 265
        },
        "id": "YP511on0Hkpk",
        "outputId": "503c3e35-f1fa-4af4-dbc2-e1f9d147ad56"
      },
      "outputs": [
        {
          "output_type": "display_data",
          "data": {
            "text/plain": [
              "<Figure size 432x288 with 1 Axes>"
            ],
            "image/png": "[encoded data removed]"
          },
          "metadata": {
            "needs_background": "light"
          }
        }
      ],
      "source": [
        "plt.plot(X_train[:,0:1],y_train,'.')\n",
        "plt.plot(X_train[:,0:1],y_train_pred);"
      ]
    },
    {
      "cell_type": "markdown",
      "metadata": {
        "id": "DHDMgiZfHkpl"
      },
      "source": [
        "**Linear regression with three features**"
      ]
    },
    {
      "cell_type": "code",
      "execution_count": 23,
      "metadata": {
        "colab": {
          "base_uri": "https://localhost:8080/"
        },
        "id": "ktx_Ep4LIfOf",
        "outputId": "c3de9e29-b2a5-4a71-8c57-e65a68e3f7d0"
      },
      "outputs": [
        {
          "output_type": "stream",
          "name": "stdout",
          "text": [
            "Training Error 0.02147248177096575\n",
            "Testing Error 0.030451878881969218\n"
          ]
        }
      ],
      "source": [
        "independent_variable_train = X_train[:,0:3]\n",
        "\n",
        "linreg = LinearRegression(normalize=True)\n",
        "linreg.fit(independent_variable_train,y_train)\n",
        "y_train_pred = linreg.predict(independent_variable_train)\n",
        "\n",
        "rss_train = sum((y_train_pred-y_train)**2) / X_train.shape[0]\n",
        "\n",
        "independent_variable_test = X_test[:,0:3]\n",
        "y_test_pred = linreg.predict(independent_variable_test)\n",
        "rss_test = sum((y_test_pred-y_test)**2)/ X_test.shape[0]\n",
        "\n",
        "print(\"Training Error\", rss_train)\n",
        "print(\"Testing Error\",rss_test)"
      ]
    },
    {
      "cell_type": "code",
      "execution_count": 24,
      "metadata": {
        "scrolled": true,
        "colab": {
          "base_uri": "https://localhost:8080/",
          "height": 265
        },
        "id": "lfdOEZTRHkpn",
        "outputId": "f8c1660d-4b6b-4ac2-d72c-37a0f3b7e7a1"
      },
      "outputs": [
        {
          "output_type": "display_data",
          "data": {
            "text/plain": [
              "<Figure size 432x288 with 1 Axes>"
            ],
            "image/png": "[encoded data removed]"
          },
          "metadata": {
            "needs_background": "light"
          }
        }
      ],
      "source": [
        "plt.plot(X_train[:,0:1],y_train,'.')\n",
        "plt.plot(X_train[:,0:1],y_train_pred);"
      ]
    },
    {
      "cell_type": "markdown",
      "metadata": {
        "id": "mOZy3EBfHkpo"
      },
      "source": [
        "**Linear regression with Seven features**"
      ]
    },
    {
      "cell_type": "code",
      "execution_count": 25,
      "metadata": {
        "colab": {
          "base_uri": "https://localhost:8080/"
        },
        "id": "blee6wddIfOi",
        "outputId": "1f68a0b7-9335-4055-b3dc-be1cab940bf4"
      },
      "outputs": [
        {
          "output_type": "stream",
          "name": "stdout",
          "text": [
            "Training Error 0.018769567283131172\n",
            "Testing Error 0.03151259909995285\n"
          ]
        }
      ],
      "source": [
        "independent_variable_train = X_train[:,0:8]\n",
        "\n",
        "linreg = LinearRegression(normalize=True)\n",
        "linreg.fit(independent_variable_train,y_train)\n",
        "y_train_pred = linreg.predict(independent_variable_train)\n",
        "\n",
        "rss_train = sum((y_train_pred-y_train)**2) / X_train.shape[0]\n",
        "\n",
        "independent_variable_test = X_test[:,0:8]\n",
        "y_test_pred = linreg.predict(independent_variable_test)\n",
        "rss_test = sum((y_test_pred-y_test)**2)/ X_test.shape[0]\n",
        "\n",
        "print(\"Training Error\", rss_train)\n",
        "print(\"Testing Error\",rss_test)"
      ]
    },
    {
      "cell_type": "code",
      "execution_count": 26,
      "metadata": {
        "scrolled": true,
        "colab": {
          "base_uri": "https://localhost:8080/",
          "height": 265
        },
        "id": "SdRpmd7gHkpr",
        "outputId": "90f01f84-3554-4afb-a0ac-d383b0b9d9da"
      },
      "outputs": [
        {
          "output_type": "display_data",
          "data": {
            "text/plain": [
              "<Figure size 432x288 with 1 Axes>"
            ],
            "image/png": "[encoded data removed]"
          },
          "metadata": {
            "needs_background": "light"
          }
        }
      ],
      "source": [
        "plt.plot(X_train[:,0:1],y_train,'.')\n",
        "plt.plot(X_train[:,0:1],y_train_pred);"
      ]
    },
    {
      "cell_type": "markdown",
      "metadata": {
        "id": "0W2iMW0GHkpr"
      },
      "source": [
        "**Defining a function which will fit linear regression model, plot the results, and return the coefficients**"
      ]
    },
    {
      "cell_type": "code",
      "execution_count": 27,
      "metadata": {
        "id": "s3Cd83HrIfOk"
      },
      "outputs": [],
      "source": [
        "def linear_regression(train_x, train_y, test_x, test_y, features, models_to_plot):\n",
        "        \n",
        "    #Fit the model\n",
        "    linreg = LinearRegression(normalize=True)\n",
        "    linreg.fit(train_x,train_y)\n",
        "    train_y_pred = linreg.predict(train_x)\n",
        "    test_y_pred = linreg.predict(test_x)\n",
        "    \n",
        "    #Check if a plot is to be made for the entered features\n",
        "    if features in models_to_plot:\n",
        "        plt.subplot(models_to_plot[features])\n",
        "        plt.tight_layout()\n",
        "        plt.plot(train_x[:,0:1],train_y_pred)\n",
        "        \n",
        "        plt.plot(train_x[:,0:1],train_y,'.')\n",
        "        \n",
        "        plt.title('Number of Predictors: %d'%features)\n",
        "    \n",
        "    #Return the result in pre-defined format\n",
        "    rss_train = sum((train_y_pred-train_y)**2)/train_x.shape[0]\n",
        "    ret = [rss_train]\n",
        "    \n",
        "    rss_test = sum((test_y_pred-test_y)**2)/test_x.shape[0]\n",
        "    ret.extend([rss_test])\n",
        "    \n",
        "    ret.extend([linreg.intercept_])\n",
        "    ret.extend(linreg.coef_)\n",
        "    \n",
        "    return ret"
      ]
    },
    {
      "cell_type": "code",
      "execution_count": 28,
      "metadata": {
        "id": "dTH2mkB3IfOm"
      },
      "outputs": [],
      "source": [
        "#Initialize a dataframe to store the results:\n",
        "col = ['mrss_train','mrss_test','intercept'] + ['coef_Var_%d'%i for i in range(1,16)]\n",
        "ind = ['Number_of_variable_%d'%i for i in range(1,16)]\n",
        "coef_matrix_simple = pd.DataFrame(index=ind, columns=col)"
      ]
    },
    {
      "cell_type": "code",
      "execution_count": 29,
      "metadata": {
        "id": "wkc3Cg_sIfOr"
      },
      "outputs": [],
      "source": [
        "#Define the number of features for which a plot is required:\n",
        "models_to_plot = {1:231,3:232,6:233,9:234,12:235,15:236}"
      ]
    },
    {
      "cell_type": "code",
      "execution_count": 30,
      "metadata": {
        "colab": {
          "base_uri": "https://localhost:8080/",
          "height": 585
        },
        "id": "latyKt6WIfOu",
        "outputId": "97b4335a-4a66-420a-89ea-8076b4c00bc5"
      },
      "outputs": [
        {
          "output_type": "display_data",
          "data": {
            "text/plain": [
              "<Figure size 864x576 with 6 Axes>"
            ],
            "image/png": "[encoded data removed]"
          },
          "metadata": {
            "needs_background": "light"
          }
        }
      ],
      "source": [
        "#Iterate through all powers and store the results in a matrix form\n",
        "plt.figure(figsize=(12,8))\n",
        "for i in range(1,16):\n",
        "    train_x = X_train[:,0:i]\n",
        "    train_y = y_train\n",
        "    test_x = X_test[:,0:i]\n",
        "    test_y = y_test\n",
        "    \n",
        "    coef_matrix_simple.iloc[i-1,0:i+3] = linear_regression(train_x,train_y, test_x, test_y, features=i, models_to_plot=models_to_plot)"
      ]
    },
    {
      "cell_type": "code",
      "execution_count": 31,
      "metadata": {
        "colab": {
          "base_uri": "https://localhost:8080/",
          "height": 584
        },
        "id": "4fQrthy0IfOy",
        "outputId": "8d1b1a94-6bb7-4fb1-85d1-158a9a276f3c"
      },
      "outputs": [
        {
          "output_type": "execute_result",
          "data": {
            "text/plain": [
              "                      mrss_train mrss_test intercept coef_Var_1 coef_Var_2  \\\n",
              "Number_of_variable_1        0.21      0.19         1      -0.31        NaN   \n",
              "Number_of_variable_2        0.21      0.19       1.1      -0.39      0.012   \n",
              "Number_of_variable_3       0.021      0.03      -0.4        2.2      -0.99   \n",
              "Number_of_variable_4       0.021      0.03     -0.43        2.3         -1   \n",
              "Number_of_variable_5        0.02     0.023    -0.096        1.2     0.0084   \n",
              "Number_of_variable_6       0.019     0.028      -0.4        2.5       -1.6   \n",
              "Number_of_variable_7       0.019     0.028     -0.38        2.4       -1.5   \n",
              "Number_of_variable_8       0.019     0.032     -0.85        5.1         -7   \n",
              "Number_of_variable_9       0.019     0.032     -0.94        5.7       -8.5   \n",
              "Number_of_variable_10      0.018     0.044      -2.4         16        -38   \n",
              "Number_of_variable_11      0.018     0.034     -0.34      -0.37         15   \n",
              "Number_of_variable_12      0.018     0.028       1.6        -18         78   \n",
              "Number_of_variable_13      0.018     0.029      0.84        -10         47   \n",
              "Number_of_variable_14      0.017     0.056      -5.5         57   -2.4e+02   \n",
              "Number_of_variable_15      0.016       0.2       -25    2.7e+02   -1.3e+03   \n",
              "\n",
              "                      coef_Var_3 coef_Var_4 coef_Var_5 coef_Var_6 coef_Var_7  \\\n",
              "Number_of_variable_1         NaN        NaN        NaN        NaN        NaN   \n",
              "Number_of_variable_2         NaN        NaN        NaN        NaN        NaN   \n",
              "Number_of_variable_3         0.1        NaN        NaN        NaN        NaN   \n",
              "Number_of_variable_4        0.12     -0.001        NaN        NaN        NaN   \n",
              "Number_of_variable_5       -0.29      0.069    -0.0043        NaN        NaN   \n",
              "Number_of_variable_6        0.66       -0.2      0.031    -0.0018        NaN   \n",
              "Number_of_variable_7        0.53      -0.15      0.021   -0.00067   -5.1e-05   \n",
              "Number_of_variable_8           6       -3.1       0.92      -0.16      0.015   \n",
              "Number_of_variable_9         7.7       -4.3        1.4      -0.28      0.033   \n",
              "Number_of_variable_10         50        -39         19         -6        1.2   \n",
              "Number_of_variable_11        -38         47        -34         16       -4.7   \n",
              "Number_of_variable_12   -1.6e+02    1.8e+02   -1.4e+02         67        -22   \n",
              "Number_of_variable_13        -92         98        -62         23       -3.9   \n",
              "Number_of_variable_14      6e+02   -9.3e+02    9.5e+02   -6.7e+02    3.3e+02   \n",
              "Number_of_variable_15    3.3e+03   -5.4e+03    5.9e+03   -4.5e+03    2.5e+03   \n",
              "\n",
              "                      coef_Var_8 coef_Var_9 coef_Var_10 coef_Var_11  \\\n",
              "Number_of_variable_1         NaN        NaN         NaN         NaN   \n",
              "Number_of_variable_2         NaN        NaN         NaN         NaN   \n",
              "Number_of_variable_3         NaN        NaN         NaN         NaN   \n",
              "Number_of_variable_4         NaN        NaN         NaN         NaN   \n",
              "Number_of_variable_5         NaN        NaN         NaN         NaN   \n",
              "Number_of_variable_6         NaN        NaN         NaN         NaN   \n",
              "Number_of_variable_7         NaN        NaN         NaN         NaN   \n",
              "Number_of_variable_8    -0.00058        NaN         NaN         NaN   \n",
              "Number_of_variable_9      -0.002      5e-05         NaN         NaN   \n",
              "Number_of_variable_10      -0.15      0.011    -0.00033         NaN   \n",
              "Number_of_variable_11        0.9      -0.11      0.0073    -0.00021   \n",
              "Number_of_variable_12        4.9      -0.74       0.071     -0.0039   \n",
              "Number_of_variable_13      -0.31       0.32      -0.077      0.0095   \n",
              "Number_of_variable_14   -1.2e+02         30        -5.3        0.67   \n",
              "Number_of_variable_15     -1e+03      3e+02         -65          10   \n",
              "\n",
              "                      coef_Var_12 coef_Var_13 coef_Var_14 coef_Var_15  \n",
              "Number_of_variable_1          NaN         NaN         NaN         NaN  \n",
              "Number_of_variable_2          NaN         NaN         NaN         NaN  \n",
              "Number_of_variable_3          NaN         NaN         NaN         NaN  \n",
              "Number_of_variable_4          NaN         NaN         NaN         NaN  \n",
              "Number_of_variable_5          NaN         NaN         NaN         NaN  \n",
              "Number_of_variable_6          NaN         NaN         NaN         NaN  \n",
              "Number_of_variable_7          NaN         NaN         NaN         NaN  \n",
              "Number_of_variable_8          NaN         NaN         NaN         NaN  \n",
              "Number_of_variable_9          NaN         NaN         NaN         NaN  \n",
              "Number_of_variable_10         NaN         NaN         NaN         NaN  \n",
              "Number_of_variable_11         NaN         NaN         NaN         NaN  \n",
              "Number_of_variable_12     9.5e-05         NaN         NaN         NaN  \n",
              "Number_of_variable_13    -0.00062     1.7e-05         NaN         NaN  \n",
              "Number_of_variable_14      -0.055      0.0027    -5.9e-05         NaN  \n",
              "Number_of_variable_15        -1.2       0.086     -0.0039     7.9e-05  "
            ],
            "text/html": [
              "\n",
              "  <div id=\"df-9c130a18-12c2-4320-ba39-1ed88ce9d89f\">\n",
              "    <div class=\"colab-df-container\">\n",
              "      <div>\n",
              "<style scoped>\n",
              "    .dataframe tbody tr th:only-of-type {\n",
              "        vertical-align: middle;\n",
              "    }\n",
              "\n",
              "    .dataframe tbody tr th {\n",
              "        vertical-align: top;\n",
              "    }\n",
              "\n",
              "    .dataframe thead th {\n",
              "        text-align: right;\n",
              "    }\n",
              "</style>\n",
              "<table border=\"1\" class=\"dataframe\">\n",
              "  <thead>\n",
              "    <tr style=\"text-align: right;\">\n",
              "      <th></th>\n",
              "      <th>mrss_train</th>\n",
              "      <th>mrss_test</th>\n",
              "      <th>intercept</th>\n",
              "      <th>coef_Var_1</th>\n",
              "      <th>coef_Var_2</th>\n",
              "      <th>coef_Var_3</th>\n",
              "      <th>coef_Var_4</th>\n",
              "      <th>coef_Var_5</th>\n",
              "      <th>coef_Var_6</th>\n",
              "      <th>coef_Var_7</th>\n",
              "      <th>coef_Var_8</th>\n",
              "      <th>coef_Var_9</th>\n",
              "      <th>coef_Var_10</th>\n",
              "      <th>coef_Var_11</th>\n",
              "      <th>coef_Var_12</th>\n",
              "      <th>coef_Var_13</th>\n",
              "      <th>coef_Var_14</th>\n",
              "      <th>coef_Var_15</th>\n",
              "    </tr>\n",
              "  </thead>\n",
              "  <tbody>\n",
              "    <tr>\n",
              "      <th>Number_of_variable_1</th>\n",
              "      <td>0.21</td>\n",
              "      <td>0.19</td>\n",
              "      <td>1</td>\n",
              "      <td>-0.31</td>\n",
              "      <td>NaN</td>\n",
              "      <td>NaN</td>\n",
              "      <td>NaN</td>\n",
              "      <td>NaN</td>\n",
              "      <td>NaN</td>\n",
              "      <td>NaN</td>\n",
              "      <td>NaN</td>\n",
              "      <td>NaN</td>\n",
              "      <td>NaN</td>\n",
              "      <td>NaN</td>\n",
              "      <td>NaN</td>\n",
              "      <td>NaN</td>\n",
              "      <td>NaN</td>\n",
              "      <td>NaN</td>\n",
              "    </tr>\n",
              "    <tr>\n",
              "      <th>Number_of_variable_2</th>\n",
              "      <td>0.21</td>\n",
              "      <td>0.19</td>\n",
              "      <td>1.1</td>\n",
              "      <td>-0.39</td>\n",
              "      <td>0.012</td>\n",
              "      <td>NaN</td>\n",
              "      <td>NaN</td>\n",
              "      <td>NaN</td>\n",
              "      <td>NaN</td>\n",
              "      <td>NaN</td>\n",
              "      <td>NaN</td>\n",
              "      <td>NaN</td>\n",
              "      <td>NaN</td>\n",
              "      <td>NaN</td>\n",
              "      <td>NaN</td>\n",
              "      <td>NaN</td>\n",
              "      <td>NaN</td>\n",
              "      <td>NaN</td>\n",
              "    </tr>\n",
              "    <tr>\n",
              "      <th>Number_of_variable_3</th>\n",
              "      <td>0.021</td>\n",
              "      <td>0.03</td>\n",
              "      <td>-0.4</td>\n",
              "      <td>2.2</td>\n",
              "      <td>-0.99</td>\n",
              "      <td>0.1</td>\n",
              "      <td>NaN</td>\n",
              "      <td>NaN</td>\n",
              "      <td>NaN</td>\n",
              "      <td>NaN</td>\n",
              "      <td>NaN</td>\n",
              "      <td>NaN</td>\n",
              "      <td>NaN</td>\n",
              "      <td>NaN</td>\n",
              "      <td>NaN</td>\n",
              "      <td>NaN</td>\n",
              "      <td>NaN</td>\n",
              "      <td>NaN</td>\n",
              "    </tr>\n",
              "    <tr>\n",
              "      <th>Number_of_variable_4</th>\n",
              "      <td>0.021</td>\n",
              "      <td>0.03</td>\n",
              "      <td>-0.43</td>\n",
              "      <td>2.3</td>\n",
              "      <td>-1</td>\n",
              "      <td>0.12</td>\n",
              "      <td>-0.001</td>\n",
              "      <td>NaN</td>\n",
              "      <td>NaN</td>\n",
              "      <td>NaN</td>\n",
              "      <td>NaN</td>\n",
              "      <td>NaN</td>\n",
              "      <td>NaN</td>\n",
              "      <td>NaN</td>\n",
              "      <td>NaN</td>\n",
              "      <td>NaN</td>\n",
              "      <td>NaN</td>\n",
              "      <td>NaN</td>\n",
              "    </tr>\n",
              "    <tr>\n",
              "      <th>Number_of_variable_5</th>\n",
              "      <td>0.02</td>\n",
              "      <td>0.023</td>\n",
              "      <td>-0.096</td>\n",
              "      <td>1.2</td>\n",
              "      <td>0.0084</td>\n",
              "      <td>-0.29</td>\n",
              "      <td>0.069</td>\n",
              "      <td>-0.0043</td>\n",
              "      <td>NaN</td>\n",
              "      <td>NaN</td>\n",
              "      <td>NaN</td>\n",
              "      <td>NaN</td>\n",
              "      <td>NaN</td>\n",
              "      <td>NaN</td>\n",
              "      <td>NaN</td>\n",
              "      <td>NaN</td>\n",
              "      <td>NaN</td>\n",
              "      <td>NaN</td>\n",
              "    </tr>\n",
              "    <tr>\n",
              "      <th>Number_of_variable_6</th>\n",
              "      <td>0.019</td>\n",
              "      <td>0.028</td>\n",
              "      <td>-0.4</td>\n",
              "      <td>2.5</td>\n",
              "      <td>-1.6</td>\n",
              "      <td>0.66</td>\n",
              "      <td>-0.2</td>\n",
              "      <td>0.031</td>\n",
              "      <td>-0.0018</td>\n",
              "      <td>NaN</td>\n",
              "      <td>NaN</td>\n",
              "      <td>NaN</td>\n",
              "      <td>NaN</td>\n",
              "      <td>NaN</td>\n",
              "      <td>NaN</td>\n",
              "      <td>NaN</td>\n",
              "      <td>NaN</td>\n",
              "      <td>NaN</td>\n",
              "    </tr>\n",
              "    <tr>\n",
              "      <th>Number_of_variable_7</th>\n",
              "      <td>0.019</td>\n",
              "      <td>0.028</td>\n",
              "      <td>-0.38</td>\n",
              "      <td>2.4</td>\n",
              "      <td>-1.5</td>\n",
              "      <td>0.53</td>\n",
              "      <td>-0.15</td>\n",
              "      <td>0.021</td>\n",
              "      <td>-0.00067</td>\n",
              "      <td>-5.1e-05</td>\n",
              "      <td>NaN</td>\n",
              "      <td>NaN</td>\n",
              "      <td>NaN</td>\n",
              "      <td>NaN</td>\n",
              "      <td>NaN</td>\n",
              "      <td>NaN</td>\n",
              "      <td>NaN</td>\n",
              "      <td>NaN</td>\n",
              "    </tr>\n",
              "    <tr>\n",
              "      <th>Number_of_variable_8</th>\n",
              "      <td>0.019</td>\n",
              "      <td>0.032</td>\n",
              "      <td>-0.85</td>\n",
              "      <td>5.1</td>\n",
              "      <td>-7</td>\n",
              "      <td>6</td>\n",
              "      <td>-3.1</td>\n",
              "      <td>0.92</td>\n",
              "      <td>-0.16</td>\n",
              "      <td>0.015</td>\n",
              "      <td>-0.00058</td>\n",
              "      <td>NaN</td>\n",
              "      <td>NaN</td>\n",
              "      <td>NaN</td>\n",
              "      <td>NaN</td>\n",
              "      <td>NaN</td>\n",
              "      <td>NaN</td>\n",
              "      <td>NaN</td>\n",
              "    </tr>\n",
              "    <tr>\n",
              "      <th>Number_of_variable_9</th>\n",
              "      <td>0.019</td>\n",
              "      <td>0.032</td>\n",
              "      <td>-0.94</td>\n",
              "      <td>5.7</td>\n",
              "      <td>-8.5</td>\n",
              "      <td>7.7</td>\n",
              "      <td>-4.3</td>\n",
              "      <td>1.4</td>\n",
              "      <td>-0.28</td>\n",
              "      <td>0.033</td>\n",
              "      <td>-0.002</td>\n",
              "      <td>5e-05</td>\n",
              "      <td>NaN</td>\n",
              "      <td>NaN</td>\n",
              "      <td>NaN</td>\n",
              "      <td>NaN</td>\n",
              "      <td>NaN</td>\n",
              "      <td>NaN</td>\n",
              "    </tr>\n",
              "    <tr>\n",
              "      <th>Number_of_variable_10</th>\n",
              "      <td>0.018</td>\n",
              "      <td>0.044</td>\n",
              "      <td>-2.4</td>\n",
              "      <td>16</td>\n",
              "      <td>-38</td>\n",
              "      <td>50</td>\n",
              "      <td>-39</td>\n",
              "      <td>19</td>\n",
              "      <td>-6</td>\n",
              "      <td>1.2</td>\n",
              "      <td>-0.15</td>\n",
              "      <td>0.011</td>\n",
              "      <td>-0.00033</td>\n",
              "      <td>NaN</td>\n",
              "      <td>NaN</td>\n",
              "      <td>NaN</td>\n",
              "      <td>NaN</td>\n",
              "      <td>NaN</td>\n",
              "    </tr>\n",
              "    <tr>\n",
              "      <th>Number_of_variable_11</th>\n",
              "      <td>0.018</td>\n",
              "      <td>0.034</td>\n",
              "      <td>-0.34</td>\n",
              "      <td>-0.37</td>\n",
              "      <td>15</td>\n",
              "      <td>-38</td>\n",
              "      <td>47</td>\n",
              "      <td>-34</td>\n",
              "      <td>16</td>\n",
              "      <td>-4.7</td>\n",
              "      <td>0.9</td>\n",
              "      <td>-0.11</td>\n",
              "      <td>0.0073</td>\n",
              "      <td>-0.00021</td>\n",
              "      <td>NaN</td>\n",
              "      <td>NaN</td>\n",
              "      <td>NaN</td>\n",
              "      <td>NaN</td>\n",
              "    </tr>\n",
              "    <tr>\n",
              "      <th>Number_of_variable_12</th>\n",
              "      <td>0.018</td>\n",
              "      <td>0.028</td>\n",
              "      <td>1.6</td>\n",
              "      <td>-18</td>\n",
              "      <td>78</td>\n",
              "      <td>-1.6e+02</td>\n",
              "      <td>1.8e+02</td>\n",
              "      <td>-1.4e+02</td>\n",
              "      <td>67</td>\n",
              "      <td>-22</td>\n",
              "      <td>4.9</td>\n",
              "      <td>-0.74</td>\n",
              "      <td>0.071</td>\n",
              "      <td>-0.0039</td>\n",
              "      <td>9.5e-05</td>\n",
              "      <td>NaN</td>\n",
              "      <td>NaN</td>\n",
              "      <td>NaN</td>\n",
              "    </tr>\n",
              "    <tr>\n",
              "      <th>Number_of_variable_13</th>\n",
              "      <td>0.018</td>\n",
              "      <td>0.029</td>\n",
              "      <td>0.84</td>\n",
              "      <td>-10</td>\n",
              "      <td>47</td>\n",
              "      <td>-92</td>\n",
              "      <td>98</td>\n",
              "      <td>-62</td>\n",
              "      <td>23</td>\n",
              "      <td>-3.9</td>\n",
              "      <td>-0.31</td>\n",
              "      <td>0.32</td>\n",
              "      <td>-0.077</td>\n",
              "      <td>0.0095</td>\n",
              "      <td>-0.00062</td>\n",
              "      <td>1.7e-05</td>\n",
              "      <td>NaN</td>\n",
              "      <td>NaN</td>\n",
              "    </tr>\n",
              "    <tr>\n",
              "      <th>Number_of_variable_14</th>\n",
              "      <td>0.017</td>\n",
              "      <td>0.056</td>\n",
              "      <td>-5.5</td>\n",
              "      <td>57</td>\n",
              "      <td>-2.4e+02</td>\n",
              "      <td>6e+02</td>\n",
              "      <td>-9.3e+02</td>\n",
              "      <td>9.5e+02</td>\n",
              "      <td>-6.7e+02</td>\n",
              "      <td>3.3e+02</td>\n",
              "      <td>-1.2e+02</td>\n",
              "      <td>30</td>\n",
              "      <td>-5.3</td>\n",
              "      <td>0.67</td>\n",
              "      <td>-0.055</td>\n",
              "      <td>0.0027</td>\n",
              "      <td>-5.9e-05</td>\n",
              "      <td>NaN</td>\n",
              "    </tr>\n",
              "    <tr>\n",
              "      <th>Number_of_variable_15</th>\n",
              "      <td>0.016</td>\n",
              "      <td>0.2</td>\n",
              "      <td>-25</td>\n",
              "      <td>2.7e+02</td>\n",
              "      <td>-1.3e+03</td>\n",
              "      <td>3.3e+03</td>\n",
              "      <td>-5.4e+03</td>\n",
              "      <td>5.9e+03</td>\n",
              "      <td>-4.5e+03</td>\n",
              "      <td>2.5e+03</td>\n",
              "      <td>-1e+03</td>\n",
              "      <td>3e+02</td>\n",
              "      <td>-65</td>\n",
              "      <td>10</td>\n",
              "      <td>-1.2</td>\n",
              "      <td>0.086</td>\n",
              "      <td>-0.0039</td>\n",
              "      <td>7.9e-05</td>\n",
              "    </tr>\n",
              "  </tbody>\n",
              "</table>\n",
              "</div>\n",
              "      <button class=\"colab-df-convert\" onclick=\"convertToInteractive('df-9c130a18-12c2-4320-ba39-1ed88ce9d89f')\"\n",
              "              title=\"Convert this dataframe to an interactive table.\"\n",
              "              style=\"display:none;\">\n",
              "        \n",
              "  <svg xmlns=\"http://www.w3.org/2000/svg\" height=\"24px\"viewBox=\"0 0 24 24\"\n",
              "       width=\"24px\">\n",
              "    <path d=\"M0 0h24v24H0V0z\" fill=\"none\"/>\n",
              "    <path d=\"M18.56 5.44l.94 2.06.94-2.06 2.06-.94-2.06-.94-.94-2.06-.94 2.06-2.06.94zm-11 1L8.5 8.5l.94-2.06 2.06-.94-2.06-.94L8.5 2.5l-.94 2.06-2.06.94zm10 10l.94 2.06.94-2.06 2.06-.94-2.06-.94-.94-2.06-.94 2.06-2.06.94z\"/><path d=\"M17.41 7.96l-1.37-1.37c-.4-.4-.92-.59-1.43-.59-.52 0-1.04.2-1.43.59L10.3 9.45l-7.72 7.72c-.78.78-.78 2.05 0 2.83L4 21.41c.39.39.9.59 1.41.59.51 0 1.02-.2 1.41-.59l7.78-7.78 2.81-2.81c.8-.78.8-2.07 0-2.86zM5.41 20L4 18.59l7.72-7.72 1.47 1.35L5.41 20z\"/>\n",
              "  </svg>\n",
              "      </button>\n",
              "      \n",
              "  <style>\n",
              "    .colab-df-container {\n",
              "      display:flex;\n",
              "      flex-wrap:wrap;\n",
              "      gap: 12px;\n",
              "    }\n",
              "\n",
              "    .colab-df-convert {\n",
              "      background-color: #E8F0FE;\n",
              "      border: none;\n",
              "      border-radius: 50%;\n",
              "      cursor: pointer;\n",
              "      display: none;\n",
              "      fill: #1967D2;\n",
              "      height: 32px;\n",
              "      padding: 0 0 0 0;\n",
              "      width: 32px;\n",
              "    }\n",
              "\n",
              "    .colab-df-convert:hover {\n",
              "      background-color: #E2EBFA;\n",
              "      box-shadow: 0px 1px 2px rgba(60, 64, 67, 0.3), 0px 1px 3px 1px rgba(60, 64, 67, 0.15);\n",
              "      fill: #174EA6;\n",
              "    }\n",
              "\n",
              "    [theme=dark] .colab-df-convert {\n",
              "      background-color: #3B4455;\n",
              "      fill: #D2E3FC;\n",
              "    }\n",
              "\n",
              "    [theme=dark] .colab-df-convert:hover {\n",
              "      background-color: #434B5C;\n",
              "      box-shadow: 0px 1px 3px 1px rgba(0, 0, 0, 0.15);\n",
              "      filter: drop-shadow(0px 1px 2px rgba(0, 0, 0, 0.3));\n",
              "      fill: #FFFFFF;\n",
              "    }\n",
              "  </style>\n",
              "\n",
              "      <script>\n",
              "        const buttonEl =\n",
              "          document.querySelector('#df-9c130a18-12c2-4320-ba39-1ed88ce9d89f button.colab-df-convert');\n",
              "        buttonEl.style.display =\n",
              "          google.colab.kernel.accessAllowed ? 'block' : 'none';\n",
              "\n",
              "        async function convertToInteractive(key) {\n",
              "          const element = document.querySelector('#df-9c130a18-12c2-4320-ba39-1ed88ce9d89f');\n",
              "          const dataTable =\n",
              "            await google.colab.kernel.invokeFunction('convertToInteractive',\n",
              "                                                     [key], {});\n",
              "          if (!dataTable) return;\n",
              "\n",
              "          const docLinkHtml = 'Like what you see? Visit the ' +\n",
              "            '<a target=\"_blank\" href=https://colab.research.google.com/notebooks/data_table.ipynb>data table notebook</a>'\n",
              "            + ' to learn more about interactive tables.';\n",
              "          element.innerHTML = '';\n",
              "          dataTable['output_type'] = 'display_data';\n",
              "          await google.colab.output.renderOutput(dataTable, element);\n",
              "          const docLink = document.createElement('div');\n",
              "          docLink.innerHTML = docLinkHtml;\n",
              "          element.appendChild(docLink);\n",
              "        }\n",
              "      </script>\n",
              "    </div>\n",
              "  </div>\n",
              "  "
            ]
          },
          "metadata": {},
          "execution_count": 31
        }
      ],
      "source": [
        "#Set the display format to be scientific for ease of analysis\n",
        "pd.options.display.float_format = '{:,.2g}'.format\n",
        "coef_matrix_simple"
      ]
    },
    {
      "cell_type": "code",
      "execution_count": 32,
      "metadata": {
        "colab": {
          "base_uri": "https://localhost:8080/",
          "height": 455
        },
        "id": "WLcisBSWIfO3",
        "outputId": "db686b76-c2f7-45dd-da5f-dffe3c99bfc8"
      },
      "outputs": [
        {
          "output_type": "display_data",
          "data": {
            "text/plain": [
              "<Figure size 864x432 with 1 Axes>"
            ],
            "image/png": "[encoded data removed]"
          },
          "metadata": {
            "needs_background": "light"
          }
        }
      ],
      "source": [
        "plt.figure(figsize=(12,6))\n",
        "plt.plot(coef_matrix_simple['mrss_train'])\n",
        "plt.plot(coef_matrix_simple['mrss_test'])\n",
        "plt.xlabel('Features')\n",
        "plt.ylabel('MSE')\n",
        "plt.legend(['train', 'test'])\n",
        "plt.xticks(rotation = 35)\n",
        "plt.show();"
      ]
    },
    {
      "cell_type": "markdown",
      "metadata": {
        "id": "bGDBYdTKIfO8"
      },
      "source": [
        "# Ridge Regression"
      ]
    },
    {
      "cell_type": "markdown",
      "metadata": {
        "id": "C5DykPPUIfO9"
      },
      "source": [
        "The objective of Ridge is to minimize the MSE & Square of cofficient\n",
        "\n",
        "$$J(\\theta) = \\sum_{i=1}^m (h_\\theta(x^{(i)}) - y^{(i)} )^2 + \\lambda(\\theta^2) $$\n",
        "\n",
        "where $h_{\\theta}(x)$ is the hypothesis and given by the linear model\n",
        "\n",
        "$$h_{\\theta}(x) = \\theta^Tx = \\theta_0 + \\theta_1x_1$$\n",
        "\n",
        "where $\\lambda$ is the penality term."
      ]
    },
    {
      "cell_type": "markdown",
      "metadata": {
        "id": "R59AIZbVHkp1"
      },
      "source": [
        "* It shrinks the parameters, therefore it is mostly used to prevent multicollinearity.\n",
        "* It reduces the model complexity by coefficient shrinkage.\n",
        "* It uses L2 regularization technique."
      ]
    },
    {
      "cell_type": "code",
      "execution_count": 33,
      "metadata": {
        "id": "TMUFsw9kIfO-"
      },
      "outputs": [],
      "source": [
        "# Importing ridge from sklearn's linear_model module\n",
        "from sklearn.linear_model import Ridge"
      ]
    },
    {
      "cell_type": "code",
      "execution_count": 34,
      "metadata": {
        "id": "dcWz79qrIfPA"
      },
      "outputs": [],
      "source": [
        "#Set the different values of alpha to be tested\n",
        "alpha_ridge = [0, 1e-8, 1e-4, 1e-3,1e-2, 1, 5, 10, 20, 25]"
      ]
    },
    {
      "cell_type": "code",
      "execution_count": 35,
      "metadata": {
        "id": "0Q0SL-LBIfPB"
      },
      "outputs": [],
      "source": [
        "# defining a function which will fit ridge regression model, plot the results, and return the coefficients\n",
        "def ridge_regression(train_x, train_y, test_x, test_y, alpha, models_to_plot={}):\n",
        "    #Fit the model\n",
        "    ridgereg = Ridge(alpha=alpha,normalize=True)\n",
        "    ridgereg.fit(train_x,train_y)\n",
        "    train_y_pred = ridgereg.predict(train_x)\n",
        "    test_y_pred = ridgereg.predict(test_x)\n",
        "    \n",
        "    #Check if a plot is to be made for the entered alpha\n",
        "    if alpha in models_to_plot:\n",
        "        plt.subplot(models_to_plot[alpha])\n",
        "        plt.tight_layout()\n",
        "        plt.plot(train_x[:,0:1],train_y_pred)\n",
        "        plt.plot(train_x[:,0:1],train_y,'.')\n",
        "        plt.title('Plot for alpha: %.3g'%alpha)\n",
        "    \n",
        "    #Return the result in pre-defined format\n",
        "    mrss_train = sum((train_y_pred-train_y)**2)/train_x.shape[0]\n",
        "    ret = [mrss_train]\n",
        "    \n",
        "    mrss_test = sum((test_y_pred-test_y)**2)/test_x.shape[0]\n",
        "    ret.extend([mrss_test])\n",
        "    \n",
        "    ret.extend([ridgereg.intercept_])\n",
        "    ret.extend(ridgereg.coef_)\n",
        "    \n",
        "    return ret"
      ]
    },
    {
      "cell_type": "code",
      "execution_count": 36,
      "metadata": {
        "id": "aBTiKo64IfPD"
      },
      "outputs": [],
      "source": [
        "#Initialize the dataframe for storing coefficients.\n",
        "col = ['mrss_train','mrss_test','intercept'] + ['coef_Var_%d'%i for i in range(1,16)]\n",
        "ind = ['alpha_%.2g'%alpha_ridge[i] for i in range(0,10)]\n",
        "coef_matrix_ridge = pd.DataFrame(index=ind, columns=col)"
      ]
    },
    {
      "cell_type": "code",
      "execution_count": 37,
      "metadata": {
        "id": "h4S-DXa0IfPE"
      },
      "outputs": [],
      "source": [
        "#Define the alpha value for which a plot is required:\n",
        "models_to_plot = {0:231, 1e-4:232, 1e-3:233, 1e-2:234, 1:235, 5:236}"
      ]
    },
    {
      "cell_type": "code",
      "execution_count": 38,
      "metadata": {
        "colab": {
          "base_uri": "https://localhost:8080/",
          "height": 585
        },
        "id": "E2AHmalFIfPF",
        "outputId": "9bfd7be2-189b-4cae-a23d-c00eb0b094f2"
      },
      "outputs": [
        {
          "output_type": "display_data",
          "data": {
            "text/plain": [
              "<Figure size 864x576 with 6 Axes>"
            ],
            "image/png": "[encoded data removed]"
          },
          "metadata": {
            "needs_background": "light"
          }
        }
      ],
      "source": [
        "#Iterate over the 10 alpha values:\n",
        "plt.figure(figsize=(12,8))\n",
        "for i in range(10):\n",
        "    coef_matrix_ridge.iloc[i,] = ridge_regression(train_x, train_y, test_x, test_y, alpha_ridge[i], models_to_plot)"
      ]
    },
    {
      "cell_type": "code",
      "execution_count": 39,
      "metadata": {
        "colab": {
          "base_uri": "https://localhost:8080/",
          "height": 427
        },
        "id": "GroQiE_FIfPH",
        "outputId": "3b43d9cf-c1b1-48e1-cdb0-c9d55e404935"
      },
      "outputs": [
        {
          "output_type": "execute_result",
          "data": {
            "text/plain": [
              "             mrss_train mrss_test intercept coef_Var_1 coef_Var_2 coef_Var_3  \\\n",
              "alpha_0           0.016       0.2       -25    2.7e+02   -1.3e+03    3.3e+03   \n",
              "alpha_1e-08       0.019     0.028     -0.37        2.3       -1.4       0.39   \n",
              "alpha_0.0001       0.02     0.026    -0.023        1.2      -0.36     -0.023   \n",
              "alpha_0.001       0.028     0.034      0.28       0.72      -0.19     -0.021   \n",
              "alpha_0.01        0.059     0.058       0.7       0.17     -0.075     -0.011   \n",
              "alpha_1            0.19       0.2      0.59     -0.093     -0.013    -0.0016   \n",
              "alpha_5            0.35      0.37      0.29     -0.036    -0.0049   -0.00066   \n",
              "alpha_10            0.4      0.42       0.2     -0.022     -0.003   -0.00042   \n",
              "alpha_20           0.45      0.47      0.13     -0.012    -0.0017   -0.00025   \n",
              "alpha_25           0.46      0.48      0.11      -0.01    -0.0015   -0.00021   \n",
              "\n",
              "             coef_Var_4 coef_Var_5 coef_Var_6 coef_Var_7 coef_Var_8  \\\n",
              "alpha_0        -5.4e+03    5.9e+03   -4.5e+03    2.5e+03     -1e+03   \n",
              "alpha_1e-08      -0.059    -0.0037    0.00094    0.00022    1.5e-05   \n",
              "alpha_0.0001     0.0016    0.00058      9e-05    9.4e-06    5.5e-07   \n",
              "alpha_0.001    -0.00068    0.00019    5.2e-05      9e-06    1.2e-06   \n",
              "alpha_0.01     -0.00085   -1.7e-06    1.6e-05      4e-06    7.4e-07   \n",
              "alpha_1        -0.00019   -2.1e-05   -1.9e-06     -1e-07    1.1e-08   \n",
              "alpha_5        -8.7e-05   -1.1e-05   -1.3e-06   -1.5e-07   -1.6e-08   \n",
              "alpha_10       -5.7e-05   -7.6e-06     -1e-06   -1.3e-07   -1.7e-08   \n",
              "alpha_20       -3.5e-05   -4.9e-06   -6.9e-07   -9.5e-08   -1.3e-08   \n",
              "alpha_25         -3e-05   -4.2e-06   -5.9e-07   -8.4e-08   -1.2e-08   \n",
              "\n",
              "             coef_Var_9 coef_Var_10 coef_Var_11 coef_Var_12 coef_Var_13  \\\n",
              "alpha_0           3e+02         -65          10        -1.2       0.086   \n",
              "alpha_1e-08    -3.2e-06    -1.1e-06    -1.5e-07     3.9e-09     6.1e-09   \n",
              "alpha_0.0001   -4.1e-08      -2e-08    -3.9e-09    -5.6e-10    -5.3e-11   \n",
              "alpha_0.001     1.4e-07     1.1e-08     1.8e-10      -2e-10      -6e-11   \n",
              "alpha_0.01      1.1e-07     1.5e-08     1.7e-09       1e-10    -1.4e-11   \n",
              "alpha_1         5.6e-09     1.4e-09       3e-10     5.8e-11     1.1e-11   \n",
              "alpha_5        -1.4e-09    -4.8e-11     1.7e-11     6.3e-12     1.5e-12   \n",
              "alpha_10         -2e-09    -2.4e-10    -2.6e-11    -2.3e-12    -9.4e-14   \n",
              "alpha_20       -1.8e-09    -2.5e-10    -3.4e-11    -4.5e-12      -6e-13   \n",
              "alpha_25       -1.7e-09    -2.3e-10    -3.2e-11    -4.5e-12    -6.2e-13   \n",
              "\n",
              "             coef_Var_14 coef_Var_15  \n",
              "alpha_0          -0.0039     7.9e-05  \n",
              "alpha_1e-08      1.1e-09    -1.9e-10  \n",
              "alpha_0.0001     9.2e-14     1.6e-12  \n",
              "alpha_0.001     -1.3e-11    -2.3e-12  \n",
              "alpha_0.01      -7.6e-12    -2.1e-12  \n",
              "alpha_1          1.9e-12     3.3e-13  \n",
              "alpha_5          3.2e-13     6.2e-14  \n",
              "alpha_10         2.4e-14     9.6e-15  \n",
              "alpha_20        -7.7e-14    -9.6e-15  \n",
              "alpha_25        -8.5e-14    -1.1e-14  "
            ],
            "text/html": [
              "\n",
              "  <div id=\"df-32127610-a62f-4a41-b7f5-c3a670eb6e64\">\n",
              "    <div class=\"colab-df-container\">\n",
              "      <div>\n",
              "<style scoped>\n",
              "    .dataframe tbody tr th:only-of-type {\n",
              "        vertical-align: middle;\n",
              "    }\n",
              "\n",
              "    .dataframe tbody tr th {\n",
              "        vertical-align: top;\n",
              "    }\n",
              "\n",
              "    .dataframe thead th {\n",
              "        text-align: right;\n",
              "    }\n",
              "</style>\n",
              "<table border=\"1\" class=\"dataframe\">\n",
              "  <thead>\n",
              "    <tr style=\"text-align: right;\">\n",
              "      <th></th>\n",
              "      <th>mrss_train</th>\n",
              "      <th>mrss_test</th>\n",
              "      <th>intercept</th>\n",
              "      <th>coef_Var_1</th>\n",
              "      <th>coef_Var_2</th>\n",
              "      <th>coef_Var_3</th>\n",
              "      <th>coef_Var_4</th>\n",
              "      <th>coef_Var_5</th>\n",
              "      <th>coef_Var_6</th>\n",
              "      <th>coef_Var_7</th>\n",
              "      <th>coef_Var_8</th>\n",
              "      <th>coef_Var_9</th>\n",
              "      <th>coef_Var_10</th>\n",
              "      <th>coef_Var_11</th>\n",
              "      <th>coef_Var_12</th>\n",
              "      <th>coef_Var_13</th>\n",
              "      <th>coef_Var_14</th>\n",
              "      <th>coef_Var_15</th>\n",
              "    </tr>\n",
              "  </thead>\n",
              "  <tbody>\n",
              "    <tr>\n",
              "      <th>alpha_0</th>\n",
              "      <td>0.016</td>\n",
              "      <td>0.2</td>\n",
              "      <td>-25</td>\n",
              "      <td>2.7e+02</td>\n",
              "      <td>-1.3e+03</td>\n",
              "      <td>3.3e+03</td>\n",
              "      <td>-5.4e+03</td>\n",
              "      <td>5.9e+03</td>\n",
              "      <td>-4.5e+03</td>\n",
              "      <td>2.5e+03</td>\n",
              "      <td>-1e+03</td>\n",
              "      <td>3e+02</td>\n",
              "      <td>-65</td>\n",
              "      <td>10</td>\n",
              "      <td>-1.2</td>\n",
              "      <td>0.086</td>\n",
              "      <td>-0.0039</td>\n",
              "      <td>7.9e-05</td>\n",
              "    </tr>\n",
              "    <tr>\n",
              "      <th>alpha_1e-08</th>\n",
              "      <td>0.019</td>\n",
              "      <td>0.028</td>\n",
              "      <td>-0.37</td>\n",
              "      <td>2.3</td>\n",
              "      <td>-1.4</td>\n",
              "      <td>0.39</td>\n",
              "      <td>-0.059</td>\n",
              "      <td>-0.0037</td>\n",
              "      <td>0.00094</td>\n",
              "      <td>0.00022</td>\n",
              "      <td>1.5e-05</td>\n",
              "      <td>-3.2e-06</td>\n",
              "      <td>-1.1e-06</td>\n",
              "      <td>-1.5e-07</td>\n",
              "      <td>3.9e-09</td>\n",
              "      <td>6.1e-09</td>\n",
              "      <td>1.1e-09</td>\n",
              "      <td>-1.9e-10</td>\n",
              "    </tr>\n",
              "    <tr>\n",
              "      <th>alpha_0.0001</th>\n",
              "      <td>0.02</td>\n",
              "      <td>0.026</td>\n",
              "      <td>-0.023</td>\n",
              "      <td>1.2</td>\n",
              "      <td>-0.36</td>\n",
              "      <td>-0.023</td>\n",
              "      <td>0.0016</td>\n",
              "      <td>0.00058</td>\n",
              "      <td>9e-05</td>\n",
              "      <td>9.4e-06</td>\n",
              "      <td>5.5e-07</td>\n",
              "      <td>-4.1e-08</td>\n",
              "      <td>-2e-08</td>\n",
              "      <td>-3.9e-09</td>\n",
              "      <td>-5.6e-10</td>\n",
              "      <td>-5.3e-11</td>\n",
              "      <td>9.2e-14</td>\n",
              "      <td>1.6e-12</td>\n",
              "    </tr>\n",
              "    <tr>\n",
              "      <th>alpha_0.001</th>\n",
              "      <td>0.028</td>\n",
              "      <td>0.034</td>\n",
              "      <td>0.28</td>\n",
              "      <td>0.72</td>\n",
              "      <td>-0.19</td>\n",
              "      <td>-0.021</td>\n",
              "      <td>-0.00068</td>\n",
              "      <td>0.00019</td>\n",
              "      <td>5.2e-05</td>\n",
              "      <td>9e-06</td>\n",
              "      <td>1.2e-06</td>\n",
              "      <td>1.4e-07</td>\n",
              "      <td>1.1e-08</td>\n",
              "      <td>1.8e-10</td>\n",
              "      <td>-2e-10</td>\n",
              "      <td>-6e-11</td>\n",
              "      <td>-1.3e-11</td>\n",
              "      <td>-2.3e-12</td>\n",
              "    </tr>\n",
              "    <tr>\n",
              "      <th>alpha_0.01</th>\n",
              "      <td>0.059</td>\n",
              "      <td>0.058</td>\n",
              "      <td>0.7</td>\n",
              "      <td>0.17</td>\n",
              "      <td>-0.075</td>\n",
              "      <td>-0.011</td>\n",
              "      <td>-0.00085</td>\n",
              "      <td>-1.7e-06</td>\n",
              "      <td>1.6e-05</td>\n",
              "      <td>4e-06</td>\n",
              "      <td>7.4e-07</td>\n",
              "      <td>1.1e-07</td>\n",
              "      <td>1.5e-08</td>\n",
              "      <td>1.7e-09</td>\n",
              "      <td>1e-10</td>\n",
              "      <td>-1.4e-11</td>\n",
              "      <td>-7.6e-12</td>\n",
              "      <td>-2.1e-12</td>\n",
              "    </tr>\n",
              "    <tr>\n",
              "      <th>alpha_1</th>\n",
              "      <td>0.19</td>\n",
              "      <td>0.2</td>\n",
              "      <td>0.59</td>\n",
              "      <td>-0.093</td>\n",
              "      <td>-0.013</td>\n",
              "      <td>-0.0016</td>\n",
              "      <td>-0.00019</td>\n",
              "      <td>-2.1e-05</td>\n",
              "      <td>-1.9e-06</td>\n",
              "      <td>-1e-07</td>\n",
              "      <td>1.1e-08</td>\n",
              "      <td>5.6e-09</td>\n",
              "      <td>1.4e-09</td>\n",
              "      <td>3e-10</td>\n",
              "      <td>5.8e-11</td>\n",
              "      <td>1.1e-11</td>\n",
              "      <td>1.9e-12</td>\n",
              "      <td>3.3e-13</td>\n",
              "    </tr>\n",
              "    <tr>\n",
              "      <th>alpha_5</th>\n",
              "      <td>0.35</td>\n",
              "      <td>0.37</td>\n",
              "      <td>0.29</td>\n",
              "      <td>-0.036</td>\n",
              "      <td>-0.0049</td>\n",
              "      <td>-0.00066</td>\n",
              "      <td>-8.7e-05</td>\n",
              "      <td>-1.1e-05</td>\n",
              "      <td>-1.3e-06</td>\n",
              "      <td>-1.5e-07</td>\n",
              "      <td>-1.6e-08</td>\n",
              "      <td>-1.4e-09</td>\n",
              "      <td>-4.8e-11</td>\n",
              "      <td>1.7e-11</td>\n",
              "      <td>6.3e-12</td>\n",
              "      <td>1.5e-12</td>\n",
              "      <td>3.2e-13</td>\n",
              "      <td>6.2e-14</td>\n",
              "    </tr>\n",
              "    <tr>\n",
              "      <th>alpha_10</th>\n",
              "      <td>0.4</td>\n",
              "      <td>0.42</td>\n",
              "      <td>0.2</td>\n",
              "      <td>-0.022</td>\n",
              "      <td>-0.003</td>\n",
              "      <td>-0.00042</td>\n",
              "      <td>-5.7e-05</td>\n",
              "      <td>-7.6e-06</td>\n",
              "      <td>-1e-06</td>\n",
              "      <td>-1.3e-07</td>\n",
              "      <td>-1.7e-08</td>\n",
              "      <td>-2e-09</td>\n",
              "      <td>-2.4e-10</td>\n",
              "      <td>-2.6e-11</td>\n",
              "      <td>-2.3e-12</td>\n",
              "      <td>-9.4e-14</td>\n",
              "      <td>2.4e-14</td>\n",
              "      <td>9.6e-15</td>\n",
              "    </tr>\n",
              "    <tr>\n",
              "      <th>alpha_20</th>\n",
              "      <td>0.45</td>\n",
              "      <td>0.47</td>\n",
              "      <td>0.13</td>\n",
              "      <td>-0.012</td>\n",
              "      <td>-0.0017</td>\n",
              "      <td>-0.00025</td>\n",
              "      <td>-3.5e-05</td>\n",
              "      <td>-4.9e-06</td>\n",
              "      <td>-6.9e-07</td>\n",
              "      <td>-9.5e-08</td>\n",
              "      <td>-1.3e-08</td>\n",
              "      <td>-1.8e-09</td>\n",
              "      <td>-2.5e-10</td>\n",
              "      <td>-3.4e-11</td>\n",
              "      <td>-4.5e-12</td>\n",
              "      <td>-6e-13</td>\n",
              "      <td>-7.7e-14</td>\n",
              "      <td>-9.6e-15</td>\n",
              "    </tr>\n",
              "    <tr>\n",
              "      <th>alpha_25</th>\n",
              "      <td>0.46</td>\n",
              "      <td>0.48</td>\n",
              "      <td>0.11</td>\n",
              "      <td>-0.01</td>\n",
              "      <td>-0.0015</td>\n",
              "      <td>-0.00021</td>\n",
              "      <td>-3e-05</td>\n",
              "      <td>-4.2e-06</td>\n",
              "      <td>-5.9e-07</td>\n",
              "      <td>-8.4e-08</td>\n",
              "      <td>-1.2e-08</td>\n",
              "      <td>-1.7e-09</td>\n",
              "      <td>-2.3e-10</td>\n",
              "      <td>-3.2e-11</td>\n",
              "      <td>-4.5e-12</td>\n",
              "      <td>-6.2e-13</td>\n",
              "      <td>-8.5e-14</td>\n",
              "      <td>-1.1e-14</td>\n",
              "    </tr>\n",
              "  </tbody>\n",
              "</table>\n",
              "</div>\n",
              "      <button class=\"colab-df-convert\" onclick=\"convertToInteractive('df-32127610-a62f-4a41-b7f5-c3a670eb6e64')\"\n",
              "              title=\"Convert this dataframe to an interactive table.\"\n",
              "              style=\"display:none;\">\n",
              "        \n",
              "  <svg xmlns=\"http://www.w3.org/2000/svg\" height=\"24px\"viewBox=\"0 0 24 24\"\n",
              "       width=\"24px\">\n",
              "    <path d=\"M0 0h24v24H0V0z\" fill=\"none\"/>\n",
              "    <path d=\"M18.56 5.44l.94 2.06.94-2.06 2.06-.94-2.06-.94-.94-2.06-.94 2.06-2.06.94zm-11 1L8.5 8.5l.94-2.06 2.06-.94-2.06-.94L8.5 2.5l-.94 2.06-2.06.94zm10 10l.94 2.06.94-2.06 2.06-.94-2.06-.94-.94-2.06-.94 2.06-2.06.94z\"/><path d=\"M17.41 7.96l-1.37-1.37c-.4-.4-.92-.59-1.43-.59-.52 0-1.04.2-1.43.59L10.3 9.45l-7.72 7.72c-.78.78-.78 2.05 0 2.83L4 21.41c.39.39.9.59 1.41.59.51 0 1.02-.2 1.41-.59l7.78-7.78 2.81-2.81c.8-.78.8-2.07 0-2.86zM5.41 20L4 18.59l7.72-7.72 1.47 1.35L5.41 20z\"/>\n",
              "  </svg>\n",
              "      </button>\n",
              "      \n",
              "  <style>\n",
              "    .colab-df-container {\n",
              "      display:flex;\n",
              "      flex-wrap:wrap;\n",
              "      gap: 12px;\n",
              "    }\n",
              "\n",
              "    .colab-df-convert {\n",
              "      background-color: #E8F0FE;\n",
              "      border: none;\n",
              "      border-radius: 50%;\n",
              "      cursor: pointer;\n",
              "      display: none;\n",
              "      fill: #1967D2;\n",
              "      height: 32px;\n",
              "      padding: 0 0 0 0;\n",
              "      width: 32px;\n",
              "    }\n",
              "\n",
              "    .colab-df-convert:hover {\n",
              "      background-color: #E2EBFA;\n",
              "      box-shadow: 0px 1px 2px rgba(60, 64, 67, 0.3), 0px 1px 3px 1px rgba(60, 64, 67, 0.15);\n",
              "      fill: #174EA6;\n",
              "    }\n",
              "\n",
              "    [theme=dark] .colab-df-convert {\n",
              "      background-color: #3B4455;\n",
              "      fill: #D2E3FC;\n",
              "    }\n",
              "\n",
              "    [theme=dark] .colab-df-convert:hover {\n",
              "      background-color: #434B5C;\n",
              "      box-shadow: 0px 1px 3px 1px rgba(0, 0, 0, 0.15);\n",
              "      filter: drop-shadow(0px 1px 2px rgba(0, 0, 0, 0.3));\n",
              "      fill: #FFFFFF;\n",
              "    }\n",
              "  </style>\n",
              "\n",
              "      <script>\n",
              "        const buttonEl =\n",
              "          document.querySelector('#df-32127610-a62f-4a41-b7f5-c3a670eb6e64 button.colab-df-convert');\n",
              "        buttonEl.style.display =\n",
              "          google.colab.kernel.accessAllowed ? 'block' : 'none';\n",
              "\n",
              "        async function convertToInteractive(key) {\n",
              "          const element = document.querySelector('#df-32127610-a62f-4a41-b7f5-c3a670eb6e64');\n",
              "          const dataTable =\n",
              "            await google.colab.kernel.invokeFunction('convertToInteractive',\n",
              "                                                     [key], {});\n",
              "          if (!dataTable) return;\n",
              "\n",
              "          const docLinkHtml = 'Like what you see? Visit the ' +\n",
              "            '<a target=\"_blank\" href=https://colab.research.google.com/notebooks/data_table.ipynb>data table notebook</a>'\n",
              "            + ' to learn more about interactive tables.';\n",
              "          element.innerHTML = '';\n",
              "          dataTable['output_type'] = 'display_data';\n",
              "          await google.colab.output.renderOutput(dataTable, element);\n",
              "          const docLink = document.createElement('div');\n",
              "          docLink.innerHTML = docLinkHtml;\n",
              "          element.appendChild(docLink);\n",
              "        }\n",
              "      </script>\n",
              "    </div>\n",
              "  </div>\n",
              "  "
            ]
          },
          "metadata": {},
          "execution_count": 39
        }
      ],
      "source": [
        "#Set the display format to be scientific for ease of analysis\n",
        "pd.options.display.float_format = '{:,.2g}'.format\n",
        "coef_matrix_ridge"
      ]
    },
    {
      "cell_type": "code",
      "execution_count": 40,
      "metadata": {
        "colab": {
          "base_uri": "https://localhost:8080/"
        },
        "id": "r2OInxZcIfPL",
        "outputId": "32c96e08-224c-4e9a-9ba8-bc4c8c666c1e"
      },
      "outputs": [
        {
          "output_type": "execute_result",
          "data": {
            "text/plain": [
              "alpha_0        0.016\n",
              "alpha_1e-08    0.019\n",
              "alpha_0.0001    0.02\n",
              "alpha_0.001    0.028\n",
              "alpha_0.01     0.059\n",
              "alpha_1         0.19\n",
              "alpha_5         0.35\n",
              "alpha_10         0.4\n",
              "alpha_20        0.45\n",
              "alpha_25        0.46\n",
              "Name: mrss_train, dtype: object"
            ]
          },
          "metadata": {},
          "execution_count": 40
        }
      ],
      "source": [
        "coef_matrix_ridge['mrss_train']"
      ]
    },
    {
      "cell_type": "code",
      "execution_count": 41,
      "metadata": {
        "colab": {
          "base_uri": "https://localhost:8080/"
        },
        "id": "BkvWtX9bIfPN",
        "outputId": "ccac61d7-045a-48e8-bbec-d6bbe65d9f5d"
      },
      "outputs": [
        {
          "output_type": "execute_result",
          "data": {
            "text/plain": [
              "(10,)"
            ]
          },
          "metadata": {},
          "execution_count": 41
        }
      ],
      "source": [
        "coef_matrix_ridge['mrss_test'].shape"
      ]
    },
    {
      "cell_type": "code",
      "execution_count": 42,
      "metadata": {
        "colab": {
          "base_uri": "https://localhost:8080/",
          "height": 282
        },
        "id": "Y6l4F43qIfPO",
        "outputId": "4ea87bda-f3d8-4bce-a451-2c0c1da7c0ce"
      },
      "outputs": [
        {
          "output_type": "display_data",
          "data": {
            "text/plain": [
              "<Figure size 432x288 with 1 Axes>"
            ],
            "image/png": "[encoded data removed]"
          },
          "metadata": {
            "needs_background": "light"
          }
        }
      ],
      "source": [
        "coef_matrix_ridge[['mrss_train','mrss_test']].plot()\n",
        "plt.xlabel('Alpha Values')\n",
        "plt.ylabel('MRSS')\n",
        "plt.legend(['train', 'test']);"
      ]
    },
    {
      "cell_type": "code",
      "execution_count": 43,
      "metadata": {
        "colab": {
          "base_uri": "https://localhost:8080/"
        },
        "id": "ajxDxuQsIfPQ",
        "outputId": "65877dd3-a10d-4de6-edda-345a57c02e76"
      },
      "outputs": [
        {
          "output_type": "execute_result",
          "data": {
            "text/plain": [
              "[0, 1e-08, 0.0001, 0.001, 0.01, 1, 5, 10, 20, 25]"
            ]
          },
          "metadata": {},
          "execution_count": 43
        }
      ],
      "source": [
        "alpha_ridge"
      ]
    },
    {
      "cell_type": "code",
      "execution_count": 44,
      "metadata": {
        "colab": {
          "base_uri": "https://localhost:8080/"
        },
        "id": "gfibvH8zIfPT",
        "outputId": "aac810d2-38f6-4926-8490-a0d2dd2acda4"
      },
      "outputs": [
        {
          "output_type": "execute_result",
          "data": {
            "text/plain": [
              "alpha_0         0\n",
              "alpha_1e-08     0\n",
              "alpha_0.0001    0\n",
              "alpha_0.001     0\n",
              "alpha_0.01      0\n",
              "alpha_1         0\n",
              "alpha_5         0\n",
              "alpha_10        0\n",
              "alpha_20        0\n",
              "alpha_25        0\n",
              "dtype: int64"
            ]
          },
          "metadata": {},
          "execution_count": 44
        }
      ],
      "source": [
        "#Printing number of zeros in each row of the coefficients dataset\n",
        "coef_matrix_ridge.apply(lambda x: sum(x.values==0),axis=1)"
      ]
    },
    {
      "cell_type": "markdown",
      "metadata": {
        "id": "HM0V4BHOIfPV"
      },
      "source": [
        "# Lasso"
      ]
    },
    {
      "cell_type": "markdown",
      "metadata": {
        "id": "ZiB2hS3mIfPW"
      },
      "source": [
        "The objective of Lasso is to minimize the MSE & Square of cofficient\n",
        "\n",
        "$$J(\\theta) = \\sum_{i=1}^m (h_\\theta(x^{(i)}) - y^{(i)} )^2 + \\lambda(\\theta) $$\n",
        "\n",
        "where $h_{\\theta}(x)$ is the hypothesis and given by the linear model\n",
        "\n",
        "$$h_{\\theta}(x) = \\theta^Tx = \\theta_0 + \\theta_1x_1$$\n",
        "\n",
        "where $\\lambda$ is the penality term."
      ]
    },
    {
      "cell_type": "markdown",
      "metadata": {
        "id": "cErAUBnJHkp-"
      },
      "source": [
        "* It uses L1 regularization technique (will be discussed later in this article)\n",
        "* It is generally used when we have more number of features, because it automatically does feature selection."
      ]
    },
    {
      "cell_type": "code",
      "execution_count": 45,
      "metadata": {
        "id": "gpeAOxGzIfPW"
      },
      "outputs": [],
      "source": [
        "#Importing Lasso model from sklearn's linear_model module\n",
        "from sklearn.linear_model import Lasso"
      ]
    },
    {
      "cell_type": "code",
      "execution_count": 46,
      "metadata": {
        "id": "HDs8KiFkIfPY"
      },
      "outputs": [],
      "source": [
        "#Define the alpha values to test\n",
        "alpha_lasso = [0, 1e-10, 1e-8, 1e-5,1e-4, 1e-3,1e-2, 1, 5, 10]"
      ]
    },
    {
      "cell_type": "code",
      "execution_count": 47,
      "metadata": {
        "id": "rw0t5g0zIfPZ"
      },
      "outputs": [],
      "source": [
        "# defining a function which will fit lasso regression model, plot the results, and return the coefficients\n",
        "def lasso_regression(train_x, train_y, test_x, test_y, alpha, models_to_plot={}):\n",
        "    #Fit the model\n",
        "    if alpha == 0:\n",
        "        lassoreg = LinearRegression(normalize=True)\n",
        "        lassoreg.fit(train_x, train_y)\n",
        "        train_y_pred = lassoreg.predict(train_x)\n",
        "        test_y_pred = lassoreg.predict(test_x)\n",
        "        \n",
        "    else:\n",
        "        lassoreg = Lasso(alpha=alpha,normalize=True)\n",
        "        lassoreg.fit(train_x,train_y)\n",
        "        train_y_pred = lassoreg.predict(train_x)\n",
        "        test_y_pred = lassoreg.predict(test_x)\n",
        "    \n",
        "    #Check if a plot is to be made for the entered alpha\n",
        "    if alpha in models_to_plot:\n",
        "        plt.subplot(models_to_plot[alpha])\n",
        "        plt.tight_layout()\n",
        "        plt.plot(train_x[:,0:1],train_y_pred)\n",
        "        plt.plot(train_x[:,0:1],train_y,'.')\n",
        "        plt.title('Plot for alpha: %.3g'%alpha)\n",
        "    \n",
        "    #Return the result in pre-defined format\n",
        "    mrss_train = sum((train_y_pred-train_y)**2)/train_x.shape[0]\n",
        "    ret = [mrss_train]\n",
        "    \n",
        "    mrss_test = sum((test_y_pred-test_y)**2)/test_x.shape[0]\n",
        "    ret.extend([mrss_test])\n",
        "    \n",
        "    ret.extend([lassoreg.intercept_])\n",
        "    ret.extend(lassoreg.coef_)\n",
        "    \n",
        "    return ret"
      ]
    },
    {
      "cell_type": "code",
      "execution_count": 48,
      "metadata": {
        "id": "usZBuL-RIfPd"
      },
      "outputs": [],
      "source": [
        "#Initialize the dataframe to store coefficients\n",
        "col = ['mrss_train','mrss_test','intercept'] + ['coef_Var_%d'%i for i in range(1,16)]\n",
        "ind = ['alpha_%.2g'%alpha_lasso[i] for i in range(0,10)]\n",
        "coef_matrix_lasso = pd.DataFrame(index=ind, columns=col)"
      ]
    },
    {
      "cell_type": "code",
      "execution_count": 49,
      "metadata": {
        "id": "cpsWHPm8IfPf"
      },
      "outputs": [],
      "source": [
        "#Define the models to plot\n",
        "models_to_plot = {0:231, 1e-5:232,1e-4:233, 1e-3:234, 1e-2:235, 1:236}"
      ]
    },
    {
      "cell_type": "code",
      "execution_count": 50,
      "metadata": {
        "colab": {
          "base_uri": "https://localhost:8080/",
          "height": 585
        },
        "id": "fHG-nUv6IfPh",
        "outputId": "f349ce31-46c7-4f8b-b256-ef0b10af73d7"
      },
      "outputs": [
        {
          "output_type": "display_data",
          "data": {
            "text/plain": [
              "<Figure size 864x576 with 6 Axes>"
            ],
            "image/png": "[encoded data removed]"
          },
          "metadata": {
            "needs_background": "light"
          }
        }
      ],
      "source": [
        "#Iterate over the 10 alpha values:\n",
        "plt.figure(figsize=(12,8))\n",
        "for i in range(10):\n",
        "    coef_matrix_lasso.iloc[i,] = lasso_regression(train_x, train_y, test_x, test_y, alpha_lasso[i], models_to_plot)"
      ]
    },
    {
      "cell_type": "code",
      "execution_count": 51,
      "metadata": {
        "colab": {
          "base_uri": "https://localhost:8080/",
          "height": 427
        },
        "id": "_kbNXIaoIfPj",
        "outputId": "42df34ac-0814-4b0c-fe47-bbf6e11a2bbc"
      },
      "outputs": [
        {
          "output_type": "execute_result",
          "data": {
            "text/plain": [
              "             mrss_train mrss_test intercept coef_Var_1 coef_Var_2 coef_Var_3  \\\n",
              "alpha_0           0.016       0.2       -25    2.7e+02   -1.3e+03    3.3e+03   \n",
              "alpha_1e-10        0.02     0.027    -0.054        1.4      -0.44    -0.0036   \n",
              "alpha_1e-08        0.02     0.027    -0.054        1.4      -0.44    -0.0036   \n",
              "alpha_1e-05        0.02     0.027    -0.041        1.3      -0.44    -0.0032   \n",
              "alpha_0.0001      0.022     0.027     0.071        1.1      -0.38         -0   \n",
              "alpha_0.001        0.08     0.072      0.81       0.11      -0.11         -0   \n",
              "alpha_0.01         0.18      0.17      0.89      -0.25    -0.0088         -0   \n",
              "alpha_1            0.55      0.56    -0.003         -0         -0         -0   \n",
              "alpha_5            0.55      0.56    -0.003         -0         -0         -0   \n",
              "alpha_10           0.55      0.56    -0.003         -0         -0         -0   \n",
              "\n",
              "             coef_Var_4 coef_Var_5 coef_Var_6 coef_Var_7 coef_Var_8  \\\n",
              "alpha_0        -5.4e+03    5.9e+03   -4.5e+03    2.5e+03     -1e+03   \n",
              "alpha_1e-10      0.0023    0.00039    4.7e-05      5e-06    4.5e-07   \n",
              "alpha_1e-08      0.0023    0.00039    4.7e-05      5e-06    4.5e-07   \n",
              "alpha_1e-05       0.002     0.0004    4.8e-05      5e-06    4.3e-07   \n",
              "alpha_0.0001          0    0.00042    5.9e-05    5.4e-06    3.1e-07   \n",
              "alpha_0.001          -0          0          0          0    9.6e-07   \n",
              "alpha_0.01           -0         -0          0          0          0   \n",
              "alpha_1              -0         -0         -0         -0         -0   \n",
              "alpha_5              -0         -0         -0         -0         -0   \n",
              "alpha_10             -0         -0         -0         -0         -0   \n",
              "\n",
              "             coef_Var_9 coef_Var_10 coef_Var_11 coef_Var_12 coef_Var_13  \\\n",
              "alpha_0           3e+02         -65          10        -1.2       0.086   \n",
              "alpha_1e-10     2.9e-08      -4e-10    -6.3e-10    -1.7e-10    -3.4e-11   \n",
              "alpha_1e-08     2.9e-08      -4e-10    -6.3e-10    -1.7e-10    -3.4e-11   \n",
              "alpha_1e-05     2.4e-08           0          -0    -1.4e-10    -3.8e-11   \n",
              "alpha_0.0001          0           0           0          -0          -0   \n",
              "alpha_0.001     7.1e-08           0           0           0           0   \n",
              "alpha_0.01            0           0           0           0           0   \n",
              "alpha_1              -0          -0          -0          -0          -0   \n",
              "alpha_5              -0          -0          -0          -0          -0   \n",
              "alpha_10             -0          -0          -0          -0          -0   \n",
              "\n",
              "             coef_Var_14 coef_Var_15  \n",
              "alpha_0          -0.0039     7.9e-05  \n",
              "alpha_1e-10     -6.3e-12    -1.1e-12  \n",
              "alpha_1e-08     -6.3e-12    -1.1e-12  \n",
              "alpha_1e-05       -7e-12    -1.2e-12  \n",
              "alpha_0.0001    -2.8e-12    -2.6e-12  \n",
              "alpha_0.001            0           0  \n",
              "alpha_0.01             0     8.1e-13  \n",
              "alpha_1               -0          -0  \n",
              "alpha_5               -0          -0  \n",
              "alpha_10              -0          -0  "
            ],
            "text/html": [
              "\n",
              "  <div id=\"df-14d79045-8b2e-4dbe-8f25-fce9e3ec6911\">\n",
              "    <div class=\"colab-df-container\">\n",
              "      <div>\n",
              "<style scoped>\n",
              "    .dataframe tbody tr th:only-of-type {\n",
              "        vertical-align: middle;\n",
              "    }\n",
              "\n",
              "    .dataframe tbody tr th {\n",
              "        vertical-align: top;\n",
              "    }\n",
              "\n",
              "    .dataframe thead th {\n",
              "        text-align: right;\n",
              "    }\n",
              "</style>\n",
              "<table border=\"1\" class=\"dataframe\">\n",
              "  <thead>\n",
              "    <tr style=\"text-align: right;\">\n",
              "      <th></th>\n",
              "      <th>mrss_train</th>\n",
              "      <th>mrss_test</th>\n",
              "      <th>intercept</th>\n",
              "      <th>coef_Var_1</th>\n",
              "      <th>coef_Var_2</th>\n",
              "      <th>coef_Var_3</th>\n",
              "      <th>coef_Var_4</th>\n",
              "      <th>coef_Var_5</th>\n",
              "      <th>coef_Var_6</th>\n",
              "      <th>coef_Var_7</th>\n",
              "      <th>coef_Var_8</th>\n",
              "      <th>coef_Var_9</th>\n",
              "      <th>coef_Var_10</th>\n",
              "      <th>coef_Var_11</th>\n",
              "      <th>coef_Var_12</th>\n",
              "      <th>coef_Var_13</th>\n",
              "      <th>coef_Var_14</th>\n",
              "      <th>coef_Var_15</th>\n",
              "    </tr>\n",
              "  </thead>\n",
              "  <tbody>\n",
              "    <tr>\n",
              "      <th>alpha_0</th>\n",
              "      <td>0.016</td>\n",
              "      <td>0.2</td>\n",
              "      <td>-25</td>\n",
              "      <td>2.7e+02</td>\n",
              "      <td>-1.3e+03</td>\n",
              "      <td>3.3e+03</td>\n",
              "      <td>-5.4e+03</td>\n",
              "      <td>5.9e+03</td>\n",
              "      <td>-4.5e+03</td>\n",
              "      <td>2.5e+03</td>\n",
              "      <td>-1e+03</td>\n",
              "      <td>3e+02</td>\n",
              "      <td>-65</td>\n",
              "      <td>10</td>\n",
              "      <td>-1.2</td>\n",
              "      <td>0.086</td>\n",
              "      <td>-0.0039</td>\n",
              "      <td>7.9e-05</td>\n",
              "    </tr>\n",
              "    <tr>\n",
              "      <th>alpha_1e-10</th>\n",
              "      <td>0.02</td>\n",
              "      <td>0.027</td>\n",
              "      <td>-0.054</td>\n",
              "      <td>1.4</td>\n",
              "      <td>-0.44</td>\n",
              "      <td>-0.0036</td>\n",
              "      <td>0.0023</td>\n",
              "      <td>0.00039</td>\n",
              "      <td>4.7e-05</td>\n",
              "      <td>5e-06</td>\n",
              "      <td>4.5e-07</td>\n",
              "      <td>2.9e-08</td>\n",
              "      <td>-4e-10</td>\n",
              "      <td>-6.3e-10</td>\n",
              "      <td>-1.7e-10</td>\n",
              "      <td>-3.4e-11</td>\n",
              "      <td>-6.3e-12</td>\n",
              "      <td>-1.1e-12</td>\n",
              "    </tr>\n",
              "    <tr>\n",
              "      <th>alpha_1e-08</th>\n",
              "      <td>0.02</td>\n",
              "      <td>0.027</td>\n",
              "      <td>-0.054</td>\n",
              "      <td>1.4</td>\n",
              "      <td>-0.44</td>\n",
              "      <td>-0.0036</td>\n",
              "      <td>0.0023</td>\n",
              "      <td>0.00039</td>\n",
              "      <td>4.7e-05</td>\n",
              "      <td>5e-06</td>\n",
              "      <td>4.5e-07</td>\n",
              "      <td>2.9e-08</td>\n",
              "      <td>-4e-10</td>\n",
              "      <td>-6.3e-10</td>\n",
              "      <td>-1.7e-10</td>\n",
              "      <td>-3.4e-11</td>\n",
              "      <td>-6.3e-12</td>\n",
              "      <td>-1.1e-12</td>\n",
              "    </tr>\n",
              "    <tr>\n",
              "      <th>alpha_1e-05</th>\n",
              "      <td>0.02</td>\n",
              "      <td>0.027</td>\n",
              "      <td>-0.041</td>\n",
              "      <td>1.3</td>\n",
              "      <td>-0.44</td>\n",
              "      <td>-0.0032</td>\n",
              "      <td>0.002</td>\n",
              "      <td>0.0004</td>\n",
              "      <td>4.8e-05</td>\n",
              "      <td>5e-06</td>\n",
              "      <td>4.3e-07</td>\n",
              "      <td>2.4e-08</td>\n",
              "      <td>0</td>\n",
              "      <td>-0</td>\n",
              "      <td>-1.4e-10</td>\n",
              "      <td>-3.8e-11</td>\n",
              "      <td>-7e-12</td>\n",
              "      <td>-1.2e-12</td>\n",
              "    </tr>\n",
              "    <tr>\n",
              "      <th>alpha_0.0001</th>\n",
              "      <td>0.022</td>\n",
              "      <td>0.027</td>\n",
              "      <td>0.071</td>\n",
              "      <td>1.1</td>\n",
              "      <td>-0.38</td>\n",
              "      <td>-0</td>\n",
              "      <td>0</td>\n",
              "      <td>0.00042</td>\n",
              "      <td>5.9e-05</td>\n",
              "      <td>5.4e-06</td>\n",
              "      <td>3.1e-07</td>\n",
              "      <td>0</td>\n",
              "      <td>0</td>\n",
              "      <td>0</td>\n",
              "      <td>-0</td>\n",
              "      <td>-0</td>\n",
              "      <td>-2.8e-12</td>\n",
              "      <td>-2.6e-12</td>\n",
              "    </tr>\n",
              "    <tr>\n",
              "      <th>alpha_0.001</th>\n",
              "      <td>0.08</td>\n",
              "      <td>0.072</td>\n",
              "      <td>0.81</td>\n",
              "      <td>0.11</td>\n",
              "      <td>-0.11</td>\n",
              "      <td>-0</td>\n",
              "      <td>-0</td>\n",
              "      <td>0</td>\n",
              "      <td>0</td>\n",
              "      <td>0</td>\n",
              "      <td>9.6e-07</td>\n",
              "      <td>7.1e-08</td>\n",
              "      <td>0</td>\n",
              "      <td>0</td>\n",
              "      <td>0</td>\n",
              "      <td>0</td>\n",
              "      <td>0</td>\n",
              "      <td>0</td>\n",
              "    </tr>\n",
              "    <tr>\n",
              "      <th>alpha_0.01</th>\n",
              "      <td>0.18</td>\n",
              "      <td>0.17</td>\n",
              "      <td>0.89</td>\n",
              "      <td>-0.25</td>\n",
              "      <td>-0.0088</td>\n",
              "      <td>-0</td>\n",
              "      <td>-0</td>\n",
              "      <td>-0</td>\n",
              "      <td>0</td>\n",
              "      <td>0</td>\n",
              "      <td>0</td>\n",
              "      <td>0</td>\n",
              "      <td>0</td>\n",
              "      <td>0</td>\n",
              "      <td>0</td>\n",
              "      <td>0</td>\n",
              "      <td>0</td>\n",
              "      <td>8.1e-13</td>\n",
              "    </tr>\n",
              "    <tr>\n",
              "      <th>alpha_1</th>\n",
              "      <td>0.55</td>\n",
              "      <td>0.56</td>\n",
              "      <td>-0.003</td>\n",
              "      <td>-0</td>\n",
              "      <td>-0</td>\n",
              "      <td>-0</td>\n",
              "      <td>-0</td>\n",
              "      <td>-0</td>\n",
              "      <td>-0</td>\n",
              "      <td>-0</td>\n",
              "      <td>-0</td>\n",
              "      <td>-0</td>\n",
              "      <td>-0</td>\n",
              "      <td>-0</td>\n",
              "      <td>-0</td>\n",
              "      <td>-0</td>\n",
              "      <td>-0</td>\n",
              "      <td>-0</td>\n",
              "    </tr>\n",
              "    <tr>\n",
              "      <th>alpha_5</th>\n",
              "      <td>0.55</td>\n",
              "      <td>0.56</td>\n",
              "      <td>-0.003</td>\n",
              "      <td>-0</td>\n",
              "      <td>-0</td>\n",
              "      <td>-0</td>\n",
              "      <td>-0</td>\n",
              "      <td>-0</td>\n",
              "      <td>-0</td>\n",
              "      <td>-0</td>\n",
              "      <td>-0</td>\n",
              "      <td>-0</td>\n",
              "      <td>-0</td>\n",
              "      <td>-0</td>\n",
              "      <td>-0</td>\n",
              "      <td>-0</td>\n",
              "      <td>-0</td>\n",
              "      <td>-0</td>\n",
              "    </tr>\n",
              "    <tr>\n",
              "      <th>alpha_10</th>\n",
              "      <td>0.55</td>\n",
              "      <td>0.56</td>\n",
              "      <td>-0.003</td>\n",
              "      <td>-0</td>\n",
              "      <td>-0</td>\n",
              "      <td>-0</td>\n",
              "      <td>-0</td>\n",
              "      <td>-0</td>\n",
              "      <td>-0</td>\n",
              "      <td>-0</td>\n",
              "      <td>-0</td>\n",
              "      <td>-0</td>\n",
              "      <td>-0</td>\n",
              "      <td>-0</td>\n",
              "      <td>-0</td>\n",
              "      <td>-0</td>\n",
              "      <td>-0</td>\n",
              "      <td>-0</td>\n",
              "    </tr>\n",
              "  </tbody>\n",
              "</table>\n",
              "</div>\n",
              "      <button class=\"colab-df-convert\" onclick=\"convertToInteractive('df-14d79045-8b2e-4dbe-8f25-fce9e3ec6911')\"\n",
              "              title=\"Convert this dataframe to an interactive table.\"\n",
              "              style=\"display:none;\">\n",
              "        \n",
              "  <svg xmlns=\"http://www.w3.org/2000/svg\" height=\"24px\"viewBox=\"0 0 24 24\"\n",
              "       width=\"24px\">\n",
              "    <path d=\"M0 0h24v24H0V0z\" fill=\"none\"/>\n",
              "    <path d=\"M18.56 5.44l.94 2.06.94-2.06 2.06-.94-2.06-.94-.94-2.06-.94 2.06-2.06.94zm-11 1L8.5 8.5l.94-2.06 2.06-.94-2.06-.94L8.5 2.5l-.94 2.06-2.06.94zm10 10l.94 2.06.94-2.06 2.06-.94-2.06-.94-.94-2.06-.94 2.06-2.06.94z\"/><path d=\"M17.41 7.96l-1.37-1.37c-.4-.4-.92-.59-1.43-.59-.52 0-1.04.2-1.43.59L10.3 9.45l-7.72 7.72c-.78.78-.78 2.05 0 2.83L4 21.41c.39.39.9.59 1.41.59.51 0 1.02-.2 1.41-.59l7.78-7.78 2.81-2.81c.8-.78.8-2.07 0-2.86zM5.41 20L4 18.59l7.72-7.72 1.47 1.35L5.41 20z\"/>\n",
              "  </svg>\n",
              "      </button>\n",
              "      \n",
              "  <style>\n",
              "    .colab-df-container {\n",
              "      display:flex;\n",
              "      flex-wrap:wrap;\n",
              "      gap: 12px;\n",
              "    }\n",
              "\n",
              "    .colab-df-convert {\n",
              "      background-color: #E8F0FE;\n",
              "      border: none;\n",
              "      border-radius: 50%;\n",
              "      cursor: pointer;\n",
              "      display: none;\n",
              "      fill: #1967D2;\n",
              "      height: 32px;\n",
              "      padding: 0 0 0 0;\n",
              "      width: 32px;\n",
              "    }\n",
              "\n",
              "    .colab-df-convert:hover {\n",
              "      background-color: #E2EBFA;\n",
              "      box-shadow: 0px 1px 2px rgba(60, 64, 67, 0.3), 0px 1px 3px 1px rgba(60, 64, 67, 0.15);\n",
              "      fill: #174EA6;\n",
              "    }\n",
              "\n",
              "    [theme=dark] .colab-df-convert {\n",
              "      background-color: #3B4455;\n",
              "      fill: #D2E3FC;\n",
              "    }\n",
              "\n",
              "    [theme=dark] .colab-df-convert:hover {\n",
              "      background-color: #434B5C;\n",
              "      box-shadow: 0px 1px 3px 1px rgba(0, 0, 0, 0.15);\n",
              "      filter: drop-shadow(0px 1px 2px rgba(0, 0, 0, 0.3));\n",
              "      fill: #FFFFFF;\n",
              "    }\n",
              "  </style>\n",
              "\n",
              "      <script>\n",
              "        const buttonEl =\n",
              "          document.querySelector('#df-14d79045-8b2e-4dbe-8f25-fce9e3ec6911 button.colab-df-convert');\n",
              "        buttonEl.style.display =\n",
              "          google.colab.kernel.accessAllowed ? 'block' : 'none';\n",
              "\n",
              "        async function convertToInteractive(key) {\n",
              "          const element = document.querySelector('#df-14d79045-8b2e-4dbe-8f25-fce9e3ec6911');\n",
              "          const dataTable =\n",
              "            await google.colab.kernel.invokeFunction('convertToInteractive',\n",
              "                                                     [key], {});\n",
              "          if (!dataTable) return;\n",
              "\n",
              "          const docLinkHtml = 'Like what you see? Visit the ' +\n",
              "            '<a target=\"_blank\" href=https://colab.research.google.com/notebooks/data_table.ipynb>data table notebook</a>'\n",
              "            + ' to learn more about interactive tables.';\n",
              "          element.innerHTML = '';\n",
              "          dataTable['output_type'] = 'display_data';\n",
              "          await google.colab.output.renderOutput(dataTable, element);\n",
              "          const docLink = document.createElement('div');\n",
              "          docLink.innerHTML = docLinkHtml;\n",
              "          element.appendChild(docLink);\n",
              "        }\n",
              "      </script>\n",
              "    </div>\n",
              "  </div>\n",
              "  "
            ]
          },
          "metadata": {},
          "execution_count": 51
        }
      ],
      "source": [
        "#Set the display format to be scientific for ease of analysis\n",
        "pd.options.display.float_format = '{:,.2g}'.format\n",
        "coef_matrix_lasso"
      ]
    },
    {
      "cell_type": "code",
      "execution_count": 52,
      "metadata": {
        "colab": {
          "base_uri": "https://localhost:8080/",
          "height": 280
        },
        "id": "6heaVHSSIfPl",
        "outputId": "1d237e4c-065e-4807-fce7-d0771ecf070f"
      },
      "outputs": [
        {
          "output_type": "display_data",
          "data": {
            "text/plain": [
              "<Figure size 432x288 with 1 Axes>"
            ],
            "image/png": "[encoded data removed]"
          },
          "metadata": {
            "needs_background": "light"
          }
        }
      ],
      "source": [
        "coef_matrix_lasso[['mrss_train','mrss_test']].plot()\n",
        "plt.xlabel('Alpha Values')\n",
        "plt.ylabel('MRSS')\n",
        "plt.legend(['train', 'test']);"
      ]
    },
    {
      "cell_type": "code",
      "execution_count": 53,
      "metadata": {
        "colab": {
          "base_uri": "https://localhost:8080/"
        },
        "id": "cm8QARSvIfPr",
        "outputId": "efe31b0c-ead2-4765-c33d-b7fb0089e03a"
      },
      "outputs": [
        {
          "output_type": "execute_result",
          "data": {
            "text/plain": [
              "alpha_0          0\n",
              "alpha_1e-10      0\n",
              "alpha_1e-08      0\n",
              "alpha_1e-05      2\n",
              "alpha_0.0001     7\n",
              "alpha_0.001     11\n",
              "alpha_0.01      12\n",
              "alpha_1         15\n",
              "alpha_5         15\n",
              "alpha_10        15\n",
              "dtype: int64"
            ]
          },
          "metadata": {},
          "execution_count": 53
        }
      ],
      "source": [
        "coef_matrix_lasso.apply(lambda x: sum(x.values==0),axis=1)"
      ]
    },
    {
      "cell_type": "code",
      "metadata": {
        "id": "Dr88NE3kIfPv"
      },
      "source": [
        "## 4. Elastic Net Regression"
      ],
      "execution_count": 54,
      "outputs": []
    },
    {
      "cell_type": "code",
      "execution_count": 55,
      "metadata": {
        "id": "Mr5VtF13HkqH"
      },
      "outputs": [],
      "source": [
        "from sklearn.linear_model import ElasticNet"
      ]
    },
    {
      "cell_type": "code",
      "execution_count": 56,
      "metadata": {
        "id": "ToX8nZbkHkqI"
      },
      "outputs": [],
      "source": [
        "?ElasticNet"
      ]
    },
    {
      "cell_type": "code",
      "execution_count": 57,
      "metadata": {
        "id": "wTPtyBTVHkqJ"
      },
      "outputs": [],
      "source": [
        "# define model\n",
        "model = ElasticNet(alpha=0.5, l1_ratio=0.5)"
      ]
    },
    {
      "cell_type": "code",
      "execution_count": 58,
      "metadata": {
        "colab": {
          "base_uri": "https://localhost:8080/"
        },
        "id": "3lt0jhgJHkqJ",
        "outputId": "bb9b0ef5-e734-4a1b-c115-7acf19372a15"
      },
      "outputs": [
        {
          "output_type": "execute_result",
          "data": {
            "text/plain": [
              "ElasticNet(alpha=0.5)"
            ]
          },
          "metadata": {},
          "execution_count": 58
        }
      ],
      "source": [
        "model.fit(train_x, train_y)"
      ]
    },
    {
      "cell_type": "code",
      "execution_count": 59,
      "metadata": {
        "colab": {
          "base_uri": "https://localhost:8080/"
        },
        "id": "UeqvsrlFHkqK",
        "outputId": "2a7c7810-798b-47a1-b76a-fdbd8b41fa66"
      },
      "outputs": [
        {
          "output_type": "execute_result",
          "data": {
            "text/plain": [
              "array([ 0.00000000e+00,  0.00000000e+00, -7.82316884e-03, -7.58109017e-03,\n",
              "        3.07660847e-04,  9.37670120e-05,  1.14095800e-05,  1.22508225e-06,\n",
              "        1.11205370e-07,  6.79194730e-09, -2.78514981e-10, -2.09938686e-10,\n",
              "       -5.33387022e-11, -1.08721295e-11, -2.01464697e-12])"
            ]
          },
          "metadata": {},
          "execution_count": 59
        }
      ],
      "source": [
        "model.coef_"
      ]
    },
    {
      "cell_type": "code",
      "execution_count": 60,
      "metadata": {
        "scrolled": true,
        "colab": {
          "base_uri": "https://localhost:8080/"
        },
        "id": "PD5QqvyRHkqK",
        "outputId": "c72f552c-029c-4930-e7ea-c2921f8aa475"
      },
      "outputs": [
        {
          "output_type": "execute_result",
          "data": {
            "text/plain": [
              "array([ 0.82465504,  0.82459235,  0.81763586,  0.81396017,  0.80906954,\n",
              "        0.80610018,  0.79896993,  0.77910068,  0.77278366,  0.76586322,\n",
              "        0.74115966,  0.72108436,  0.70986952,  0.68493056,  0.62419132,\n",
              "        0.52574174,  0.45366326,  0.37141304,  0.34171669,  0.24585366,\n",
              "        0.21168369,  0.17643833,  0.02531931, -0.01479184, -0.09744221,\n",
              "       -0.18287813, -0.27045586, -0.40412523, -0.58158219, -0.66738255,\n",
              "       -0.86214414, -0.8961232 , -0.92794464, -1.0081946 , -1.02910414,\n",
              "       -1.06077815, -1.07068579, -1.0219803 , -0.96499375, -0.92915194,\n",
              "       -0.79385581, -0.31190426, -0.13266773, -0.13500442])"
            ]
          },
          "metadata": {},
          "execution_count": 60
        }
      ],
      "source": [
        "model.predict(test_x)"
      ]
    },
    {
      "cell_type": "code",
      "execution_count": 61,
      "metadata": {
        "colab": {
          "base_uri": "https://localhost:8080/"
        },
        "id": "B8jxipwhHkqL",
        "outputId": "45e09c43-a93a-42b9-8aff-2180417d1122"
      },
      "outputs": [
        {
          "output_type": "execute_result",
          "data": {
            "text/plain": [
              "0.05438666688807486"
            ]
          },
          "metadata": {},
          "execution_count": 61
        }
      ],
      "source": [
        "sum((model.predict(train_x)-train_y)**2)/train_y.shape[0]"
      ]
    },
    {
      "cell_type": "code",
      "execution_count": 62,
      "metadata": {
        "colab": {
          "base_uri": "https://localhost:8080/"
        },
        "id": "0CxVltmGHkqM",
        "outputId": "b63d1f89-e7d2-429b-fdb5-c62609ab7f00"
      },
      "outputs": [
        {
          "output_type": "execute_result",
          "data": {
            "text/plain": [
              "0.05131568407473305"
            ]
          },
          "metadata": {},
          "execution_count": 62
        }
      ],
      "source": [
        "sum((model.predict(test_x)-test_y)**2)/test_y.shape[0]"
      ]
    }
  ],
  "metadata": {
    "colab": {
      "provenance": []
    },
    "kernelspec": {
      "display_name": "Python 3",
      "language": "python",
      "name": "python3"
    },
    "language_info": {
      "codemirror_mode": {
        "name": "ipython",
        "version": 3
      },
      "file_extension": ".py",
      "mimetype": "text/x-python",
      "name": "python",
      "nbconvert_exporter": "python",
      "pygments_lexer": "ipython3",
      "version": "3.8.8"
    }
  },
  "nbformat": 4,
  "nbformat_minor": 0
}