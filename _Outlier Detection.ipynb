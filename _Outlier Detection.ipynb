{
 "cells": [
  {
   "cell_type": "code",
   "execution_count": 17,
   "metadata": {},
   "outputs": [],
   "source": [
    "import numpy as np "
   ]
  },
  {
   "cell_type": "code",
   "execution_count": 18,
   "metadata": {},
   "outputs": [
    {
     "name": "stdout",
     "output_type": "stream",
     "text": [
      "std = 0.0, mean = 10.0\n"
     ]
    }
   ],
   "source": [
    "a = np.array([10, 10, 10, 10, 10, 10, 10])\n",
    "print(\"std = {}, mean = {}\".format(a.std(), a.mean()))"
   ]
  },
  {
   "cell_type": "markdown",
   "metadata": {},
   "source": [
    "People often think of the __mean__ as describing the data, and it does, but it's only when combined with the __standard deviation__ that we know how much the numbers differ from one another. \n",
    "\n",
    "In this case, they're all identical, so the standard deviation is 0."
   ]
  },
  {
   "cell_type": "code",
   "execution_count": 19,
   "metadata": {},
   "outputs": [
    {
     "name": "stdout",
     "output_type": "stream",
     "text": [
      "std = 10.0, mean = 10.0\n"
     ]
    }
   ],
   "source": [
    "a = np.array([5,15,0,20,-5,25,10])\n",
    "print(\"std = {}, mean = {}\".format(a.std(), a.mean()))"
   ]
  },
  {
   "cell_type": "markdown",
   "metadata": {},
   "source": [
    "Here, the __mean__ has not changed, but the __standard deviation__ has. \n",
    "\n",
    "We can see, from just those two numbers, that although the numbers remain centered around 10, they also are spread out quite a bit.\n",
    "\n",
    "One simple way to detect unusual data is to look for all of the values that lie outside of 2 standard deviations from the mean, which accounts for about 95% of the data. \n",
    "\n",
    "We can go further out if we want; 99.73% of data points are within 3 standard deviations, and 99.994% are within four.\n",
    "\n",
    "If we're looking for outliers in an existing data set, we can do something like this:"
   ]
  },
  {
   "cell_type": "code",
   "execution_count": 20,
   "metadata": {},
   "outputs": [],
   "source": [
    "a = np.array([-5,15,0,20,-5,25,1000])"
   ]
  },
  {
   "cell_type": "code",
   "execution_count": 21,
   "metadata": {},
   "outputs": [
    {
     "name": "stdout",
     "output_type": "stream",
     "text": [
      "347.19282415231044\n"
     ]
    }
   ],
   "source": [
    "print(a.std())"
   ]
  },
  {
   "cell_type": "code",
   "execution_count": 22,
   "metadata": {},
   "outputs": [],
   "source": [
    "min_cutoff = a.mean() - a.std()*2\n",
    "max_cutoff = a.mean() + a.std()*2"
   ]
  },
  {
   "cell_type": "code",
   "execution_count": 23,
   "metadata": {},
   "outputs": [
    {
     "name": "stdout",
     "output_type": "stream",
     "text": [
      "[1000]\n"
     ]
    }
   ],
   "source": [
    "print(a[(a<min_cutoff) | (a>max_cutoff)])"
   ]
  },
  {
   "cell_type": "markdown",
   "metadata": {},
   "source": [
    "So if a new data comes..."
   ]
  },
  {
   "cell_type": "code",
   "execution_count": 24,
   "metadata": {},
   "outputs": [
    {
     "name": "stdout",
     "output_type": "stream",
     "text": [
      "[-5000 -3000 -1000   900]\n"
     ]
    }
   ],
   "source": [
    "new_data = np.array([-5000, -3000, -1000, -500, 20, 60, 500, 800, 900])\n",
    "print(new_data[(new_data < min_cutoff) | (new_data > max_cutoff)])"
   ]
  },
  {
   "cell_type": "markdown",
   "metadata": {},
   "source": [
    "- You're unlikely to be looking at a single-dimensional vector for outliers. \n",
    "\n",
    "- The baseline (mean) is likely to shift over time. \n",
    "\n",
    "Hence there must be other, better ways to measure whether something is \"inside\" or \"outside\", "
   ]
  },
  {
   "cell_type": "markdown",
   "metadata": {},
   "source": [
    "## Outlier detection"
   ]
  },
  {
   "cell_type": "code",
   "execution_count": 25,
   "metadata": {},
   "outputs": [],
   "source": [
    "import pandas as pd \n",
    "\n",
    "import matplotlib\n",
    "import matplotlib.pyplot as plt\n",
    "%matplotlib inline\n",
    "\n",
    "import seaborn as sns\n",
    "\n",
    "from sklearn import datasets"
   ]
  },
  {
   "cell_type": "code",
   "execution_count": 26,
   "metadata": {},
   "outputs": [],
   "source": [
    "boston = datasets.load_boston()"
   ]
  },
  {
   "cell_type": "code",
   "execution_count": 27,
   "metadata": {},
   "outputs": [],
   "source": [
    "# print(boston.DESCR)"
   ]
  },
  {
   "cell_type": "code",
   "execution_count": 28,
   "metadata": {},
   "outputs": [
    {
     "data": {
      "text/plain": [
       "array(['CRIM', 'ZN', 'INDUS', 'CHAS', 'NOX', 'RM', 'AGE', 'DIS', 'RAD',\n",
       "       'TAX', 'PTRATIO', 'B', 'LSTAT'], dtype='<U7')"
      ]
     },
     "execution_count": 28,
     "metadata": {},
     "output_type": "execute_result"
    }
   ],
   "source": [
    "boston.feature_names"
   ]
  },
  {
   "cell_type": "code",
   "execution_count": 29,
   "metadata": {},
   "outputs": [],
   "source": [
    "np.set_printoptions(suppress=True, edgeitems=25, threshold=30)"
   ]
  },
  {
   "cell_type": "code",
   "execution_count": 30,
   "metadata": {},
   "outputs": [
    {
     "data": {
      "text/plain": [
       "506"
      ]
     },
     "execution_count": 30,
     "metadata": {},
     "output_type": "execute_result"
    }
   ],
   "source": [
    "len(boston.data)"
   ]
  },
  {
   "cell_type": "code",
   "execution_count": 31,
   "metadata": {},
   "outputs": [],
   "source": [
    "X = boston.data\n",
    "y = boston.target\n",
    "\n",
    "columns = boston.feature_names"
   ]
  },
  {
   "cell_type": "code",
   "execution_count": 32,
   "metadata": {},
   "outputs": [
    {
     "data": {
      "text/plain": [
       "array(['CRIM', 'ZN', 'INDUS', 'CHAS', 'NOX', 'RM', 'AGE', 'DIS', 'RAD',\n",
       "       'TAX', 'PTRATIO', 'B', 'LSTAT'], dtype='<U7')"
      ]
     },
     "execution_count": 32,
     "metadata": {},
     "output_type": "execute_result"
    }
   ],
   "source": [
    "columns"
   ]
  },
  {
   "cell_type": "code",
   "execution_count": 33,
   "metadata": {},
   "outputs": [
    {
     "data": {
      "text/html": [
       "<div>\n",
       "<style scoped>\n",
       "    .dataframe tbody tr th:only-of-type {\n",
       "        vertical-align: middle;\n",
       "    }\n",
       "\n",
       "    .dataframe tbody tr th {\n",
       "        vertical-align: top;\n",
       "    }\n",
       "\n",
       "    .dataframe thead th {\n",
       "        text-align: right;\n",
       "    }\n",
       "</style>\n",
       "<table border=\"1\" class=\"dataframe\">\n",
       "  <thead>\n",
       "    <tr style=\"text-align: right;\">\n",
       "      <th></th>\n",
       "      <th>CRIM</th>\n",
       "      <th>ZN</th>\n",
       "      <th>INDUS</th>\n",
       "      <th>CHAS</th>\n",
       "      <th>NOX</th>\n",
       "      <th>RM</th>\n",
       "      <th>AGE</th>\n",
       "      <th>DIS</th>\n",
       "      <th>RAD</th>\n",
       "      <th>TAX</th>\n",
       "      <th>PTRATIO</th>\n",
       "      <th>B</th>\n",
       "      <th>LSTAT</th>\n",
       "    </tr>\n",
       "  </thead>\n",
       "  <tbody>\n",
       "    <tr>\n",
       "      <th>0</th>\n",
       "      <td>0.00632</td>\n",
       "      <td>18.0</td>\n",
       "      <td>2.31</td>\n",
       "      <td>0.0</td>\n",
       "      <td>0.538</td>\n",
       "      <td>6.575</td>\n",
       "      <td>65.2</td>\n",
       "      <td>4.0900</td>\n",
       "      <td>1.0</td>\n",
       "      <td>296.0</td>\n",
       "      <td>15.3</td>\n",
       "      <td>396.90</td>\n",
       "      <td>4.98</td>\n",
       "    </tr>\n",
       "    <tr>\n",
       "      <th>1</th>\n",
       "      <td>0.02731</td>\n",
       "      <td>0.0</td>\n",
       "      <td>7.07</td>\n",
       "      <td>0.0</td>\n",
       "      <td>0.469</td>\n",
       "      <td>6.421</td>\n",
       "      <td>78.9</td>\n",
       "      <td>4.9671</td>\n",
       "      <td>2.0</td>\n",
       "      <td>242.0</td>\n",
       "      <td>17.8</td>\n",
       "      <td>396.90</td>\n",
       "      <td>9.14</td>\n",
       "    </tr>\n",
       "    <tr>\n",
       "      <th>2</th>\n",
       "      <td>0.02729</td>\n",
       "      <td>0.0</td>\n",
       "      <td>7.07</td>\n",
       "      <td>0.0</td>\n",
       "      <td>0.469</td>\n",
       "      <td>7.185</td>\n",
       "      <td>61.1</td>\n",
       "      <td>4.9671</td>\n",
       "      <td>2.0</td>\n",
       "      <td>242.0</td>\n",
       "      <td>17.8</td>\n",
       "      <td>392.83</td>\n",
       "      <td>4.03</td>\n",
       "    </tr>\n",
       "    <tr>\n",
       "      <th>3</th>\n",
       "      <td>0.03237</td>\n",
       "      <td>0.0</td>\n",
       "      <td>2.18</td>\n",
       "      <td>0.0</td>\n",
       "      <td>0.458</td>\n",
       "      <td>6.998</td>\n",
       "      <td>45.8</td>\n",
       "      <td>6.0622</td>\n",
       "      <td>3.0</td>\n",
       "      <td>222.0</td>\n",
       "      <td>18.7</td>\n",
       "      <td>394.63</td>\n",
       "      <td>2.94</td>\n",
       "    </tr>\n",
       "    <tr>\n",
       "      <th>4</th>\n",
       "      <td>0.06905</td>\n",
       "      <td>0.0</td>\n",
       "      <td>2.18</td>\n",
       "      <td>0.0</td>\n",
       "      <td>0.458</td>\n",
       "      <td>7.147</td>\n",
       "      <td>54.2</td>\n",
       "      <td>6.0622</td>\n",
       "      <td>3.0</td>\n",
       "      <td>222.0</td>\n",
       "      <td>18.7</td>\n",
       "      <td>396.90</td>\n",
       "      <td>5.33</td>\n",
       "    </tr>\n",
       "  </tbody>\n",
       "</table>\n",
       "</div>"
      ],
      "text/plain": [
       "      CRIM    ZN  INDUS  CHAS    NOX     RM   AGE     DIS  RAD    TAX  \\\n",
       "0  0.00632  18.0   2.31   0.0  0.538  6.575  65.2  4.0900  1.0  296.0   \n",
       "1  0.02731   0.0   7.07   0.0  0.469  6.421  78.9  4.9671  2.0  242.0   \n",
       "2  0.02729   0.0   7.07   0.0  0.469  7.185  61.1  4.9671  2.0  242.0   \n",
       "3  0.03237   0.0   2.18   0.0  0.458  6.998  45.8  6.0622  3.0  222.0   \n",
       "4  0.06905   0.0   2.18   0.0  0.458  7.147  54.2  6.0622  3.0  222.0   \n",
       "\n",
       "   PTRATIO       B  LSTAT  \n",
       "0     15.3  396.90   4.98  \n",
       "1     17.8  396.90   9.14  \n",
       "2     17.8  392.83   4.03  \n",
       "3     18.7  394.63   2.94  \n",
       "4     18.7  396.90   5.33  "
      ]
     },
     "execution_count": 33,
     "metadata": {},
     "output_type": "execute_result"
    }
   ],
   "source": [
    "# create the dataframe\n",
    "boston_df = pd.DataFrame(boston.data)\n",
    "\n",
    "boston_df.columns = columns\n",
    "\n",
    "boston_df.head()"
   ]
  },
  {
   "cell_type": "markdown",
   "metadata": {},
   "source": [
    "Features/independent variable will be used to look for any outlier. "
   ]
  },
  {
   "cell_type": "markdown",
   "metadata": {},
   "source": [
    "# Discover outliers\n",
    "\n",
    "## Box plot-"
   ]
  },
  {
   "attachments": {
    "box-dist.GIF": {
     "image/gif": "[encoded data removed]"
    },
    "boxplot.GIF": {
     "image/gif": "[encoded data removed]"
    }
   },
   "cell_type": "markdown",
   "metadata": {},
   "source": [
    "![boxplot.GIF](attachment:boxplot.GIF)\n",
    "\n",
    "- 5 number summary (“minimum”, first quartile (Q1), median, third quartile (Q3), and “maximum”).\n",
    "\n",
    "    - median (Q2/50th Percentile): the middle value of the dataset.\n",
    "\n",
    "    - 1st quartile (Q1/25th Percentile): the middle number between the smallest number (not the “minimum”) and the median of the dataset.\n",
    "\n",
    "    - 3rd quartile (Q3/75th Percentile): the middle value between the median and the highest value (not the “maximum”) of the dataset.\n",
    "\n",
    "    - interquartile range (IQR): 25th to the 75th percentile.\n",
    "\n",
    "    - whiskers (shown in blue)\n",
    "\n",
    "    - **outliers** (shown as green circles)\n",
    "\n",
    "    - “maximum”: Q3 + 1.5*IQR\n",
    "\n",
    "    - “minimum”: Q1 -1.5*IQR\n",
    "    \n",
    "  ![box-dist.GIF](attachment:box-dist.GIF)\n",
    "  \n",
    "** 68–95–99.7 rule ** \n",
    " \n",
    "outliers are the remaining .7% percent of the data.\n",
    "  \n",
    "(1) variability \n"
   ]
  },
  {
   "cell_type": "code",
   "execution_count": 34,
   "metadata": {},
   "outputs": [
    {
     "data": {
      "text/html": [
       "<div>\n",
       "<style scoped>\n",
       "    .dataframe tbody tr th:only-of-type {\n",
       "        vertical-align: middle;\n",
       "    }\n",
       "\n",
       "    .dataframe tbody tr th {\n",
       "        vertical-align: top;\n",
       "    }\n",
       "\n",
       "    .dataframe thead th {\n",
       "        text-align: right;\n",
       "    }\n",
       "</style>\n",
       "<table border=\"1\" class=\"dataframe\">\n",
       "  <thead>\n",
       "    <tr style=\"text-align: right;\">\n",
       "      <th></th>\n",
       "      <th>CRIM</th>\n",
       "      <th>ZN</th>\n",
       "      <th>INDUS</th>\n",
       "      <th>CHAS</th>\n",
       "      <th>NOX</th>\n",
       "      <th>RM</th>\n",
       "      <th>AGE</th>\n",
       "      <th>DIS</th>\n",
       "      <th>RAD</th>\n",
       "      <th>TAX</th>\n",
       "      <th>PTRATIO</th>\n",
       "      <th>B</th>\n",
       "      <th>LSTAT</th>\n",
       "    </tr>\n",
       "  </thead>\n",
       "  <tbody>\n",
       "    <tr>\n",
       "      <th>count</th>\n",
       "      <td>506.000000</td>\n",
       "      <td>506.000000</td>\n",
       "      <td>506.000000</td>\n",
       "      <td>506.000000</td>\n",
       "      <td>506.000000</td>\n",
       "      <td>506.000000</td>\n",
       "      <td>506.000000</td>\n",
       "      <td>506.000000</td>\n",
       "      <td>506.000000</td>\n",
       "      <td>506.000000</td>\n",
       "      <td>506.000000</td>\n",
       "      <td>506.000000</td>\n",
       "      <td>506.000000</td>\n",
       "    </tr>\n",
       "    <tr>\n",
       "      <th>mean</th>\n",
       "      <td>3.613524</td>\n",
       "      <td>11.363636</td>\n",
       "      <td>11.136779</td>\n",
       "      <td>0.069170</td>\n",
       "      <td>0.554695</td>\n",
       "      <td>6.284634</td>\n",
       "      <td>68.574901</td>\n",
       "      <td>3.795043</td>\n",
       "      <td>9.549407</td>\n",
       "      <td>408.237154</td>\n",
       "      <td>18.455534</td>\n",
       "      <td>356.674032</td>\n",
       "      <td>12.653063</td>\n",
       "    </tr>\n",
       "    <tr>\n",
       "      <th>std</th>\n",
       "      <td>8.601545</td>\n",
       "      <td>23.322453</td>\n",
       "      <td>6.860353</td>\n",
       "      <td>0.253994</td>\n",
       "      <td>0.115878</td>\n",
       "      <td>0.702617</td>\n",
       "      <td>28.148861</td>\n",
       "      <td>2.105710</td>\n",
       "      <td>8.707259</td>\n",
       "      <td>168.537116</td>\n",
       "      <td>2.164946</td>\n",
       "      <td>91.294864</td>\n",
       "      <td>7.141062</td>\n",
       "    </tr>\n",
       "    <tr>\n",
       "      <th>min</th>\n",
       "      <td>0.006320</td>\n",
       "      <td>0.000000</td>\n",
       "      <td>0.460000</td>\n",
       "      <td>0.000000</td>\n",
       "      <td>0.385000</td>\n",
       "      <td>3.561000</td>\n",
       "      <td>2.900000</td>\n",
       "      <td>1.129600</td>\n",
       "      <td>1.000000</td>\n",
       "      <td>187.000000</td>\n",
       "      <td>12.600000</td>\n",
       "      <td>0.320000</td>\n",
       "      <td>1.730000</td>\n",
       "    </tr>\n",
       "    <tr>\n",
       "      <th>25%</th>\n",
       "      <td>0.082045</td>\n",
       "      <td>0.000000</td>\n",
       "      <td>5.190000</td>\n",
       "      <td>0.000000</td>\n",
       "      <td>0.449000</td>\n",
       "      <td>5.885500</td>\n",
       "      <td>45.025000</td>\n",
       "      <td>2.100175</td>\n",
       "      <td>4.000000</td>\n",
       "      <td>279.000000</td>\n",
       "      <td>17.400000</td>\n",
       "      <td>375.377500</td>\n",
       "      <td>6.950000</td>\n",
       "    </tr>\n",
       "    <tr>\n",
       "      <th>50%</th>\n",
       "      <td>0.256510</td>\n",
       "      <td>0.000000</td>\n",
       "      <td>9.690000</td>\n",
       "      <td>0.000000</td>\n",
       "      <td>0.538000</td>\n",
       "      <td>6.208500</td>\n",
       "      <td>77.500000</td>\n",
       "      <td>3.207450</td>\n",
       "      <td>5.000000</td>\n",
       "      <td>330.000000</td>\n",
       "      <td>19.050000</td>\n",
       "      <td>391.440000</td>\n",
       "      <td>11.360000</td>\n",
       "    </tr>\n",
       "    <tr>\n",
       "      <th>75%</th>\n",
       "      <td>3.677083</td>\n",
       "      <td>12.500000</td>\n",
       "      <td>18.100000</td>\n",
       "      <td>0.000000</td>\n",
       "      <td>0.624000</td>\n",
       "      <td>6.623500</td>\n",
       "      <td>94.075000</td>\n",
       "      <td>5.188425</td>\n",
       "      <td>24.000000</td>\n",
       "      <td>666.000000</td>\n",
       "      <td>20.200000</td>\n",
       "      <td>396.225000</td>\n",
       "      <td>16.955000</td>\n",
       "    </tr>\n",
       "    <tr>\n",
       "      <th>max</th>\n",
       "      <td>88.976200</td>\n",
       "      <td>100.000000</td>\n",
       "      <td>27.740000</td>\n",
       "      <td>1.000000</td>\n",
       "      <td>0.871000</td>\n",
       "      <td>8.780000</td>\n",
       "      <td>100.000000</td>\n",
       "      <td>12.126500</td>\n",
       "      <td>24.000000</td>\n",
       "      <td>711.000000</td>\n",
       "      <td>22.000000</td>\n",
       "      <td>396.900000</td>\n",
       "      <td>37.970000</td>\n",
       "    </tr>\n",
       "  </tbody>\n",
       "</table>\n",
       "</div>"
      ],
      "text/plain": [
       "             CRIM          ZN       INDUS        CHAS         NOX          RM  \\\n",
       "count  506.000000  506.000000  506.000000  506.000000  506.000000  506.000000   \n",
       "mean     3.613524   11.363636   11.136779    0.069170    0.554695    6.284634   \n",
       "std      8.601545   23.322453    6.860353    0.253994    0.115878    0.702617   \n",
       "min      0.006320    0.000000    0.460000    0.000000    0.385000    3.561000   \n",
       "25%      0.082045    0.000000    5.190000    0.000000    0.449000    5.885500   \n",
       "50%      0.256510    0.000000    9.690000    0.000000    0.538000    6.208500   \n",
       "75%      3.677083   12.500000   18.100000    0.000000    0.624000    6.623500   \n",
       "max     88.976200  100.000000   27.740000    1.000000    0.871000    8.780000   \n",
       "\n",
       "              AGE         DIS         RAD         TAX     PTRATIO           B  \\\n",
       "count  506.000000  506.000000  506.000000  506.000000  506.000000  506.000000   \n",
       "mean    68.574901    3.795043    9.549407  408.237154   18.455534  356.674032   \n",
       "std     28.148861    2.105710    8.707259  168.537116    2.164946   91.294864   \n",
       "min      2.900000    1.129600    1.000000  187.000000   12.600000    0.320000   \n",
       "25%     45.025000    2.100175    4.000000  279.000000   17.400000  375.377500   \n",
       "50%     77.500000    3.207450    5.000000  330.000000   19.050000  391.440000   \n",
       "75%     94.075000    5.188425   24.000000  666.000000   20.200000  396.225000   \n",
       "max    100.000000   12.126500   24.000000  711.000000   22.000000  396.900000   \n",
       "\n",
       "            LSTAT  \n",
       "count  506.000000  \n",
       "mean    12.653063  \n",
       "std      7.141062  \n",
       "min      1.730000  \n",
       "25%      6.950000  \n",
       "50%     11.360000  \n",
       "75%     16.955000  \n",
       "max     37.970000  "
      ]
     },
     "execution_count": 34,
     "metadata": {},
     "output_type": "execute_result"
    }
   ],
   "source": [
    "boston_df.describe()"
   ]
  },
  {
   "cell_type": "code",
   "execution_count": 35,
   "metadata": {},
   "outputs": [
    {
     "data": {
      "image/png": "[encoded data removed]",
      "text/plain": [
       "<Figure size 1152x360 with 9 Axes>"
      ]
     },
     "metadata": {
      "needs_background": "light"
     },
     "output_type": "display_data"
    }
   ],
   "source": [
    "fig, (axes) = plt.subplots(nrows=1, ncols=9, figsize=(16, 5))\n",
    "\n",
    "sns.boxplot(data=boston_df[['CRIM']],  palette='Set2', ax=axes[0]);\n",
    "sns.boxplot(data=boston_df[['ZN']]  ,  palette='Set2', ax=axes[1]);\n",
    "sns.boxplot(data=boston_df[['INDUS']], palette='Set2', ax=axes[2]);\n",
    "sns.boxplot(data=boston_df[['CHAS']],  palette='Set2', ax=axes[3]);\n",
    "\n",
    "sns.boxplot(data=boston_df[['NOX']],   palette='Set2', ax=axes[4]);\n",
    "sns.boxplot(data=boston_df[['RM']]  ,  palette='Set2', ax=axes[5]);\n",
    "sns.boxplot(data=boston_df[['AGE']],   palette='Set2', ax=axes[6]);\n",
    "sns.boxplot(data=boston_df[['DIS']],   palette='Set2', ax=axes[7]);\n",
    "sns.boxplot(data=boston_df[['B']],     palette='Set2', ax=axes[8]);"
   ]
  },
  {
   "cell_type": "code",
   "execution_count": 36,
   "metadata": {},
   "outputs": [
    {
     "data": {
      "text/plain": [
       "Index(['CRIM', 'ZN', 'INDUS', 'CHAS', 'NOX', 'RM', 'AGE', 'DIS', 'RAD', 'TAX',\n",
       "       'PTRATIO', 'B', 'LSTAT'],\n",
       "      dtype='object')"
      ]
     },
     "execution_count": 36,
     "metadata": {},
     "output_type": "execute_result"
    }
   ],
   "source": [
    "boston_df.columns"
   ]
  },
  {
   "cell_type": "code",
   "execution_count": 37,
   "metadata": {},
   "outputs": [],
   "source": [
    "# fig, axes = plt.subplots(ncols=9, figsize=(16, 5))\n",
    "# n = 2\n",
    "\n",
    "# sns.swarmplot(data=boston_df[['CRIM']],  palette='Set2', ax=axes[0], size=n);\n",
    "# sns.swarmplot(data=boston_df[['ZN']]  ,  palette='Set2', ax=axes[1], size=n);\n",
    "# sns.swarmplot(data=boston_df[['INDUS']], palette='Set2', ax=axes[2], size=n);\n",
    "# sns.swarmplot(data=boston_df[['CHAS']],  palette='Set2', ax=axes[3], size=n);\n",
    "\n",
    "# sns.swarmplot(data=boston_df[['NOX']],   palette='Set2', ax=axes[4], size=n);\n",
    "# sns.swarmplot(data=boston_df[['RM']]  ,  palette='Set2', ax=axes[5], size=n);\n",
    "# sns.swarmplot(data=boston_df[['AGE']],   palette='Set2', ax=axes[6], size=n);\n",
    "# sns.swarmplot(data=boston_df[['DIS']],   palette='Set2', ax=axes[7], size=n);\n",
    "# sns.swarmplot(data=boston_df[['B']],     palette='Set2', ax=axes[8], size=n);"
   ]
  },
  {
   "cell_type": "markdown",
   "metadata": {},
   "source": [
    "## Scatter plot-"
   ]
  },
  {
   "cell_type": "code",
   "execution_count": 38,
   "metadata": {},
   "outputs": [],
   "source": [
    "# sns.pairplot(data=boston_df[['INDUS', 'TAX', 'AGE', 'RM' ]], height=3, diag_kind='kde');"
   ]
  },
  {
   "cell_type": "markdown",
   "metadata": {},
   "source": [
    "## Using Z-score method\n",
    "The intuition behind Z-score is to describe any data point by finding their relationship with the Standard Deviation and Mean of the group of data points. Z-score is finding the distribution of data where mean is 0 and standard deviation is 1 i.e. normal distribution.\n",
    "\n",
    "In most of the cases a threshold of 3 or -3 is used i.e if the Z-score value is greater than or less than 3 or -3 respectively, that data point will be identified as outliers."
   ]
  },
  {
   "cell_type": "code",
   "execution_count": 39,
   "metadata": {},
   "outputs": [],
   "source": [
    "from scipy import stats"
   ]
  },
  {
   "cell_type": "code",
   "execution_count": 40,
   "metadata": {},
   "outputs": [
    {
     "data": {
      "text/html": [
       "<div>\n",
       "<style scoped>\n",
       "    .dataframe tbody tr th:only-of-type {\n",
       "        vertical-align: middle;\n",
       "    }\n",
       "\n",
       "    .dataframe tbody tr th {\n",
       "        vertical-align: top;\n",
       "    }\n",
       "\n",
       "    .dataframe thead th {\n",
       "        text-align: right;\n",
       "    }\n",
       "</style>\n",
       "<table border=\"1\" class=\"dataframe\">\n",
       "  <thead>\n",
       "    <tr style=\"text-align: right;\">\n",
       "      <th></th>\n",
       "      <th>CRIM</th>\n",
       "      <th>ZN</th>\n",
       "      <th>INDUS</th>\n",
       "      <th>CHAS</th>\n",
       "      <th>NOX</th>\n",
       "      <th>RM</th>\n",
       "      <th>AGE</th>\n",
       "      <th>DIS</th>\n",
       "      <th>RAD</th>\n",
       "      <th>TAX</th>\n",
       "      <th>PTRATIO</th>\n",
       "      <th>B</th>\n",
       "      <th>LSTAT</th>\n",
       "    </tr>\n",
       "  </thead>\n",
       "  <tbody>\n",
       "    <tr>\n",
       "      <th>0</th>\n",
       "      <td>0.00632</td>\n",
       "      <td>18.0</td>\n",
       "      <td>2.31</td>\n",
       "      <td>0.0</td>\n",
       "      <td>0.538</td>\n",
       "      <td>6.575</td>\n",
       "      <td>65.2</td>\n",
       "      <td>4.0900</td>\n",
       "      <td>1.0</td>\n",
       "      <td>296.0</td>\n",
       "      <td>15.3</td>\n",
       "      <td>396.90</td>\n",
       "      <td>4.98</td>\n",
       "    </tr>\n",
       "    <tr>\n",
       "      <th>1</th>\n",
       "      <td>0.02731</td>\n",
       "      <td>0.0</td>\n",
       "      <td>7.07</td>\n",
       "      <td>0.0</td>\n",
       "      <td>0.469</td>\n",
       "      <td>6.421</td>\n",
       "      <td>78.9</td>\n",
       "      <td>4.9671</td>\n",
       "      <td>2.0</td>\n",
       "      <td>242.0</td>\n",
       "      <td>17.8</td>\n",
       "      <td>396.90</td>\n",
       "      <td>9.14</td>\n",
       "    </tr>\n",
       "    <tr>\n",
       "      <th>2</th>\n",
       "      <td>0.02729</td>\n",
       "      <td>0.0</td>\n",
       "      <td>7.07</td>\n",
       "      <td>0.0</td>\n",
       "      <td>0.469</td>\n",
       "      <td>7.185</td>\n",
       "      <td>61.1</td>\n",
       "      <td>4.9671</td>\n",
       "      <td>2.0</td>\n",
       "      <td>242.0</td>\n",
       "      <td>17.8</td>\n",
       "      <td>392.83</td>\n",
       "      <td>4.03</td>\n",
       "    </tr>\n",
       "    <tr>\n",
       "      <th>3</th>\n",
       "      <td>0.03237</td>\n",
       "      <td>0.0</td>\n",
       "      <td>2.18</td>\n",
       "      <td>0.0</td>\n",
       "      <td>0.458</td>\n",
       "      <td>6.998</td>\n",
       "      <td>45.8</td>\n",
       "      <td>6.0622</td>\n",
       "      <td>3.0</td>\n",
       "      <td>222.0</td>\n",
       "      <td>18.7</td>\n",
       "      <td>394.63</td>\n",
       "      <td>2.94</td>\n",
       "    </tr>\n",
       "    <tr>\n",
       "      <th>4</th>\n",
       "      <td>0.06905</td>\n",
       "      <td>0.0</td>\n",
       "      <td>2.18</td>\n",
       "      <td>0.0</td>\n",
       "      <td>0.458</td>\n",
       "      <td>7.147</td>\n",
       "      <td>54.2</td>\n",
       "      <td>6.0622</td>\n",
       "      <td>3.0</td>\n",
       "      <td>222.0</td>\n",
       "      <td>18.7</td>\n",
       "      <td>396.90</td>\n",
       "      <td>5.33</td>\n",
       "    </tr>\n",
       "  </tbody>\n",
       "</table>\n",
       "</div>"
      ],
      "text/plain": [
       "      CRIM    ZN  INDUS  CHAS    NOX     RM   AGE     DIS  RAD    TAX  \\\n",
       "0  0.00632  18.0   2.31   0.0  0.538  6.575  65.2  4.0900  1.0  296.0   \n",
       "1  0.02731   0.0   7.07   0.0  0.469  6.421  78.9  4.9671  2.0  242.0   \n",
       "2  0.02729   0.0   7.07   0.0  0.469  7.185  61.1  4.9671  2.0  242.0   \n",
       "3  0.03237   0.0   2.18   0.0  0.458  6.998  45.8  6.0622  3.0  222.0   \n",
       "4  0.06905   0.0   2.18   0.0  0.458  7.147  54.2  6.0622  3.0  222.0   \n",
       "\n",
       "   PTRATIO       B  LSTAT  \n",
       "0     15.3  396.90   4.98  \n",
       "1     17.8  396.90   9.14  \n",
       "2     17.8  392.83   4.03  \n",
       "3     18.7  394.63   2.94  \n",
       "4     18.7  396.90   5.33  "
      ]
     },
     "execution_count": 40,
     "metadata": {},
     "output_type": "execute_result"
    }
   ],
   "source": [
    "boston_df.head()"
   ]
  },
  {
   "cell_type": "code",
   "execution_count": 41,
   "metadata": {},
   "outputs": [],
   "source": [
    "z = np.abs(stats.zscore(boston_df))"
   ]
  },
  {
   "cell_type": "code",
   "execution_count": 42,
   "metadata": {},
   "outputs": [
    {
     "data": {
      "text/plain": [
       "((506, 13), (506, 13))"
      ]
     },
     "execution_count": 42,
     "metadata": {},
     "output_type": "execute_result"
    }
   ],
   "source": [
    "boston_df.shape, z.shape"
   ]
  },
  {
   "cell_type": "code",
   "execution_count": 43,
   "metadata": {},
   "outputs": [
    {
     "data": {
      "text/plain": [
       "array([[0.41978194, 0.28482986, 1.2879095 , 0.27259857, 0.14421743,\n",
       "        0.41367189, 0.12001342, 0.1402136 , 0.98284286, 0.66660821,\n",
       "        1.45900038, 0.44105193, 1.0755623 ],\n",
       "       [0.41733926, 0.48772236, 0.59338101, 0.27259857, 0.74026221,\n",
       "        0.19427445, 0.36716642, 0.55715988, 0.8678825 , 0.98732948,\n",
       "        0.30309415, 0.44105193, 0.49243937],\n",
       "       [0.41734159, 0.48772236, 0.59338101, 0.27259857, 0.74026221,\n",
       "        1.28271368, 0.26581176, 0.55715988, 0.8678825 , 0.98732948,\n",
       "        0.30309415, 0.39642699, 1.2087274 ],\n",
       "       [0.41675042, 0.48772236, 1.30687771, 0.27259857, 0.83528384,\n",
       "        1.01630251, 0.80988851, 1.07773662, 0.75292215, 1.10611514,\n",
       "        0.1130321 , 0.41616284, 1.36151682],\n",
       "       [0.41248185, 0.48772236, 1.30687771, 0.27259857, 0.83528384,\n",
       "        1.22857665, 0.51117971, 1.07773662, 0.75292215, 1.10611514,\n",
       "        0.1130321 , 0.44105193, 1.02650148],\n",
       "       [0.41704368, 0.48772236, 1.30687771, 0.27259857, 0.83528384,\n",
       "        0.20709638, 0.35115713, 1.07773662, 0.75292215, 1.10611514,\n",
       "        0.1130321 , 0.41057102, 1.04332233],\n",
       "       [0.41024282, 0.04877224, 0.47665354, 0.27259857, 0.26515405,\n",
       "        0.38841095, 0.07022862, 0.83924392, 0.52300145, 0.57751897,\n",
       "        1.50523663, 0.42679827, 0.03126762],\n",
       "       [0.40369567, 0.04877224, 0.47665354, 0.27259857, 0.26515405,\n",
       "        0.16046556, 0.97880825, 1.02463789, 0.52300145, 0.57751897,\n",
       "        1.50523663, 0.44105193, 0.91070021],\n",
       "       [0.39593474, 0.04877224, 0.47665354, 0.27259857, 0.26515405,\n",
       "        0.9312059 , 1.11749449, 1.08719646, 0.52300145, 0.57751897,\n",
       "        1.50523663, 0.32844797, 2.42177359],\n",
       "       [0.40072931, 0.04877224, 0.47665354, 0.27259857, 0.26515405,\n",
       "        0.39980821, 0.61609042, 1.32963473, 0.52300145, 0.57751897,\n",
       "        1.50523663, 0.32932512, 0.62334395],\n",
       "       [0.39434624, 0.04877224, 0.47665354, 0.27259857, 0.26515405,\n",
       "        0.13158947, 0.91479923, 1.21297914, 0.52300145, 0.57751897,\n",
       "        1.50523663, 0.39302804, 1.09292612],\n",
       "       [0.40684705, 0.04877224, 0.47665354, 0.27259857, 0.26515405,\n",
       "        0.39268492, 0.50940871, 1.15593484, 0.52300145, 0.57751897,\n",
       "        1.50523663, 0.44105193, 0.08647836],\n",
       "       [0.40960394, 0.04877224, 0.47665354, 0.27259857, 0.26515405,\n",
       "        0.56364396, 1.0517004 , 0.78714346, 0.52300145, 0.57751897,\n",
       "        1.50523663, 0.37088004, 0.42850239],\n",
       "       [0.34723021, 0.48772236, 0.43725801, 0.27259857, 0.14421743,\n",
       "        0.47816444, 0.24091936, 0.43375405, 0.6379618 , 0.6012761 ,\n",
       "        1.17646583, 0.44105193, 0.6157923 ],\n",
       "       [0.34627595, 0.48772236, 0.43725801, 0.27259857, 0.14421743,\n",
       "        0.26873962, 0.56630562, 0.31700339, 0.6379618 , 0.6012761 ,\n",
       "        1.17646583, 0.25597356, 0.33544473],\n",
       "       [0.34750602, 0.48772236, 0.43725801, 0.27259857, 0.14421743,\n",
       "        0.64200019, 0.42939039, 0.33444943, 0.6379618 , 0.6012761 ,\n",
       "        1.17646583, 0.42701755, 0.5863558 ],\n",
       "       [0.29786818, 0.48772236, 0.43725801, 0.27259857, 0.14421743,\n",
       "        0.49810966, 1.39663795, 0.33444943, 0.6379618 , 0.6012761 ,\n",
       "        1.17646583, 0.33086013, 0.85128425],\n",
       "       [0.32925753, 0.48772236, 0.43725801, 0.27259857, 0.14421743,\n",
       "        0.41975344, 0.46673602, 0.22002808, 0.6379618 , 0.6012761 ,\n",
       "        1.17646583, 0.3297637 , 0.28272166],\n",
       "       [0.32710346, 0.48772236, 0.43725801, 0.27259857, 0.14421743,\n",
       "        1.18052117, 1.13704577, 0.00069276, 0.6379618 , 0.6012761 ,\n",
       "        1.17646583, 0.74211198, 0.13499622],\n",
       "       [0.33605373, 0.48772236, 0.43725801, 0.27259857, 0.14421743,\n",
       "        0.79443867, 0.03289704, 0.00069276, 0.6379618 , 0.6012761 ,\n",
       "        1.17646583, 0.375814  , 0.19246747],\n",
       "       [0.27484257, 0.48772236, 0.43725801, 0.27259857, 0.14421743,\n",
       "        1.01811008, 1.0499294 , 0.00135828, 0.6379618 , 0.6012761 ,\n",
       "        1.17646583, 0.21814653, 1.17282518],\n",
       "       [0.32136277, 0.48772236, 0.43725801, 0.27259857, 0.14421743,\n",
       "        0.4553699 , 0.73344031, 0.10327742, 0.6379618 , 0.6012761 ,\n",
       "        1.17646583, 0.39313769, 0.16497568],\n",
       "       [0.2770909 , 0.48772236, 0.43725801, 0.27259857, 0.14421743,\n",
       "        0.20320532, 0.82234174, 0.08644935, 0.6379618 , 0.6012761 ,\n",
       "        1.17646583, 0.44105193, 0.85042548],\n",
       "       [0.30549062, 0.48772236, 0.43725801, 0.27259857, 0.14421743,\n",
       "        0.67191802, 1.11749449, 0.14268552, 0.6379618 , 0.6012761 ,\n",
       "        1.17646583, 0.41517605, 1.01302707],\n",
       "       [0.33320724, 0.48772236, 0.43725801, 0.27259857, 0.14421743,\n",
       "        0.51378091, 0.90768711, 0.28738789, 0.6379618 , 0.6012761 ,\n",
       "        1.17646583, 0.41287353, 0.51120492],\n",
       "       ...,\n",
       "       [0.24376194, 0.48772236, 1.01599907, 0.27259857, 0.19604741,\n",
       "        0.66298716, 0.22492413, 0.22025881, 1.66124525, 1.53092646,\n",
       "        0.80657583, 0.39905844, 0.68868266],\n",
       "       [0.2464362 , 0.48772236, 1.01599907, 0.27259857, 0.19604741,\n",
       "        1.10605601, 0.29960133, 0.18275219, 1.66124525, 1.53092646,\n",
       "        0.80657583, 0.42328967, 0.79100952],\n",
       "       [0.09253343, 0.48772236, 1.01599907, 0.27259857, 0.19604741,\n",
       "        0.74457561, 1.00547166, 0.14415917, 1.66124525, 1.53092646,\n",
       "        0.80657583, 0.39741379, 0.31301692],\n",
       "       [0.14371554, 0.48772236, 1.01599907, 0.27259857, 0.24450742,\n",
       "        0.58928782, 0.94857474, 0.0337715 , 1.66124525, 1.53092646,\n",
       "        0.80657583, 0.15411467, 0.09629052],\n",
       "       [0.00699944, 0.48772236, 1.01599907, 0.27259857, 0.24450742,\n",
       "        0.03898666, 0.59296902, 0.09348482, 1.66124525, 1.53092646,\n",
       "        0.80657583, 0.35026705, 0.29058912],\n",
       "       [0.24184993, 0.48772236, 1.01599907, 0.27259857, 0.24450742,\n",
       "        0.24309576, 0.39917093, 0.11843474, 1.66124525, 1.53092646,\n",
       "        0.80657583, 0.39478234, 0.32617553],\n",
       "       [0.14222513, 0.48772236, 1.01599907, 0.27259857, 0.24450742,\n",
       "        0.54084942, 0.54674028, 0.30554004, 1.66124525, 1.53092646,\n",
       "        0.80657583, 0.3458813 , 0.16863793],\n",
       "       [0.40296135, 0.48772236, 2.42256516, 0.27259857, 0.469104  ,\n",
       "        1.18337049, 0.85790231, 0.93844651, 0.6379618 , 1.79819419,\n",
       "        0.76033959, 0.42120644, 0.75791078],\n",
       "       [0.39917806, 0.48772236, 2.42256516, 0.27259857, 0.469104  ,\n",
       "        1.24035683, 1.05704151, 0.96958319, 0.6379618 , 1.79819419,\n",
       "        0.76033959, 0.13841441, 1.58633784],\n",
       "       [0.39637463, 0.48772236, 2.42256516, 0.27259857, 0.469104  ,\n",
       "        1.69767227, 1.04637334, 0.93763838, 0.6379618 , 1.79819419,\n",
       "        0.76033959, 0.41932127, 2.38673014],\n",
       "       [0.40821211, 0.48772236, 2.42256516, 0.27259857, 0.469104  ,\n",
       "        0.42972605, 1.0748218 , 0.91600909, 0.6379618 , 1.79819419,\n",
       "        0.76033959, 0.36660394, 0.75931252],\n",
       "       [0.40756275, 0.48772236, 2.42256516, 0.27259857, 0.469104  ,\n",
       "        0.42972605, 0.53074505, 0.80106483, 0.6379618 , 1.79819419,\n",
       "        0.76033959, 0.44105193, 0.09769226],\n",
       "       [0.40034877, 0.48772236, 0.21109853, 0.27259857, 0.26178408,\n",
       "        0.82293184, 0.51829182, 0.6718595 , 0.40804109, 0.10237633,\n",
       "        0.34421334, 0.44105193, 0.09014061],\n",
       "       [0.38798295, 0.48772236, 0.21109853, 0.27259857, 0.26178408,\n",
       "        0.51093159, 0.92368234, 0.6718595 , 0.40804109, 0.10237633,\n",
       "        0.34421334, 0.44105193, 0.13133397],\n",
       "       [0.39968777, 0.48772236, 0.21109853, 0.27259857, 0.26178408,\n",
       "        0.87564421, 1.41441823, 0.4736781 , 0.40804109, 0.10237633,\n",
       "        0.34421334, 0.4014706 , 0.69343084],\n",
       "       [0.38681573, 0.48772236, 0.21109853, 0.27259857, 0.26178408,\n",
       "        1.27454864, 0.15380299, 0.4736781 , 0.40804109, 0.10237633,\n",
       "        0.34421334, 0.44105193, 1.18964603],\n",
       "       [0.38928517, 0.48772236, 0.21109853, 0.27259857, 0.26178408,\n",
       "        0.69898654, 0.07201367, 0.42894587, 0.40804109, 0.10237633,\n",
       "        0.34421334, 0.44105193, 0.2028226 ],\n",
       "       [0.39269025, 0.48772236, 0.21109853, 0.27259857, 0.26178408,\n",
       "        0.37843833, 0.11645736, 0.65883438, 0.40804109, 0.10237633,\n",
       "        0.34421334, 0.44105193, 0.03741754],\n",
       "       [0.39982277, 0.48772236, 0.21109853, 0.27259857, 0.26178408,\n",
       "        1.01953474, 0.17513933, 0.66320778, 0.40804109, 0.10237633,\n",
       "        0.34421334, 0.42866221, 0.34299638],\n",
       "       [0.39440559, 0.48772236, 0.21109853, 0.27259857, 0.26178408,\n",
       "        0.36704107, 0.39561488, 0.61647899, 0.40804109, 0.10237633,\n",
       "        0.34421334, 0.44105193, 0.23506257],\n",
       "       [0.41322896, 0.48772236, 0.11573841, 0.27259857, 0.15812412,\n",
       "        0.43931575, 0.01867281, 0.62579623, 0.98284286, 0.80321172,\n",
       "        1.17646583, 0.38721693, 0.41814726],\n",
       "       [0.4152492 , 0.48772236, 0.11573841, 0.27259857, 0.15812412,\n",
       "        0.23454781, 0.28893316, 0.71663927, 0.98284286, 0.80321172,\n",
       "        1.17646583, 0.44105193, 0.50084979],\n",
       "       [0.41344658, 0.48772236, 0.11573841, 0.27259857, 0.15812412,\n",
       "        0.98496002, 0.79744934, 0.77368357, 0.98284286, 0.80321172,\n",
       "        1.17646583, 0.44105193, 0.98304761],\n",
       "       [0.40776407, 0.48772236, 0.11573841, 0.27259857, 0.15812412,\n",
       "        0.72567214, 0.73699637, 0.66843684, 0.98284286, 0.80321172,\n",
       "        1.17646583, 0.4032249 , 0.86530163],\n",
       "       [0.41500016, 0.48772236, 0.11573841, 0.27259857, 0.15812412,\n",
       "        0.36276709, 0.43473151, 0.61324648, 0.98284286, 0.80321172,\n",
       "        1.17646583, 0.44105193, 0.66905833]])"
      ]
     },
     "execution_count": 43,
     "metadata": {},
     "output_type": "execute_result"
    }
   ],
   "source": [
    "z"
   ]
  },
  {
   "cell_type": "code",
   "execution_count": 44,
   "metadata": {},
   "outputs": [
    {
     "data": {
      "text/plain": [
       "(array([ 55,  56,  57, 102, 141, 142, 152, 154, 155, 160, 162, 163, 199,\n",
       "        200, 201, 202, 203, 204, 208, 209, 210, 211, 212, 216, 218, ...,\n",
       "        414, 414, 415, 416, 418, 418, 419, 423, 424, 425, 426, 427, 427,\n",
       "        429, 431, 436, 437, 438, 445, 450, 454, 455, 456, 457, 466],\n",
       "       dtype=int64),\n",
       " array([ 1,  1,  1, 11, 12,  3,  3,  3,  3,  3,  3,  3,  1,  1,  1,  1,  1,\n",
       "         1,  3,  3,  3,  3,  3,  3,  3, ...,  0, 12, 11, 11,  0, 11, 11,\n",
       "        11, 11, 11, 11,  0, 11, 11, 11, 11, 11, 11, 11, 11, 11, 11, 11, 11,\n",
       "        11], dtype=int64))"
      ]
     },
     "execution_count": 44,
     "metadata": {},
     "output_type": "execute_result"
    }
   ],
   "source": [
    "threshold = 3\n",
    "\n",
    "result = np.where(z > 3)\n",
    "result"
   ]
  },
  {
   "cell_type": "code",
   "execution_count": 45,
   "metadata": {},
   "outputs": [
    {
     "data": {
      "text/plain": [
       "(100, 100)"
      ]
     },
     "execution_count": 45,
     "metadata": {},
     "output_type": "execute_result"
    }
   ],
   "source": [
    "len(result[0]), len(result[1])"
   ]
  },
  {
   "cell_type": "code",
   "execution_count": 46,
   "metadata": {},
   "outputs": [
    {
     "data": {
      "text/html": [
       "<div>\n",
       "<style scoped>\n",
       "    .dataframe tbody tr th:only-of-type {\n",
       "        vertical-align: middle;\n",
       "    }\n",
       "\n",
       "    .dataframe tbody tr th {\n",
       "        vertical-align: top;\n",
       "    }\n",
       "\n",
       "    .dataframe thead th {\n",
       "        text-align: right;\n",
       "    }\n",
       "</style>\n",
       "<table border=\"1\" class=\"dataframe\">\n",
       "  <thead>\n",
       "    <tr style=\"text-align: right;\">\n",
       "      <th></th>\n",
       "      <th>ROWNUM</th>\n",
       "      <th>COLNUM</th>\n",
       "    </tr>\n",
       "  </thead>\n",
       "  <tbody>\n",
       "    <tr>\n",
       "      <th>0</th>\n",
       "      <td>55</td>\n",
       "      <td>1</td>\n",
       "    </tr>\n",
       "    <tr>\n",
       "      <th>1</th>\n",
       "      <td>56</td>\n",
       "      <td>1</td>\n",
       "    </tr>\n",
       "    <tr>\n",
       "      <th>2</th>\n",
       "      <td>57</td>\n",
       "      <td>1</td>\n",
       "    </tr>\n",
       "    <tr>\n",
       "      <th>3</th>\n",
       "      <td>102</td>\n",
       "      <td>11</td>\n",
       "    </tr>\n",
       "    <tr>\n",
       "      <th>4</th>\n",
       "      <td>141</td>\n",
       "      <td>12</td>\n",
       "    </tr>\n",
       "  </tbody>\n",
       "</table>\n",
       "</div>"
      ],
      "text/plain": [
       "   ROWNUM  COLNUM\n",
       "0      55       1\n",
       "1      56       1\n",
       "2      57       1\n",
       "3     102      11\n",
       "4     141      12"
      ]
     },
     "execution_count": 46,
     "metadata": {},
     "output_type": "execute_result"
    }
   ],
   "source": [
    "outlier_df = pd.DataFrame(data=result[0], columns=['ROWNUM'])\n",
    "\n",
    "outlier_df['COLNUM'] = result[1]\n",
    "outlier_df.head()"
   ]
  },
  {
   "cell_type": "code",
   "execution_count": 47,
   "metadata": {},
   "outputs": [
    {
     "data": {
      "text/plain": [
       "3     35\n",
       "11    25\n",
       "1     14\n",
       "0      8\n",
       "5      8\n",
       "7      5\n",
       "12     5\n",
       "Name: COLNUM, dtype: int64"
      ]
     },
     "execution_count": 47,
     "metadata": {},
     "output_type": "execute_result"
    }
   ],
   "source": [
    "outlier_df.COLNUM.value_counts()"
   ]
  },
  {
   "cell_type": "code",
   "execution_count": 48,
   "metadata": {},
   "outputs": [
    {
     "data": {
      "text/plain": [
       "Index(['CRIM', 'ZN', 'INDUS', 'CHAS', 'NOX', 'RM', 'AGE', 'DIS', 'RAD', 'TAX',\n",
       "       'PTRATIO', 'B', 'LSTAT'],\n",
       "      dtype='object')"
      ]
     },
     "execution_count": 48,
     "metadata": {},
     "output_type": "execute_result"
    }
   ],
   "source": [
    "columns = boston_df.columns\n",
    "columns"
   ]
  },
  {
   "cell_type": "code",
   "execution_count": 49,
   "metadata": {},
   "outputs": [
    {
     "data": {
      "text/html": [
       "<div>\n",
       "<style scoped>\n",
       "    .dataframe tbody tr th:only-of-type {\n",
       "        vertical-align: middle;\n",
       "    }\n",
       "\n",
       "    .dataframe tbody tr th {\n",
       "        vertical-align: top;\n",
       "    }\n",
       "\n",
       "    .dataframe thead th {\n",
       "        text-align: right;\n",
       "    }\n",
       "</style>\n",
       "<table border=\"1\" class=\"dataframe\">\n",
       "  <thead>\n",
       "    <tr style=\"text-align: right;\">\n",
       "      <th></th>\n",
       "      <th>ROWNUM</th>\n",
       "      <th>COLNUM</th>\n",
       "      <th>COLNAME</th>\n",
       "    </tr>\n",
       "  </thead>\n",
       "  <tbody>\n",
       "    <tr>\n",
       "      <th>0</th>\n",
       "      <td>55</td>\n",
       "      <td>1</td>\n",
       "      <td>ZN</td>\n",
       "    </tr>\n",
       "    <tr>\n",
       "      <th>1</th>\n",
       "      <td>56</td>\n",
       "      <td>1</td>\n",
       "      <td>ZN</td>\n",
       "    </tr>\n",
       "    <tr>\n",
       "      <th>2</th>\n",
       "      <td>57</td>\n",
       "      <td>1</td>\n",
       "      <td>ZN</td>\n",
       "    </tr>\n",
       "    <tr>\n",
       "      <th>3</th>\n",
       "      <td>102</td>\n",
       "      <td>11</td>\n",
       "      <td>B</td>\n",
       "    </tr>\n",
       "    <tr>\n",
       "      <th>4</th>\n",
       "      <td>141</td>\n",
       "      <td>12</td>\n",
       "      <td>LSTAT</td>\n",
       "    </tr>\n",
       "  </tbody>\n",
       "</table>\n",
       "</div>"
      ],
      "text/plain": [
       "   ROWNUM  COLNUM COLNAME\n",
       "0      55       1      ZN\n",
       "1      56       1      ZN\n",
       "2      57       1      ZN\n",
       "3     102      11       B\n",
       "4     141      12   LSTAT"
      ]
     },
     "execution_count": 49,
     "metadata": {},
     "output_type": "execute_result"
    }
   ],
   "source": [
    "outlier_df['COLNAME'] = columns[outlier_df.COLNUM]\n",
    "outlier_df.head()"
   ]
  },
  {
   "cell_type": "code",
   "execution_count": 50,
   "metadata": {},
   "outputs": [
    {
     "name": "stdout",
     "output_type": "stream",
     "text": [
      "        CRIM     ZN  INDUS  CHAS     NOX     RM   AGE      DIS  RAD    TAX  \\\n",
      "55   0.01311   90.0   1.22   0.0  0.4030  7.249  21.9   8.6966  5.0  226.0   \n",
      "56   0.02055   85.0   0.74   0.0  0.4100  6.383  35.7   9.1876  2.0  313.0   \n",
      "57   0.01432  100.0   1.32   0.0  0.4110  6.816  40.5   8.3248  5.0  256.0   \n",
      "199  0.03150   95.0   1.47   0.0  0.4030  6.975  15.3   7.6534  3.0  402.0   \n",
      "200  0.01778   95.0   1.47   0.0  0.4030  7.135  13.9   7.6534  3.0  402.0   \n",
      "201  0.03445   82.5   2.03   0.0  0.4150  6.162  38.4   6.2700  2.0  348.0   \n",
      "202  0.02177   82.5   2.03   0.0  0.4150  7.610  15.7   6.2700  2.0  348.0   \n",
      "203  0.03510   95.0   2.68   0.0  0.4161  7.853  33.2   5.1180  4.0  224.0   \n",
      "204  0.02009   95.0   2.68   0.0  0.4161  8.034  31.9   5.1180  4.0  224.0   \n",
      "256  0.01538   90.0   3.75   0.0  0.3940  7.454  34.2   6.3361  3.0  244.0   \n",
      "283  0.01501   90.0   1.21   1.0  0.4010  7.923  24.8   5.8850  1.0  198.0   \n",
      "284  0.00906   90.0   2.97   0.0  0.4000  7.088  20.8   7.3073  1.0  285.0   \n",
      "347  0.01870   85.0   4.15   0.0  0.4290  6.516  27.7   8.5353  4.0  351.0   \n",
      "353  0.01709   90.0   2.02   0.0  0.4100  6.728  36.1  12.1265  5.0  187.0   \n",
      "\n",
      "     PTRATIO       B  LSTAT  \n",
      "55      17.9  395.93   4.81  \n",
      "56      17.3  396.90   5.77  \n",
      "57      15.1  392.90   3.95  \n",
      "199     17.0  396.90   4.56  \n",
      "200     17.0  384.30   4.45  \n",
      "201     14.7  393.77   7.43  \n",
      "202     14.7  395.38   3.11  \n",
      "203     14.7  392.78   3.81  \n",
      "204     14.7  390.55   2.88  \n",
      "256     15.9  386.34   3.11  \n",
      "283     13.6  395.52   3.16  \n",
      "284     15.3  394.72   7.85  \n",
      "347     17.9  392.43   6.36  \n",
      "353     17.0  384.46   4.50  \n",
      "         CRIM   ZN  INDUS  CHAS    NOX     RM    AGE     DIS   RAD    TAX  \\\n",
      "102   0.22876  0.0   8.56   0.0  0.520  6.405   85.4  2.7147   5.0  384.0   \n",
      "410  51.13580  0.0  18.10   0.0  0.597  5.757  100.0  1.4130  24.0  666.0   \n",
      "411  14.05070  0.0  18.10   0.0  0.597  6.657  100.0  1.5275  24.0  666.0   \n",
      "412  18.81100  0.0  18.10   0.0  0.597  4.628  100.0  1.5539  24.0  666.0   \n",
      "415  18.08460  0.0  18.10   0.0  0.679  6.434  100.0  1.8347  24.0  666.0   \n",
      "416  10.83420  0.0  18.10   0.0  0.679  6.782   90.8  1.8195  24.0  666.0   \n",
      "418  73.53410  0.0  18.10   0.0  0.679  5.957  100.0  1.8026  24.0  666.0   \n",
      "419  11.81230  0.0  18.10   0.0  0.718  6.824   76.5  1.7940  24.0  666.0   \n",
      "423   7.05042  0.0  18.10   0.0  0.614  6.103   85.1  2.0218  24.0  666.0   \n",
      "424   8.79212  0.0  18.10   0.0  0.584  5.565   70.6  2.0635  24.0  666.0   \n",
      "425  15.86030  0.0  18.10   0.0  0.679  5.896   95.4  1.9096  24.0  666.0   \n",
      "426  12.24720  0.0  18.10   0.0  0.584  5.837   59.7  1.9976  24.0  666.0   \n",
      "427  37.66190  0.0  18.10   0.0  0.679  6.202   78.7  1.8629  24.0  666.0   \n",
      "429   9.33889  0.0  18.10   0.0  0.679  6.380   95.6  1.9682  24.0  666.0   \n",
      "431  10.06230  0.0  18.10   0.0  0.584  6.833   94.3  2.0882  24.0  666.0   \n",
      "436  14.42080  0.0  18.10   0.0  0.740  6.461   93.3  2.0026  24.0  666.0   \n",
      "437  15.17720  0.0  18.10   0.0  0.740  6.152  100.0  1.9142  24.0  666.0   \n",
      "438  13.67810  0.0  18.10   0.0  0.740  5.935   87.9  1.8206  24.0  666.0   \n",
      "445  10.67180  0.0  18.10   0.0  0.740  6.459   94.8  1.9879  24.0  666.0   \n",
      "450   6.71772  0.0  18.10   0.0  0.713  6.749   92.6  2.3236  24.0  666.0   \n",
      "454   9.51363  0.0  18.10   0.0  0.713  6.728   94.1  2.4961  24.0  666.0   \n",
      "455   4.75237  0.0  18.10   0.0  0.713  6.525   86.5  2.4358  24.0  666.0   \n",
      "456   4.66883  0.0  18.10   0.0  0.713  5.976   87.9  2.5806  24.0  666.0   \n",
      "457   8.20058  0.0  18.10   0.0  0.713  5.936   80.3  2.7792  24.0  666.0   \n",
      "466   3.77498  0.0  18.10   0.0  0.655  5.952   84.7  2.8715  24.0  666.0   \n",
      "\n",
      "     PTRATIO      B  LSTAT  \n",
      "102     20.9  70.80  10.63  \n",
      "410     20.2   2.60  10.11  \n",
      "411     20.2  35.05  21.22  \n",
      "412     20.2  28.79  34.37  \n",
      "415     20.2  27.25  29.05  \n",
      "416     20.2  21.57  25.79  \n",
      "418     20.2  16.45  20.62  \n",
      "419     20.2  48.45  22.74  \n",
      "423     20.2   2.52  23.29  \n",
      "424     20.2   3.65  17.16  \n",
      "425     20.2   7.68  24.39  \n",
      "426     20.2  24.65  15.69  \n",
      "427     20.2  18.82  14.52  \n",
      "429     20.2  60.72  24.08  \n",
      "431     20.2  81.33  19.69  \n",
      "436     20.2  27.49  18.05  \n",
      "437     20.2   9.32  26.45  \n",
      "438     20.2  68.95  34.02  \n",
      "445     20.2  43.06  23.98  \n",
      "450     20.2   0.32  17.44  \n",
      "454     20.2   6.68  18.71  \n",
      "455     20.2  50.92  18.13  \n",
      "456     20.2  10.48  19.01  \n",
      "457     20.2   3.50  16.94  \n",
      "466     20.2  22.01  17.15  \n",
      "         CRIM   ZN  INDUS  CHAS    NOX     RM    AGE     DIS   RAD    TAX  \\\n",
      "141   1.62864  0.0  21.89   0.0  0.624  5.019  100.0  1.4394   4.0  437.0   \n",
      "373  11.10810  0.0  18.10   0.0  0.668  4.906  100.0  1.1742  24.0  666.0   \n",
      "374  18.49820  0.0  18.10   0.0  0.668  4.138  100.0  1.1370  24.0  666.0   \n",
      "412  18.81100  0.0  18.10   0.0  0.597  4.628  100.0  1.5539  24.0  666.0   \n",
      "414  45.74610  0.0  18.10   0.0  0.693  4.519  100.0  1.6582  24.0  666.0   \n",
      "\n",
      "     PTRATIO       B  LSTAT  \n",
      "141     21.2  396.90  34.41  \n",
      "373     20.2  396.90  34.77  \n",
      "374     20.2  396.90  37.97  \n",
      "412     20.2   28.79  34.37  \n",
      "414     20.2   88.27  36.98  \n",
      "        CRIM    ZN  INDUS  CHAS     NOX     RM    AGE     DIS   RAD    TAX  \\\n",
      "142  3.32105   0.0  19.58   1.0  0.8710  5.403  100.0  1.3216   5.0  403.0   \n",
      "152  1.12658   0.0  19.58   1.0  0.8710  5.012   88.0  1.6102   5.0  403.0   \n",
      "154  1.41385   0.0  19.58   1.0  0.8710  6.129   96.0  1.7494   5.0  403.0   \n",
      "155  3.53501   0.0  19.58   1.0  0.8710  6.152   82.6  1.7455   5.0  403.0   \n",
      "160  1.27346   0.0  19.58   1.0  0.6050  6.250   92.6  1.7984   5.0  403.0   \n",
      "162  1.83377   0.0  19.58   1.0  0.6050  7.802   98.2  2.0407   5.0  403.0   \n",
      "163  1.51902   0.0  19.58   1.0  0.6050  8.375   93.9  2.1620   5.0  403.0   \n",
      "208  0.13587   0.0  10.59   1.0  0.4890  6.064   59.1  4.2392   4.0  277.0   \n",
      "209  0.43571   0.0  10.59   1.0  0.4890  5.344  100.0  3.8750   4.0  277.0   \n",
      "210  0.17446   0.0  10.59   1.0  0.4890  5.960   92.1  3.8771   4.0  277.0   \n",
      "211  0.37578   0.0  10.59   1.0  0.4890  5.404   88.6  3.6650   4.0  277.0   \n",
      "212  0.21719   0.0  10.59   1.0  0.4890  5.807   53.8  3.6526   4.0  277.0   \n",
      "216  0.04560   0.0  13.89   1.0  0.5500  5.888   56.0  3.1121   5.0  276.0   \n",
      "218  0.11069   0.0  13.89   1.0  0.5500  5.951   93.8  2.8893   5.0  276.0   \n",
      "219  0.11425   0.0  13.89   1.0  0.5500  6.373   92.4  3.3633   5.0  276.0   \n",
      "220  0.35809   0.0   6.20   1.0  0.5070  6.951   88.5  2.8617   8.0  307.0   \n",
      "221  0.40771   0.0   6.20   1.0  0.5070  6.164   91.3  3.0480   8.0  307.0   \n",
      "222  0.62356   0.0   6.20   1.0  0.5070  6.879   77.7  3.2721   8.0  307.0   \n",
      "234  0.44791   0.0   6.20   1.0  0.5070  6.726   66.5  3.6519   8.0  307.0   \n",
      "236  0.52058   0.0   6.20   1.0  0.5070  6.631   76.5  4.1480   8.0  307.0   \n",
      "269  0.09065  20.0   6.96   1.0  0.4640  5.920   61.5  3.9175   3.0  223.0   \n",
      "273  0.22188  20.0   6.96   1.0  0.4640  7.691   51.8  4.3665   3.0  223.0   \n",
      "274  0.05644  40.0   6.41   1.0  0.4470  6.758   32.9  4.0776   4.0  254.0   \n",
      "276  0.10469  40.0   6.41   1.0  0.4470  7.267   49.0  4.7872   4.0  254.0   \n",
      "277  0.06127  40.0   6.41   1.0  0.4470  6.826   27.6  4.8628   4.0  254.0   \n",
      "282  0.06129  20.0   3.33   1.0  0.4429  7.645   49.7  5.2119   5.0  216.0   \n",
      "283  0.01501  90.0   1.21   1.0  0.4010  7.923   24.8  5.8850   1.0  198.0   \n",
      "356  8.98296   0.0  18.10   1.0  0.7700  6.212   97.4  2.1222  24.0  666.0   \n",
      "357  3.84970   0.0  18.10   1.0  0.7700  6.395   91.0  2.5052  24.0  666.0   \n",
      "358  5.20177   0.0  18.10   1.0  0.7700  6.127   83.4  2.7227  24.0  666.0   \n",
      "363  4.22239   0.0  18.10   1.0  0.7700  5.803   89.0  1.9047  24.0  666.0   \n",
      "364  3.47428   0.0  18.10   1.0  0.7180  8.780   82.9  1.9047  24.0  666.0   \n",
      "369  5.66998   0.0  18.10   1.0  0.6310  6.683   96.8  1.3567  24.0  666.0   \n",
      "370  6.53876   0.0  18.10   1.0  0.6310  7.016   97.5  1.2024  24.0  666.0   \n",
      "372  8.26725   0.0  18.10   1.0  0.6680  5.875   89.6  1.1296  24.0  666.0   \n",
      "\n",
      "     PTRATIO       B  LSTAT  \n",
      "142     14.7  396.90  26.82  \n",
      "152     14.7  343.28  12.12  \n",
      "154     14.7  321.02  15.12  \n",
      "155     14.7   88.01  15.02  \n",
      "160     14.7  338.92   5.50  \n",
      "162     14.7  389.61   1.92  \n",
      "163     14.7  388.45   3.32  \n",
      "208     18.6  381.32  14.66  \n",
      "209     18.6  396.90  23.09  \n",
      "210     18.6  393.25  17.27  \n",
      "211     18.6  395.24  23.98  \n",
      "212     18.6  390.94  16.03  \n",
      "216     16.4  392.80  13.51  \n",
      "218     16.4  396.90  17.92  \n",
      "219     16.4  393.74  10.50  \n",
      "220     17.4  391.70   9.71  \n",
      "221     17.4  395.24  21.46  \n",
      "222     17.4  390.39   9.93  \n",
      "234     17.4  360.20   8.05  \n",
      "236     17.4  388.45   9.54  \n",
      "269     18.6  391.34  13.65  \n",
      "273     18.6  390.77   6.58  \n",
      "274     17.6  396.90   3.53  \n",
      "276     17.6  389.25   6.05  \n",
      "277     17.6  393.45   4.16  \n",
      "282     14.9  377.07   3.01  \n",
      "283     13.6  395.52   3.16  \n",
      "356     20.2  377.73  17.60  \n",
      "357     20.2  391.34  13.27  \n",
      "358     20.2  395.43  11.48  \n",
      "363     20.2  353.04  14.64  \n",
      "364     20.2  354.55   5.29  \n",
      "369     20.2  375.33   3.73  \n",
      "370     20.2  392.05   2.96  \n",
      "372     20.2  347.88   8.88  \n",
      "         CRIM    ZN  INDUS  CHAS    NOX     RM    AGE     DIS   RAD    TAX  \\\n",
      "225   0.52693   0.0   6.20   0.0  0.504  8.725   83.0  2.8944   8.0  307.0   \n",
      "257   0.61154  20.0   3.97   0.0  0.647  8.704   86.9  1.8010   5.0  264.0   \n",
      "262   0.52014  20.0   3.97   0.0  0.647  8.398   91.5  2.2885   5.0  264.0   \n",
      "364   3.47428   0.0  18.10   1.0  0.718  8.780   82.9  1.9047  24.0  666.0   \n",
      "365   4.55587   0.0  18.10   0.0  0.718  3.561   87.9  1.6132  24.0  666.0   \n",
      "367  13.52220   0.0  18.10   0.0  0.631  3.863  100.0  1.5106  24.0  666.0   \n",
      "374  18.49820   0.0  18.10   0.0  0.668  4.138  100.0  1.1370  24.0  666.0   \n",
      "406  20.71620   0.0  18.10   0.0  0.659  4.138  100.0  1.1781  24.0  666.0   \n",
      "\n",
      "     PTRATIO       B  LSTAT  \n",
      "225     17.4  382.00   4.63  \n",
      "257     13.0  389.70   5.12  \n",
      "262     13.0  386.86   5.91  \n",
      "364     20.2  354.55   5.29  \n",
      "365     20.2  354.70   7.12  \n",
      "367     20.2  131.42  13.33  \n",
      "374     20.2  396.90  37.97  \n",
      "406     20.2  370.22  23.34  \n",
      "        CRIM    ZN  INDUS  CHAS    NOX     RM   AGE      DIS  RAD    TAX  \\\n",
      "351  0.07950  60.0   1.69   0.0  0.411  6.579  35.9  10.7103  4.0  411.0   \n",
      "352  0.07244  60.0   1.69   0.0  0.411  5.884  18.5  10.7103  4.0  411.0   \n",
      "353  0.01709  90.0   2.02   0.0  0.410  6.728  36.1  12.1265  5.0  187.0   \n",
      "354  0.04301  80.0   1.91   0.0  0.413  5.663  21.9  10.5857  4.0  334.0   \n",
      "355  0.10659  80.0   1.91   0.0  0.413  5.936  19.5  10.5857  4.0  334.0   \n",
      "\n",
      "     PTRATIO       B  LSTAT  \n",
      "351     18.3  370.78   5.49  \n",
      "352     18.3  392.33   7.79  \n",
      "353     17.0  384.46   4.50  \n",
      "354     22.0  382.80   8.05  \n",
      "355     22.0  376.04   5.57  \n",
      "        CRIM   ZN  INDUS  CHAS    NOX     RM    AGE     DIS   RAD    TAX  \\\n",
      "380  88.9762  0.0   18.1   0.0  0.671  6.968   91.9  1.4165  24.0  666.0   \n",
      "398  38.3518  0.0   18.1   0.0  0.693  5.453  100.0  1.4896  24.0  666.0   \n",
      "404  41.5292  0.0   18.1   0.0  0.693  5.531   85.4  1.6074  24.0  666.0   \n",
      "405  67.9208  0.0   18.1   0.0  0.693  5.683  100.0  1.4254  24.0  666.0   \n",
      "410  51.1358  0.0   18.1   0.0  0.597  5.757  100.0  1.4130  24.0  666.0   \n",
      "414  45.7461  0.0   18.1   0.0  0.693  4.519  100.0  1.6582  24.0  666.0   \n",
      "418  73.5341  0.0   18.1   0.0  0.679  5.957  100.0  1.8026  24.0  666.0   \n",
      "427  37.6619  0.0   18.1   0.0  0.679  6.202   78.7  1.8629  24.0  666.0   \n",
      "\n",
      "     PTRATIO       B  LSTAT  \n",
      "380     20.2  396.90  17.21  \n",
      "398     20.2  396.90  30.59  \n",
      "404     20.2  329.46  27.38  \n",
      "405     20.2  384.97  22.98  \n",
      "410     20.2    2.60  10.11  \n",
      "414     20.2   88.27  36.98  \n",
      "418     20.2   16.45  20.62  \n",
      "427     20.2   18.82  14.52  \n"
     ]
    }
   ],
   "source": [
    "for colname in outlier_df.COLNAME.unique():\n",
    "    # get the rows from the main boston_df \n",
    "    outliers_rows = boston_df.loc[outlier_df.loc[outlier_df.COLNAME==colname, 'ROWNUM']]\n",
    "    \n",
    "    print(outliers_rows)"
   ]
  },
  {
   "cell_type": "markdown",
   "metadata": {},
   "source": [
    "## IQR score -\n",
    "\n",
    "Observations below Q1- 1.5 IQR, or those above Q3 + 1.5IQR are defined as outliers."
   ]
  },
  {
   "cell_type": "code",
   "execution_count": 51,
   "metadata": {},
   "outputs": [
    {
     "name": "stdout",
     "output_type": "stream",
     "text": [
      "CRIM         3.595038\n",
      "ZN          12.500000\n",
      "INDUS       12.910000\n",
      "CHAS         0.000000\n",
      "NOX          0.175000\n",
      "RM           0.738000\n",
      "AGE         49.050000\n",
      "DIS          3.088250\n",
      "RAD         20.000000\n",
      "TAX        387.000000\n",
      "PTRATIO      2.800000\n",
      "B           20.847500\n",
      "LSTAT       10.005000\n",
      "dtype: float64\n"
     ]
    }
   ],
   "source": [
    "Q1 = boston_df.quantile(0.25)\n",
    "Q3 = boston_df.quantile(0.75)\n",
    "\n",
    "IQR = Q3 - Q1\n",
    "print(IQR)"
   ]
  },
  {
   "cell_type": "markdown",
   "metadata": {},
   "source": [
    "we will get IQR for each column."
   ]
  },
  {
   "cell_type": "code",
   "execution_count": 52,
   "metadata": {},
   "outputs": [
    {
     "data": {
      "text/html": [
       "<div>\n",
       "<style scoped>\n",
       "    .dataframe tbody tr th:only-of-type {\n",
       "        vertical-align: middle;\n",
       "    }\n",
       "\n",
       "    .dataframe tbody tr th {\n",
       "        vertical-align: top;\n",
       "    }\n",
       "\n",
       "    .dataframe thead th {\n",
       "        text-align: right;\n",
       "    }\n",
       "</style>\n",
       "<table border=\"1\" class=\"dataframe\">\n",
       "  <thead>\n",
       "    <tr style=\"text-align: right;\">\n",
       "      <th></th>\n",
       "      <th>CRIM</th>\n",
       "      <th>ZN</th>\n",
       "      <th>INDUS</th>\n",
       "      <th>CHAS</th>\n",
       "      <th>NOX</th>\n",
       "      <th>RM</th>\n",
       "      <th>AGE</th>\n",
       "      <th>DIS</th>\n",
       "      <th>RAD</th>\n",
       "      <th>TAX</th>\n",
       "      <th>PTRATIO</th>\n",
       "      <th>B</th>\n",
       "      <th>LSTAT</th>\n",
       "    </tr>\n",
       "  </thead>\n",
       "  <tbody>\n",
       "    <tr>\n",
       "      <th>count</th>\n",
       "      <td>506.000000</td>\n",
       "      <td>506.000000</td>\n",
       "      <td>506.000000</td>\n",
       "      <td>506.000000</td>\n",
       "      <td>506.000000</td>\n",
       "      <td>506.000000</td>\n",
       "      <td>506.000000</td>\n",
       "      <td>506.000000</td>\n",
       "      <td>506.000000</td>\n",
       "      <td>506.000000</td>\n",
       "      <td>506.000000</td>\n",
       "      <td>506.000000</td>\n",
       "      <td>506.000000</td>\n",
       "    </tr>\n",
       "    <tr>\n",
       "      <th>mean</th>\n",
       "      <td>3.613524</td>\n",
       "      <td>11.363636</td>\n",
       "      <td>11.136779</td>\n",
       "      <td>0.069170</td>\n",
       "      <td>0.554695</td>\n",
       "      <td>6.284634</td>\n",
       "      <td>68.574901</td>\n",
       "      <td>3.795043</td>\n",
       "      <td>9.549407</td>\n",
       "      <td>408.237154</td>\n",
       "      <td>18.455534</td>\n",
       "      <td>356.674032</td>\n",
       "      <td>12.653063</td>\n",
       "    </tr>\n",
       "    <tr>\n",
       "      <th>std</th>\n",
       "      <td>8.601545</td>\n",
       "      <td>23.322453</td>\n",
       "      <td>6.860353</td>\n",
       "      <td>0.253994</td>\n",
       "      <td>0.115878</td>\n",
       "      <td>0.702617</td>\n",
       "      <td>28.148861</td>\n",
       "      <td>2.105710</td>\n",
       "      <td>8.707259</td>\n",
       "      <td>168.537116</td>\n",
       "      <td>2.164946</td>\n",
       "      <td>91.294864</td>\n",
       "      <td>7.141062</td>\n",
       "    </tr>\n",
       "    <tr>\n",
       "      <th>min</th>\n",
       "      <td>0.006320</td>\n",
       "      <td>0.000000</td>\n",
       "      <td>0.460000</td>\n",
       "      <td>0.000000</td>\n",
       "      <td>0.385000</td>\n",
       "      <td>3.561000</td>\n",
       "      <td>2.900000</td>\n",
       "      <td>1.129600</td>\n",
       "      <td>1.000000</td>\n",
       "      <td>187.000000</td>\n",
       "      <td>12.600000</td>\n",
       "      <td>0.320000</td>\n",
       "      <td>1.730000</td>\n",
       "    </tr>\n",
       "    <tr>\n",
       "      <th>25%</th>\n",
       "      <td>0.082045</td>\n",
       "      <td>0.000000</td>\n",
       "      <td>5.190000</td>\n",
       "      <td>0.000000</td>\n",
       "      <td>0.449000</td>\n",
       "      <td>5.885500</td>\n",
       "      <td>45.025000</td>\n",
       "      <td>2.100175</td>\n",
       "      <td>4.000000</td>\n",
       "      <td>279.000000</td>\n",
       "      <td>17.400000</td>\n",
       "      <td>375.377500</td>\n",
       "      <td>6.950000</td>\n",
       "    </tr>\n",
       "    <tr>\n",
       "      <th>50%</th>\n",
       "      <td>0.256510</td>\n",
       "      <td>0.000000</td>\n",
       "      <td>9.690000</td>\n",
       "      <td>0.000000</td>\n",
       "      <td>0.538000</td>\n",
       "      <td>6.208500</td>\n",
       "      <td>77.500000</td>\n",
       "      <td>3.207450</td>\n",
       "      <td>5.000000</td>\n",
       "      <td>330.000000</td>\n",
       "      <td>19.050000</td>\n",
       "      <td>391.440000</td>\n",
       "      <td>11.360000</td>\n",
       "    </tr>\n",
       "    <tr>\n",
       "      <th>75%</th>\n",
       "      <td>3.677083</td>\n",
       "      <td>12.500000</td>\n",
       "      <td>18.100000</td>\n",
       "      <td>0.000000</td>\n",
       "      <td>0.624000</td>\n",
       "      <td>6.623500</td>\n",
       "      <td>94.075000</td>\n",
       "      <td>5.188425</td>\n",
       "      <td>24.000000</td>\n",
       "      <td>666.000000</td>\n",
       "      <td>20.200000</td>\n",
       "      <td>396.225000</td>\n",
       "      <td>16.955000</td>\n",
       "    </tr>\n",
       "    <tr>\n",
       "      <th>max</th>\n",
       "      <td>88.976200</td>\n",
       "      <td>100.000000</td>\n",
       "      <td>27.740000</td>\n",
       "      <td>1.000000</td>\n",
       "      <td>0.871000</td>\n",
       "      <td>8.780000</td>\n",
       "      <td>100.000000</td>\n",
       "      <td>12.126500</td>\n",
       "      <td>24.000000</td>\n",
       "      <td>711.000000</td>\n",
       "      <td>22.000000</td>\n",
       "      <td>396.900000</td>\n",
       "      <td>37.970000</td>\n",
       "    </tr>\n",
       "  </tbody>\n",
       "</table>\n",
       "</div>"
      ],
      "text/plain": [
       "             CRIM          ZN       INDUS        CHAS         NOX          RM  \\\n",
       "count  506.000000  506.000000  506.000000  506.000000  506.000000  506.000000   \n",
       "mean     3.613524   11.363636   11.136779    0.069170    0.554695    6.284634   \n",
       "std      8.601545   23.322453    6.860353    0.253994    0.115878    0.702617   \n",
       "min      0.006320    0.000000    0.460000    0.000000    0.385000    3.561000   \n",
       "25%      0.082045    0.000000    5.190000    0.000000    0.449000    5.885500   \n",
       "50%      0.256510    0.000000    9.690000    0.000000    0.538000    6.208500   \n",
       "75%      3.677083   12.500000   18.100000    0.000000    0.624000    6.623500   \n",
       "max     88.976200  100.000000   27.740000    1.000000    0.871000    8.780000   \n",
       "\n",
       "              AGE         DIS         RAD         TAX     PTRATIO           B  \\\n",
       "count  506.000000  506.000000  506.000000  506.000000  506.000000  506.000000   \n",
       "mean    68.574901    3.795043    9.549407  408.237154   18.455534  356.674032   \n",
       "std     28.148861    2.105710    8.707259  168.537116    2.164946   91.294864   \n",
       "min      2.900000    1.129600    1.000000  187.000000   12.600000    0.320000   \n",
       "25%     45.025000    2.100175    4.000000  279.000000   17.400000  375.377500   \n",
       "50%     77.500000    3.207450    5.000000  330.000000   19.050000  391.440000   \n",
       "75%     94.075000    5.188425   24.000000  666.000000   20.200000  396.225000   \n",
       "max    100.000000   12.126500   24.000000  711.000000   22.000000  396.900000   \n",
       "\n",
       "            LSTAT  \n",
       "count  506.000000  \n",
       "mean    12.653063  \n",
       "std      7.141062  \n",
       "min      1.730000  \n",
       "25%      6.950000  \n",
       "50%     11.360000  \n",
       "75%     16.955000  \n",
       "max     37.970000  "
      ]
     },
     "execution_count": 52,
     "metadata": {},
     "output_type": "execute_result"
    }
   ],
   "source": [
    "boston_df.describe()\n"
   ]
  },
  {
   "cell_type": "code",
   "execution_count": null,
   "metadata": {},
   "outputs": [],
   "source": []
  },
  {
   "cell_type": "markdown",
   "metadata": {},
   "source": [
    "get outlier row indexes for CRIM col"
   ]
  },
  {
   "cell_type": "code",
   "execution_count": 53,
   "metadata": {},
   "outputs": [
    {
     "data": {
      "text/plain": [
       "(-5.31051125, 9.06963875)"
      ]
     },
     "execution_count": 53,
     "metadata": {},
     "output_type": "execute_result"
    }
   ],
   "source": [
    "col_name = 'CRIM'\n",
    "low  = Q1[col_name] - 1.5 * IQR[col_name]\n",
    "high = Q3[col_name] + 1.5 * IQR[col_name]\n",
    "\n",
    "low, high"
   ]
  },
  {
   "cell_type": "code",
   "execution_count": 54,
   "metadata": {},
   "outputs": [
    {
     "data": {
      "text/plain": [
       "Int64Index([367, 371, 373, 374, 375, 376, 377, 378, 379, 380, 381, 382, 384,\n",
       "            385, 386, 387, 388, 392, 394, 398, 399, 400, 401, 402, 403, 404,\n",
       "            405, 406, 407, 409, 410, 411, 412, 413, 414, 415, 416, 417, 418,\n",
       "            419, 420, 422, 425, 426, 427, 429, 431, 434, 435, 436, 437, 438,\n",
       "            439, 440, 441, 443, 444, 445, 447, 448, 454, 468, 469, 477, 478,\n",
       "            479],\n",
       "           dtype='int64')"
      ]
     },
     "execution_count": 54,
     "metadata": {},
     "output_type": "execute_result"
    }
   ],
   "source": [
    "# Filtering Values between Q1-1.5IQR and Q3+1.5IQR\n",
    "query_string = '{} < @low or {} > @high'.format(col_name, col_name)\n",
    "\n",
    "outlier_arr1 = boston_df.query(query_string).index\n",
    "outlier_arr1"
   ]
  },
  {
   "cell_type": "code",
   "execution_count": 55,
   "metadata": {},
   "outputs": [],
   "source": [
    "xdf = pd.DataFrame(boston_df.query(query_string)['CRIM'], columns=['col_val'])\n",
    "xdf['outlier_pos'] = 'low'\n",
    "xdf['col_name'] = 'CRIM'"
   ]
  },
  {
   "cell_type": "code",
   "execution_count": 56,
   "metadata": {},
   "outputs": [
    {
     "data": {
      "text/html": [
       "<div>\n",
       "<style scoped>\n",
       "    .dataframe tbody tr th:only-of-type {\n",
       "        vertical-align: middle;\n",
       "    }\n",
       "\n",
       "    .dataframe tbody tr th {\n",
       "        vertical-align: top;\n",
       "    }\n",
       "\n",
       "    .dataframe thead th {\n",
       "        text-align: right;\n",
       "    }\n",
       "</style>\n",
       "<table border=\"1\" class=\"dataframe\">\n",
       "  <thead>\n",
       "    <tr style=\"text-align: right;\">\n",
       "      <th></th>\n",
       "      <th>col_val</th>\n",
       "      <th>outlier_pos</th>\n",
       "      <th>col_name</th>\n",
       "    </tr>\n",
       "  </thead>\n",
       "  <tbody>\n",
       "  </tbody>\n",
       "</table>\n",
       "</div>"
      ],
      "text/plain": [
       "Empty DataFrame\n",
       "Columns: [col_val, outlier_pos, col_name]\n",
       "Index: []"
      ]
     },
     "execution_count": 56,
     "metadata": {},
     "output_type": "execute_result"
    }
   ],
   "source": [
    "xdf.head(10)"
   ]
  },
  {
   "cell_type": "markdown",
   "metadata": {},
   "source": [
    "get outlier row indexes for ZN col"
   ]
  },
  {
   "cell_type": "code",
   "execution_count": 57,
   "metadata": {},
   "outputs": [
    {
     "data": {
      "text/plain": [
       "(-18.75, 31.25)"
      ]
     },
     "execution_count": 57,
     "metadata": {},
     "output_type": "execute_result"
    }
   ],
   "source": [
    "col_name = 'ZN'\n",
    "low  = Q1[col_name] - 1.5 * IQR[col_name]\n",
    "high = Q3[col_name] + 1.5 * IQR[col_name]\n",
    "\n",
    "low, high"
   ]
  },
  {
   "cell_type": "code",
   "execution_count": 58,
   "metadata": {},
   "outputs": [
    {
     "data": {
      "text/plain": [
       "Int64Index([ 39,  40,  54,  55,  56,  57,  65,  66, 187, 188, 189, 190, 191,\n",
       "            192, 193, 194, 195, 196, 197, 198, 199, 200, 201, 202, 203, 204,\n",
       "            254, 255, 256, 274, 275, 276, 277, 278, 283, 284, 285, 286, 287,\n",
       "            288, 289, 290, 291, 292, 298, 299, 300, 301, 302, 303, 304, 305,\n",
       "            306, 307, 331, 332, 341, 343, 344, 347, 348, 349, 350, 351, 352,\n",
       "            353, 354, 355],\n",
       "           dtype='int64')"
      ]
     },
     "execution_count": 58,
     "metadata": {},
     "output_type": "execute_result"
    }
   ],
   "source": [
    "# Filtering Values between Q1-1.5IQR and Q3+1.5IQR\n",
    "query_string = '{} < @low or {} > @high'.format(col_name, col_name)\n",
    "\n",
    "outlier_arr2 = boston_df.query(query_string).index\n",
    "outlier_arr2"
   ]
  },
  {
   "cell_type": "code",
   "execution_count": 59,
   "metadata": {},
   "outputs": [
    {
     "data": {
      "text/plain": [
       "Int64Index([ 39,  40,  54,  55,  56,  57,  65,  66, 187, 188,\n",
       "            ...\n",
       "            444, 445, 447, 448, 454, 468, 469, 477, 478, 479],\n",
       "           dtype='int64', length=134)"
      ]
     },
     "execution_count": 59,
     "metadata": {},
     "output_type": "execute_result"
    }
   ],
   "source": [
    "outlier_arr1.union(outlier_arr2)"
   ]
  },
  {
   "cell_type": "markdown",
   "metadata": {},
   "source": [
    "get outlier row indexes for all cols"
   ]
  },
  {
   "cell_type": "code",
   "execution_count": 60,
   "metadata": {},
   "outputs": [],
   "source": [
    "init = False\n",
    "\n",
    "for col_name in list(boston_df.columns):\n",
    "\n",
    "    low  = Q1[col_name] - 1.5 * IQR[col_name]\n",
    "    high = Q3[col_name] + 1.5 * IQR[col_name]\n",
    "\n",
    "    query_string = '{} < @low or {} > @high'.format(col_name, col_name)\n",
    "\n",
    "    outlier_arr_loop = boston_df.query(query_string).index\n",
    "    \n",
    "    if not init:\n",
    "        outlier_arr = outlier_arr_loop\n",
    "        init = True\n",
    "    \n",
    "    outlier_arr = outlier_arr.union(outlier_arr_loop)"
   ]
  },
  {
   "cell_type": "code",
   "execution_count": 61,
   "metadata": {},
   "outputs": [
    {
     "data": {
      "text/plain": [
       "232"
      ]
     },
     "execution_count": 61,
     "metadata": {},
     "output_type": "execute_result"
    }
   ],
   "source": [
    "len(outlier_arr)"
   ]
  },
  {
   "cell_type": "code",
   "execution_count": 62,
   "metadata": {},
   "outputs": [
    {
     "data": {
      "text/html": [
       "<div>\n",
       "<style scoped>\n",
       "    .dataframe tbody tr th:only-of-type {\n",
       "        vertical-align: middle;\n",
       "    }\n",
       "\n",
       "    .dataframe tbody tr th {\n",
       "        vertical-align: top;\n",
       "    }\n",
       "\n",
       "    .dataframe thead th {\n",
       "        text-align: right;\n",
       "    }\n",
       "</style>\n",
       "<table border=\"1\" class=\"dataframe\">\n",
       "  <thead>\n",
       "    <tr style=\"text-align: right;\">\n",
       "      <th></th>\n",
       "      <th>CRIM</th>\n",
       "      <th>ZN</th>\n",
       "      <th>INDUS</th>\n",
       "      <th>CHAS</th>\n",
       "      <th>NOX</th>\n",
       "      <th>RM</th>\n",
       "      <th>AGE</th>\n",
       "      <th>DIS</th>\n",
       "      <th>RAD</th>\n",
       "      <th>TAX</th>\n",
       "      <th>PTRATIO</th>\n",
       "      <th>B</th>\n",
       "      <th>LSTAT</th>\n",
       "    </tr>\n",
       "  </thead>\n",
       "  <tbody>\n",
       "    <tr>\n",
       "      <th>18</th>\n",
       "      <td>0.80271</td>\n",
       "      <td>0.0</td>\n",
       "      <td>8.14</td>\n",
       "      <td>0.0</td>\n",
       "      <td>0.538</td>\n",
       "      <td>5.456</td>\n",
       "      <td>36.6</td>\n",
       "      <td>3.7965</td>\n",
       "      <td>4.0</td>\n",
       "      <td>307.0</td>\n",
       "      <td>21.0</td>\n",
       "      <td>288.99</td>\n",
       "      <td>11.69</td>\n",
       "    </tr>\n",
       "    <tr>\n",
       "      <th>25</th>\n",
       "      <td>0.84054</td>\n",
       "      <td>0.0</td>\n",
       "      <td>8.14</td>\n",
       "      <td>0.0</td>\n",
       "      <td>0.538</td>\n",
       "      <td>5.599</td>\n",
       "      <td>85.7</td>\n",
       "      <td>4.4546</td>\n",
       "      <td>4.0</td>\n",
       "      <td>307.0</td>\n",
       "      <td>21.0</td>\n",
       "      <td>303.42</td>\n",
       "      <td>16.51</td>\n",
       "    </tr>\n",
       "    <tr>\n",
       "      <th>27</th>\n",
       "      <td>0.95577</td>\n",
       "      <td>0.0</td>\n",
       "      <td>8.14</td>\n",
       "      <td>0.0</td>\n",
       "      <td>0.538</td>\n",
       "      <td>6.047</td>\n",
       "      <td>88.8</td>\n",
       "      <td>4.4534</td>\n",
       "      <td>4.0</td>\n",
       "      <td>307.0</td>\n",
       "      <td>21.0</td>\n",
       "      <td>306.38</td>\n",
       "      <td>17.28</td>\n",
       "    </tr>\n",
       "    <tr>\n",
       "      <th>32</th>\n",
       "      <td>1.38799</td>\n",
       "      <td>0.0</td>\n",
       "      <td>8.14</td>\n",
       "      <td>0.0</td>\n",
       "      <td>0.538</td>\n",
       "      <td>5.950</td>\n",
       "      <td>82.0</td>\n",
       "      <td>3.9900</td>\n",
       "      <td>4.0</td>\n",
       "      <td>307.0</td>\n",
       "      <td>21.0</td>\n",
       "      <td>232.60</td>\n",
       "      <td>27.71</td>\n",
       "    </tr>\n",
       "    <tr>\n",
       "      <th>34</th>\n",
       "      <td>1.61282</td>\n",
       "      <td>0.0</td>\n",
       "      <td>8.14</td>\n",
       "      <td>0.0</td>\n",
       "      <td>0.538</td>\n",
       "      <td>6.096</td>\n",
       "      <td>96.9</td>\n",
       "      <td>3.7598</td>\n",
       "      <td>4.0</td>\n",
       "      <td>307.0</td>\n",
       "      <td>21.0</td>\n",
       "      <td>248.31</td>\n",
       "      <td>20.34</td>\n",
       "    </tr>\n",
       "    <tr>\n",
       "      <th>39</th>\n",
       "      <td>0.02763</td>\n",
       "      <td>75.0</td>\n",
       "      <td>2.95</td>\n",
       "      <td>0.0</td>\n",
       "      <td>0.428</td>\n",
       "      <td>6.595</td>\n",
       "      <td>21.8</td>\n",
       "      <td>5.4011</td>\n",
       "      <td>3.0</td>\n",
       "      <td>252.0</td>\n",
       "      <td>18.3</td>\n",
       "      <td>395.63</td>\n",
       "      <td>4.32</td>\n",
       "    </tr>\n",
       "    <tr>\n",
       "      <th>40</th>\n",
       "      <td>0.03359</td>\n",
       "      <td>75.0</td>\n",
       "      <td>2.95</td>\n",
       "      <td>0.0</td>\n",
       "      <td>0.428</td>\n",
       "      <td>7.024</td>\n",
       "      <td>15.8</td>\n",
       "      <td>5.4011</td>\n",
       "      <td>3.0</td>\n",
       "      <td>252.0</td>\n",
       "      <td>18.3</td>\n",
       "      <td>395.62</td>\n",
       "      <td>1.98</td>\n",
       "    </tr>\n",
       "    <tr>\n",
       "      <th>54</th>\n",
       "      <td>0.01360</td>\n",
       "      <td>75.0</td>\n",
       "      <td>4.00</td>\n",
       "      <td>0.0</td>\n",
       "      <td>0.410</td>\n",
       "      <td>5.888</td>\n",
       "      <td>47.6</td>\n",
       "      <td>7.3197</td>\n",
       "      <td>3.0</td>\n",
       "      <td>469.0</td>\n",
       "      <td>21.1</td>\n",
       "      <td>396.90</td>\n",
       "      <td>14.80</td>\n",
       "    </tr>\n",
       "    <tr>\n",
       "      <th>55</th>\n",
       "      <td>0.01311</td>\n",
       "      <td>90.0</td>\n",
       "      <td>1.22</td>\n",
       "      <td>0.0</td>\n",
       "      <td>0.403</td>\n",
       "      <td>7.249</td>\n",
       "      <td>21.9</td>\n",
       "      <td>8.6966</td>\n",
       "      <td>5.0</td>\n",
       "      <td>226.0</td>\n",
       "      <td>17.9</td>\n",
       "      <td>395.93</td>\n",
       "      <td>4.81</td>\n",
       "    </tr>\n",
       "    <tr>\n",
       "      <th>56</th>\n",
       "      <td>0.02055</td>\n",
       "      <td>85.0</td>\n",
       "      <td>0.74</td>\n",
       "      <td>0.0</td>\n",
       "      <td>0.410</td>\n",
       "      <td>6.383</td>\n",
       "      <td>35.7</td>\n",
       "      <td>9.1876</td>\n",
       "      <td>2.0</td>\n",
       "      <td>313.0</td>\n",
       "      <td>17.3</td>\n",
       "      <td>396.90</td>\n",
       "      <td>5.77</td>\n",
       "    </tr>\n",
       "  </tbody>\n",
       "</table>\n",
       "</div>"
      ],
      "text/plain": [
       "       CRIM    ZN  INDUS  CHAS    NOX     RM   AGE     DIS  RAD    TAX  \\\n",
       "18  0.80271   0.0   8.14   0.0  0.538  5.456  36.6  3.7965  4.0  307.0   \n",
       "25  0.84054   0.0   8.14   0.0  0.538  5.599  85.7  4.4546  4.0  307.0   \n",
       "27  0.95577   0.0   8.14   0.0  0.538  6.047  88.8  4.4534  4.0  307.0   \n",
       "32  1.38799   0.0   8.14   0.0  0.538  5.950  82.0  3.9900  4.0  307.0   \n",
       "34  1.61282   0.0   8.14   0.0  0.538  6.096  96.9  3.7598  4.0  307.0   \n",
       "39  0.02763  75.0   2.95   0.0  0.428  6.595  21.8  5.4011  3.0  252.0   \n",
       "40  0.03359  75.0   2.95   0.0  0.428  7.024  15.8  5.4011  3.0  252.0   \n",
       "54  0.01360  75.0   4.00   0.0  0.410  5.888  47.6  7.3197  3.0  469.0   \n",
       "55  0.01311  90.0   1.22   0.0  0.403  7.249  21.9  8.6966  5.0  226.0   \n",
       "56  0.02055  85.0   0.74   0.0  0.410  6.383  35.7  9.1876  2.0  313.0   \n",
       "\n",
       "    PTRATIO       B  LSTAT  \n",
       "18     21.0  288.99  11.69  \n",
       "25     21.0  303.42  16.51  \n",
       "27     21.0  306.38  17.28  \n",
       "32     21.0  232.60  27.71  \n",
       "34     21.0  248.31  20.34  \n",
       "39     18.3  395.63   4.32  \n",
       "40     18.3  395.62   1.98  \n",
       "54     21.1  396.90  14.80  \n",
       "55     17.9  395.93   4.81  \n",
       "56     17.3  396.90   5.77  "
      ]
     },
     "execution_count": 62,
     "metadata": {},
     "output_type": "execute_result"
    }
   ],
   "source": [
    "boston_df.iloc[outlier_arr].head(10)"
   ]
  },
  {
   "cell_type": "markdown",
   "metadata": {},
   "source": [
    "#### Deeper outlier analysis"
   ]
  },
  {
   "cell_type": "code",
   "execution_count": 63,
   "metadata": {},
   "outputs": [],
   "source": [
    "init = False\n",
    "outliers_arr_low  = pd.DataFrame()\n",
    "outliers_arr_high = pd.DataFrame()\n",
    "\n",
    "outliers_arr      = pd.DataFrame(columns=['col_val', 'outlier_pos', 'outlier_val', 'col_name'])\n",
    "\n",
    "for col_name in list(boston_df.columns):\n",
    "\n",
    "    low  = Q1[col_name] - 1.5 * IQR[col_name]\n",
    "    high = Q3[col_name] + 1.5 * IQR[col_name]\n",
    "\n",
    "    query_string_low  = '{} < @low'.format(col_name)\n",
    "    query_string_high = '{} > @high'.format(col_name)\n",
    "    \n",
    "    # below low outliers     \n",
    "    outliers_arr_low = pd.DataFrame(boston_df.query(query_string_low)[col_name])\n",
    "    # , columns=['col_val']\n",
    "    outliers_arr_low['outlier_pos'] = 'low'\n",
    "    outliers_arr_low['outlier_val'] = low\n",
    "    outliers_arr_low['col_name']    = col_name\n",
    "  \n",
    "    # above high outliers\n",
    "    outliers_arr_high = pd.DataFrame(boston_df.query(query_string_high)[col_name])\n",
    "    # , columns=['col_val']\n",
    "    outliers_arr_high['outlier_pos'] = 'high'\n",
    "    outliers_arr_high['outlier_val'] = high\n",
    "    outliers_arr_high['col_name']    = col_name\n",
    "    \n",
    "#     if outliers_arr.empty:\n",
    "#         outliers_arr = outliers_arr_low.copy()\n",
    "#     else:\n",
    "    outliers_arr = pd.concat([outliers_arr, outliers_arr_low], ignore_index=False)\n",
    "    \n",
    "    outliers_arr = pd.concat([outliers_arr, outliers_arr_high], ignore_index=False ) "
   ]
  },
  {
   "cell_type": "code",
   "execution_count": 64,
   "metadata": {},
   "outputs": [
    {
     "data": {
      "text/html": [
       "<div>\n",
       "<style scoped>\n",
       "    .dataframe tbody tr th:only-of-type {\n",
       "        vertical-align: middle;\n",
       "    }\n",
       "\n",
       "    .dataframe tbody tr th {\n",
       "        vertical-align: top;\n",
       "    }\n",
       "\n",
       "    .dataframe thead th {\n",
       "        text-align: right;\n",
       "    }\n",
       "</style>\n",
       "<table border=\"1\" class=\"dataframe\">\n",
       "  <thead>\n",
       "    <tr style=\"text-align: right;\">\n",
       "      <th></th>\n",
       "      <th>col_val</th>\n",
       "      <th>outlier_pos</th>\n",
       "      <th>outlier_val</th>\n",
       "      <th>col_name</th>\n",
       "      <th>CRIM</th>\n",
       "      <th>ZN</th>\n",
       "      <th>INDUS</th>\n",
       "      <th>CHAS</th>\n",
       "      <th>NOX</th>\n",
       "      <th>RM</th>\n",
       "      <th>AGE</th>\n",
       "      <th>DIS</th>\n",
       "      <th>RAD</th>\n",
       "      <th>TAX</th>\n",
       "      <th>PTRATIO</th>\n",
       "      <th>B</th>\n",
       "      <th>LSTAT</th>\n",
       "    </tr>\n",
       "  </thead>\n",
       "  <tbody>\n",
       "    <tr>\n",
       "      <th>367</th>\n",
       "      <td>NaN</td>\n",
       "      <td>high</td>\n",
       "      <td>9.069639</td>\n",
       "      <td>CRIM</td>\n",
       "      <td>13.5222</td>\n",
       "      <td>NaN</td>\n",
       "      <td>NaN</td>\n",
       "      <td>NaN</td>\n",
       "      <td>NaN</td>\n",
       "      <td>NaN</td>\n",
       "      <td>NaN</td>\n",
       "      <td>NaN</td>\n",
       "      <td>NaN</td>\n",
       "      <td>NaN</td>\n",
       "      <td>NaN</td>\n",
       "      <td>NaN</td>\n",
       "      <td>NaN</td>\n",
       "    </tr>\n",
       "    <tr>\n",
       "      <th>371</th>\n",
       "      <td>NaN</td>\n",
       "      <td>high</td>\n",
       "      <td>9.069639</td>\n",
       "      <td>CRIM</td>\n",
       "      <td>9.2323</td>\n",
       "      <td>NaN</td>\n",
       "      <td>NaN</td>\n",
       "      <td>NaN</td>\n",
       "      <td>NaN</td>\n",
       "      <td>NaN</td>\n",
       "      <td>NaN</td>\n",
       "      <td>NaN</td>\n",
       "      <td>NaN</td>\n",
       "      <td>NaN</td>\n",
       "      <td>NaN</td>\n",
       "      <td>NaN</td>\n",
       "      <td>NaN</td>\n",
       "    </tr>\n",
       "    <tr>\n",
       "      <th>373</th>\n",
       "      <td>NaN</td>\n",
       "      <td>high</td>\n",
       "      <td>9.069639</td>\n",
       "      <td>CRIM</td>\n",
       "      <td>11.1081</td>\n",
       "      <td>NaN</td>\n",
       "      <td>NaN</td>\n",
       "      <td>NaN</td>\n",
       "      <td>NaN</td>\n",
       "      <td>NaN</td>\n",
       "      <td>NaN</td>\n",
       "      <td>NaN</td>\n",
       "      <td>NaN</td>\n",
       "      <td>NaN</td>\n",
       "      <td>NaN</td>\n",
       "      <td>NaN</td>\n",
       "      <td>NaN</td>\n",
       "    </tr>\n",
       "    <tr>\n",
       "      <th>374</th>\n",
       "      <td>NaN</td>\n",
       "      <td>high</td>\n",
       "      <td>9.069639</td>\n",
       "      <td>CRIM</td>\n",
       "      <td>18.4982</td>\n",
       "      <td>NaN</td>\n",
       "      <td>NaN</td>\n",
       "      <td>NaN</td>\n",
       "      <td>NaN</td>\n",
       "      <td>NaN</td>\n",
       "      <td>NaN</td>\n",
       "      <td>NaN</td>\n",
       "      <td>NaN</td>\n",
       "      <td>NaN</td>\n",
       "      <td>NaN</td>\n",
       "      <td>NaN</td>\n",
       "      <td>NaN</td>\n",
       "    </tr>\n",
       "    <tr>\n",
       "      <th>375</th>\n",
       "      <td>NaN</td>\n",
       "      <td>high</td>\n",
       "      <td>9.069639</td>\n",
       "      <td>CRIM</td>\n",
       "      <td>19.6091</td>\n",
       "      <td>NaN</td>\n",
       "      <td>NaN</td>\n",
       "      <td>NaN</td>\n",
       "      <td>NaN</td>\n",
       "      <td>NaN</td>\n",
       "      <td>NaN</td>\n",
       "      <td>NaN</td>\n",
       "      <td>NaN</td>\n",
       "      <td>NaN</td>\n",
       "      <td>NaN</td>\n",
       "      <td>NaN</td>\n",
       "      <td>NaN</td>\n",
       "    </tr>\n",
       "    <tr>\n",
       "      <th>...</th>\n",
       "      <td>...</td>\n",
       "      <td>...</td>\n",
       "      <td>...</td>\n",
       "      <td>...</td>\n",
       "      <td>...</td>\n",
       "      <td>...</td>\n",
       "      <td>...</td>\n",
       "      <td>...</td>\n",
       "      <td>...</td>\n",
       "      <td>...</td>\n",
       "      <td>...</td>\n",
       "      <td>...</td>\n",
       "      <td>...</td>\n",
       "      <td>...</td>\n",
       "      <td>...</td>\n",
       "      <td>...</td>\n",
       "      <td>...</td>\n",
       "    </tr>\n",
       "    <tr>\n",
       "      <th>374</th>\n",
       "      <td>NaN</td>\n",
       "      <td>high</td>\n",
       "      <td>31.962500</td>\n",
       "      <td>LSTAT</td>\n",
       "      <td>NaN</td>\n",
       "      <td>NaN</td>\n",
       "      <td>NaN</td>\n",
       "      <td>NaN</td>\n",
       "      <td>NaN</td>\n",
       "      <td>NaN</td>\n",
       "      <td>NaN</td>\n",
       "      <td>NaN</td>\n",
       "      <td>NaN</td>\n",
       "      <td>NaN</td>\n",
       "      <td>NaN</td>\n",
       "      <td>NaN</td>\n",
       "      <td>37.97</td>\n",
       "    </tr>\n",
       "    <tr>\n",
       "      <th>387</th>\n",
       "      <td>NaN</td>\n",
       "      <td>high</td>\n",
       "      <td>31.962500</td>\n",
       "      <td>LSTAT</td>\n",
       "      <td>NaN</td>\n",
       "      <td>NaN</td>\n",
       "      <td>NaN</td>\n",
       "      <td>NaN</td>\n",
       "      <td>NaN</td>\n",
       "      <td>NaN</td>\n",
       "      <td>NaN</td>\n",
       "      <td>NaN</td>\n",
       "      <td>NaN</td>\n",
       "      <td>NaN</td>\n",
       "      <td>NaN</td>\n",
       "      <td>NaN</td>\n",
       "      <td>31.99</td>\n",
       "    </tr>\n",
       "    <tr>\n",
       "      <th>412</th>\n",
       "      <td>NaN</td>\n",
       "      <td>high</td>\n",
       "      <td>31.962500</td>\n",
       "      <td>LSTAT</td>\n",
       "      <td>NaN</td>\n",
       "      <td>NaN</td>\n",
       "      <td>NaN</td>\n",
       "      <td>NaN</td>\n",
       "      <td>NaN</td>\n",
       "      <td>NaN</td>\n",
       "      <td>NaN</td>\n",
       "      <td>NaN</td>\n",
       "      <td>NaN</td>\n",
       "      <td>NaN</td>\n",
       "      <td>NaN</td>\n",
       "      <td>NaN</td>\n",
       "      <td>34.37</td>\n",
       "    </tr>\n",
       "    <tr>\n",
       "      <th>414</th>\n",
       "      <td>NaN</td>\n",
       "      <td>high</td>\n",
       "      <td>31.962500</td>\n",
       "      <td>LSTAT</td>\n",
       "      <td>NaN</td>\n",
       "      <td>NaN</td>\n",
       "      <td>NaN</td>\n",
       "      <td>NaN</td>\n",
       "      <td>NaN</td>\n",
       "      <td>NaN</td>\n",
       "      <td>NaN</td>\n",
       "      <td>NaN</td>\n",
       "      <td>NaN</td>\n",
       "      <td>NaN</td>\n",
       "      <td>NaN</td>\n",
       "      <td>NaN</td>\n",
       "      <td>36.98</td>\n",
       "    </tr>\n",
       "    <tr>\n",
       "      <th>438</th>\n",
       "      <td>NaN</td>\n",
       "      <td>high</td>\n",
       "      <td>31.962500</td>\n",
       "      <td>LSTAT</td>\n",
       "      <td>NaN</td>\n",
       "      <td>NaN</td>\n",
       "      <td>NaN</td>\n",
       "      <td>NaN</td>\n",
       "      <td>NaN</td>\n",
       "      <td>NaN</td>\n",
       "      <td>NaN</td>\n",
       "      <td>NaN</td>\n",
       "      <td>NaN</td>\n",
       "      <td>NaN</td>\n",
       "      <td>NaN</td>\n",
       "      <td>NaN</td>\n",
       "      <td>34.02</td>\n",
       "    </tr>\n",
       "  </tbody>\n",
       "</table>\n",
       "<p>303 rows × 17 columns</p>\n",
       "</div>"
      ],
      "text/plain": [
       "    col_val outlier_pos  outlier_val col_name     CRIM  ZN  INDUS  CHAS  NOX  \\\n",
       "367     NaN        high     9.069639     CRIM  13.5222 NaN    NaN   NaN  NaN   \n",
       "371     NaN        high     9.069639     CRIM   9.2323 NaN    NaN   NaN  NaN   \n",
       "373     NaN        high     9.069639     CRIM  11.1081 NaN    NaN   NaN  NaN   \n",
       "374     NaN        high     9.069639     CRIM  18.4982 NaN    NaN   NaN  NaN   \n",
       "375     NaN        high     9.069639     CRIM  19.6091 NaN    NaN   NaN  NaN   \n",
       "..      ...         ...          ...      ...      ...  ..    ...   ...  ...   \n",
       "374     NaN        high    31.962500    LSTAT      NaN NaN    NaN   NaN  NaN   \n",
       "387     NaN        high    31.962500    LSTAT      NaN NaN    NaN   NaN  NaN   \n",
       "412     NaN        high    31.962500    LSTAT      NaN NaN    NaN   NaN  NaN   \n",
       "414     NaN        high    31.962500    LSTAT      NaN NaN    NaN   NaN  NaN   \n",
       "438     NaN        high    31.962500    LSTAT      NaN NaN    NaN   NaN  NaN   \n",
       "\n",
       "     RM  AGE  DIS  RAD  TAX  PTRATIO   B  LSTAT  \n",
       "367 NaN  NaN  NaN  NaN  NaN      NaN NaN    NaN  \n",
       "371 NaN  NaN  NaN  NaN  NaN      NaN NaN    NaN  \n",
       "373 NaN  NaN  NaN  NaN  NaN      NaN NaN    NaN  \n",
       "374 NaN  NaN  NaN  NaN  NaN      NaN NaN    NaN  \n",
       "375 NaN  NaN  NaN  NaN  NaN      NaN NaN    NaN  \n",
       "..   ..  ...  ...  ...  ...      ...  ..    ...  \n",
       "374 NaN  NaN  NaN  NaN  NaN      NaN NaN  37.97  \n",
       "387 NaN  NaN  NaN  NaN  NaN      NaN NaN  31.99  \n",
       "412 NaN  NaN  NaN  NaN  NaN      NaN NaN  34.37  \n",
       "414 NaN  NaN  NaN  NaN  NaN      NaN NaN  36.98  \n",
       "438 NaN  NaN  NaN  NaN  NaN      NaN NaN  34.02  \n",
       "\n",
       "[303 rows x 17 columns]"
      ]
     },
     "execution_count": 64,
     "metadata": {},
     "output_type": "execute_result"
    }
   ],
   "source": [
    "outliers_arr"
   ]
  },
  {
   "cell_type": "markdown",
   "metadata": {},
   "source": [
    "# Example 2\n",
    "\n",
    "#### Parametric methods: Univariate\n",
    "Create a dummy dataframe where features have normal distributions to practice parametric methods."
   ]
  },
  {
   "cell_type": "code",
   "execution_count": 65,
   "metadata": {
    "jupyter": {
     "outputs_hidden": true
    }
   },
   "outputs": [],
   "source": [
    "# seed for reproducibility\n",
    "np.random.seed(42)\n",
    "\n",
    "n_feats=4\n",
    "\n",
    "# dummydf = pd.DataFrame(np.random.normal(scale=10.0, size=(1000, n_feats)),\n",
    "#                        columns=['feature{}'.format(i) for i in range(n_feats)])\n",
    "\n",
    "dummydf = pd.DataFrame(np.random.normal(scale=10.0, \n",
    "                                        size=(1000, n_feats)),\n",
    "                       columns=['feature0', 'feature1', 'feature3', 'features4' ])"
   ]
  },
  {
   "cell_type": "code",
   "execution_count": 66,
   "metadata": {},
   "outputs": [
    {
     "data": {
      "text/html": [
       "<div>\n",
       "<style scoped>\n",
       "    .dataframe tbody tr th:only-of-type {\n",
       "        vertical-align: middle;\n",
       "    }\n",
       "\n",
       "    .dataframe tbody tr th {\n",
       "        vertical-align: top;\n",
       "    }\n",
       "\n",
       "    .dataframe thead th {\n",
       "        text-align: right;\n",
       "    }\n",
       "</style>\n",
       "<table border=\"1\" class=\"dataframe\">\n",
       "  <thead>\n",
       "    <tr style=\"text-align: right;\">\n",
       "      <th></th>\n",
       "      <th>feature0</th>\n",
       "      <th>feature1</th>\n",
       "      <th>feature3</th>\n",
       "      <th>features4</th>\n",
       "    </tr>\n",
       "  </thead>\n",
       "  <tbody>\n",
       "    <tr>\n",
       "      <th>0</th>\n",
       "      <td>4.967142</td>\n",
       "      <td>-1.382643</td>\n",
       "      <td>6.476885</td>\n",
       "      <td>15.230299</td>\n",
       "    </tr>\n",
       "    <tr>\n",
       "      <th>1</th>\n",
       "      <td>-2.341534</td>\n",
       "      <td>-2.341370</td>\n",
       "      <td>15.792128</td>\n",
       "      <td>7.674347</td>\n",
       "    </tr>\n",
       "    <tr>\n",
       "      <th>2</th>\n",
       "      <td>-4.694744</td>\n",
       "      <td>5.425600</td>\n",
       "      <td>-4.634177</td>\n",
       "      <td>-4.657298</td>\n",
       "    </tr>\n",
       "    <tr>\n",
       "      <th>3</th>\n",
       "      <td>2.419623</td>\n",
       "      <td>-19.132802</td>\n",
       "      <td>-17.249178</td>\n",
       "      <td>-5.622875</td>\n",
       "    </tr>\n",
       "    <tr>\n",
       "      <th>4</th>\n",
       "      <td>-10.128311</td>\n",
       "      <td>3.142473</td>\n",
       "      <td>-9.080241</td>\n",
       "      <td>-14.123037</td>\n",
       "    </tr>\n",
       "  </tbody>\n",
       "</table>\n",
       "</div>"
      ],
      "text/plain": [
       "    feature0   feature1   feature3  features4\n",
       "0   4.967142  -1.382643   6.476885  15.230299\n",
       "1  -2.341534  -2.341370  15.792128   7.674347\n",
       "2  -4.694744   5.425600  -4.634177  -4.657298\n",
       "3   2.419623 -19.132802 -17.249178  -5.622875\n",
       "4 -10.128311   3.142473  -9.080241 -14.123037"
      ]
     },
     "execution_count": 66,
     "metadata": {},
     "output_type": "execute_result"
    }
   ],
   "source": [
    "dummydf.head(5)"
   ]
  },
  {
   "cell_type": "code",
   "execution_count": 67,
   "metadata": {},
   "outputs": [
    {
     "data": {
      "image/png": "[encoded data removed]",
      "text/plain": [
       "<Figure size 648x432 with 4 Axes>"
      ]
     },
     "metadata": {
      "needs_background": "light"
     },
     "output_type": "display_data"
    }
   ],
   "source": [
    "# all normally distributed\n",
    "dummydf.hist(figsize=(9,6), xlabelsize = 8);"
   ]
  },
  {
   "cell_type": "code",
   "execution_count": 68,
   "metadata": {},
   "outputs": [
    {
     "data": {
      "text/html": [
       "<div>\n",
       "<style scoped>\n",
       "    .dataframe tbody tr th:only-of-type {\n",
       "        vertical-align: middle;\n",
       "    }\n",
       "\n",
       "    .dataframe tbody tr th {\n",
       "        vertical-align: top;\n",
       "    }\n",
       "\n",
       "    .dataframe thead th {\n",
       "        text-align: right;\n",
       "    }\n",
       "</style>\n",
       "<table border=\"1\" class=\"dataframe\">\n",
       "  <thead>\n",
       "    <tr style=\"text-align: right;\">\n",
       "      <th></th>\n",
       "      <th>feature0</th>\n",
       "      <th>feature1</th>\n",
       "      <th>feature3</th>\n",
       "      <th>features4</th>\n",
       "    </tr>\n",
       "  </thead>\n",
       "  <tbody>\n",
       "    <tr>\n",
       "      <th>count</th>\n",
       "      <td>1000.000000</td>\n",
       "      <td>1000.000000</td>\n",
       "      <td>1000.000000</td>\n",
       "      <td>1000.000000</td>\n",
       "    </tr>\n",
       "    <tr>\n",
       "      <th>mean</th>\n",
       "      <td>0.306239</td>\n",
       "      <td>0.248285</td>\n",
       "      <td>-0.082552</td>\n",
       "      <td>0.300861</td>\n",
       "    </tr>\n",
       "    <tr>\n",
       "      <th>std</th>\n",
       "      <td>9.639191</td>\n",
       "      <td>10.118843</td>\n",
       "      <td>10.060754</td>\n",
       "      <td>10.069640</td>\n",
       "    </tr>\n",
       "    <tr>\n",
       "      <th>min</th>\n",
       "      <td>-30.195122</td>\n",
       "      <td>-28.962554</td>\n",
       "      <td>-32.412673</td>\n",
       "      <td>-29.911360</td>\n",
       "    </tr>\n",
       "    <tr>\n",
       "      <th>25%</th>\n",
       "      <td>-6.129422</td>\n",
       "      <td>-6.770368</td>\n",
       "      <td>-6.752986</td>\n",
       "      <td>-6.708710</td>\n",
       "    </tr>\n",
       "    <tr>\n",
       "      <th>50%</th>\n",
       "      <td>0.561874</td>\n",
       "      <td>0.202097</td>\n",
       "      <td>-0.075088</td>\n",
       "      <td>0.211577</td>\n",
       "    </tr>\n",
       "    <tr>\n",
       "      <th>75%</th>\n",
       "      <td>6.648813</td>\n",
       "      <td>6.938808</td>\n",
       "      <td>6.422820</td>\n",
       "      <td>6.958780</td>\n",
       "    </tr>\n",
       "    <tr>\n",
       "      <th>max</th>\n",
       "      <td>32.430930</td>\n",
       "      <td>38.527315</td>\n",
       "      <td>31.520567</td>\n",
       "      <td>39.262377</td>\n",
       "    </tr>\n",
       "  </tbody>\n",
       "</table>\n",
       "</div>"
      ],
      "text/plain": [
       "          feature0     feature1     feature3    features4\n",
       "count  1000.000000  1000.000000  1000.000000  1000.000000\n",
       "mean      0.306239     0.248285    -0.082552     0.300861\n",
       "std       9.639191    10.118843    10.060754    10.069640\n",
       "min     -30.195122   -28.962554   -32.412673   -29.911360\n",
       "25%      -6.129422    -6.770368    -6.752986    -6.708710\n",
       "50%       0.561874     0.202097    -0.075088     0.211577\n",
       "75%       6.648813     6.938808     6.422820     6.958780\n",
       "max      32.430930    38.527315    31.520567    39.262377"
      ]
     },
     "execution_count": 68,
     "metadata": {},
     "output_type": "execute_result"
    }
   ],
   "source": [
    "# # enough variation between features to show outliers\n",
    "dummydf.describe()"
   ]
  },
  {
   "cell_type": "markdown",
   "metadata": {},
   "source": [
    "#### Define two functions that statistically identify outliers in a pandas Series using a standard deviation and interquartile range method."
   ]
  },
  {
   "cell_type": "code",
   "execution_count": 69,
   "metadata": {
    "jupyter": {
     "outputs_hidden": true
    }
   },
   "outputs": [],
   "source": [
    "def out_std(s, nstd=3.0):\n",
    "    # , return_thresholds=False\n",
    "    \n",
    "    \"\"\"\n",
    "    Return a boolean mask of outliers for a series\n",
    "    using standard deviation, works column-wise.\n",
    "    \n",
    "    param nstd:\n",
    "        Set number of standard deviations from the mean to consider an outlier\n",
    "        :type nstd: ``float``\n",
    "    \n",
    "    param return_thresholds:\n",
    "        True returns the lower and upper bounds, good for plotting.\n",
    "        False returns the masked array \n",
    "        :type return_thresholds: ``bool``\n",
    "    \"\"\"\n",
    "    data_mean, data_std = s.mean(), s.std()\n",
    "    \n",
    "    cut_off = data_std * nstd\n",
    "    \n",
    "    lower, upper = data_mean - cut_off, data_mean + cut_off\n",
    "    \n",
    "#     if return_thresholds:\n",
    "#         return lower, upper\n",
    "#     else:\n",
    "#         return [True if x < lower or x > upper else False for x in s]\n",
    "    return lower, upper, [True if x < lower or x > upper else False for x in s]"
   ]
  },
  {
   "cell_type": "code",
   "execution_count": 70,
   "metadata": {
    "jupyter": {
     "outputs_hidden": true
    }
   },
   "outputs": [],
   "source": [
    "def out_iqr(s, k=1.5, return_thresholds=False):\n",
    "    \"\"\"\n",
    "    Return a boolean mask of outliers for a series\n",
    "    using interquartile range, works column-wise.\n",
    "    param k:\n",
    "        some cutoff to multiply by the iqr\n",
    "    :type k: ``float``\n",
    "    param return_thresholds:\n",
    "        True returns the lower and upper bounds, good for plotting.\n",
    "        False returns the masked array \n",
    "    :type return_thresholds: ``bool``\n",
    "    \"\"\"\n",
    "    # calculate interquartile range\n",
    "    q25, q75 = np.percentile(s, 25), np.percentile(s, 75)\n",
    "    iqr = q75 - q25\n",
    "    \n",
    "    # calculate the outlier cutoff\n",
    "    cut_off = iqr * k\n",
    "    lower, upper = q25 - cut_off, q75 + cut_off\n",
    "    \n",
    "    if return_thresholds:\n",
    "        return lower, upper\n",
    "    else: # identify outliers\n",
    "        return [True if x < lower or x > upper else False for x in s]"
   ]
  },
  {
   "cell_type": "markdown",
   "metadata": {},
   "source": [
    "#### Standard Deviation method"
   ]
  },
  {
   "cell_type": "code",
   "execution_count": 71,
   "metadata": {},
   "outputs": [
    {
     "name": "stdout",
     "output_type": "stream",
     "text": [
      "-28.611334931388793 29.223813199865955\n"
     ]
    },
    {
     "data": {
      "text/plain": [
       "[False, False, False, False, False, False, False, False, False, False]"
      ]
     },
     "execution_count": 71,
     "metadata": {},
     "output_type": "execute_result"
    }
   ],
   "source": [
    "# outlier_mask is a boolean list identifies the indices of the outliers\n",
    "lower, upper, outlier_mask = out_std(dummydf['feature0'], nstd=3)\n",
    "\n",
    "# first 10 elements\n",
    "print(lower, upper)\n",
    "outlier_mask[:10]"
   ]
  },
  {
   "cell_type": "code",
   "execution_count": 72,
   "metadata": {},
   "outputs": [
    {
     "data": {
      "text/html": [
       "<div>\n",
       "<style scoped>\n",
       "    .dataframe tbody tr th:only-of-type {\n",
       "        vertical-align: middle;\n",
       "    }\n",
       "\n",
       "    .dataframe tbody tr th {\n",
       "        vertical-align: top;\n",
       "    }\n",
       "\n",
       "    .dataframe thead th {\n",
       "        text-align: right;\n",
       "    }\n",
       "</style>\n",
       "<table border=\"1\" class=\"dataframe\">\n",
       "  <thead>\n",
       "    <tr style=\"text-align: right;\">\n",
       "      <th></th>\n",
       "      <th>feature0</th>\n",
       "    </tr>\n",
       "  </thead>\n",
       "  <tbody>\n",
       "    <tr>\n",
       "      <th>506</th>\n",
       "      <td>-30.195122</td>\n",
       "    </tr>\n",
       "    <tr>\n",
       "      <th>788</th>\n",
       "      <td>-29.069882</td>\n",
       "    </tr>\n",
       "    <tr>\n",
       "      <th>929</th>\n",
       "      <td>32.430930</td>\n",
       "    </tr>\n",
       "  </tbody>\n",
       "</table>\n",
       "</div>"
      ],
      "text/plain": [
       "      feature0\n",
       "506 -30.195122\n",
       "788 -29.069882\n",
       "929  32.430930"
      ]
     },
     "execution_count": 72,
     "metadata": {},
     "output_type": "execute_result"
    }
   ],
   "source": [
    "# get all the outlier data\n",
    "\n",
    "#dummydf['feature0'][outlier_mask]\n",
    "dummydf.loc[outlier_mask, ['feature0']]"
   ]
  },
  {
   "cell_type": "code",
   "execution_count": 73,
   "metadata": {},
   "outputs": [
    {
     "data": {
      "text/plain": [
       "506"
      ]
     },
     "execution_count": 73,
     "metadata": {},
     "output_type": "execute_result"
    }
   ],
   "source": [
    "# python list gets the first index\n",
    "outlier_mask.index(True)"
   ]
  },
  {
   "cell_type": "code",
   "execution_count": 74,
   "metadata": {},
   "outputs": [
    {
     "data": {
      "text/plain": [
       "(array([506, 788, 929], dtype=int64),)"
      ]
     },
     "execution_count": 74,
     "metadata": {},
     "output_type": "execute_result"
    }
   ],
   "source": [
    "# convert the outlier_mask to numpy array\n",
    "np_outlier_mask = np.array(outlier_mask)\n",
    "\n",
    "np.where(np_outlier_mask == True)"
   ]
  },
  {
   "cell_type": "code",
   "execution_count": 75,
   "metadata": {},
   "outputs": [
    {
     "name": "stderr",
     "output_type": "stream",
     "text": [
      "C:\\Users\\pogupt\\anaconda3\\lib\\site-packages\\seaborn\\distributions.py:2557: FutureWarning: `distplot` is a deprecated function and will be removed in a future version. Please adapt your code to use either `displot` (a figure-level function with similar flexibility) or `histplot` (an axes-level function for histograms).\n",
      "  warnings.warn(msg, FutureWarning)\n"
     ]
    },
    {
     "data": {
      "image/png": "[encoded data removed]",
      "text/plain": [
       "<Figure size 576x432 with 1 Axes>"
      ]
     },
     "metadata": {
      "needs_background": "light"
     },
     "output_type": "display_data"
    }
   ],
   "source": [
    "plt.figure(figsize=(8,6))\n",
    "sns.distplot(dummydf['feature0'], kde=False);\n",
    "plt.vlines(dummydf['feature0'][outlier_mask], ymin=0, ymax=110, linestyles='dashed');"
   ]
  },
  {
   "cell_type": "code",
   "execution_count": null,
   "metadata": {
    "jupyter": {
     "outputs_hidden": true
    }
   },
   "outputs": [],
   "source": []
  },
  {
   "cell_type": "code",
   "execution_count": null,
   "metadata": {
    "jupyter": {
     "outputs_hidden": true
    }
   },
   "outputs": [],
   "source": []
  }
 ],
 "metadata": {
  "kernelspec": {
   "display_name": "Python 3 (ipykernel)",
   "language": "python",
   "name": "python3"
  },
  "language_info": {
   "codemirror_mode": {
    "name": "ipython",
    "version": 3
   },
   "file_extension": ".py",
   "mimetype": "text/x-python",
   "name": "python",
   "nbconvert_exporter": "python",
   "pygments_lexer": "ipython3",
   "version": "3.9.12"
  },
  "latex_envs": {
   "LaTeX_envs_menu_present": true,
   "autoclose": false,
   "autocomplete": true,
   "bibliofile": "biblio.bib",
   "cite_by": "apalike",
   "current_citInitial": 1,
   "eqLabelWithNumbers": true,
   "eqNumInitial": 1,
   "hotkeys": {
    "equation": "Ctrl-E",
    "itemize": "Ctrl-I"
   },
   "labels_anchors": false,
   "latex_user_defs": false,
   "report_style_numbering": false,
   "user_envs_cfg": false
  },
  "toc": {
   "base_numbering": 1,
   "nav_menu": {},
   "number_sections": true,
   "sideBar": true,
   "skip_h1_title": false,
   "title_cell": "Table of Contents",
   "title_sidebar": "Contents",
   "toc_cell": false,
   "toc_position": {},
   "toc_section_display": true,
   "toc_window_display": false
  }
 },
 "nbformat": 4,
 "nbformat_minor": 4
}
